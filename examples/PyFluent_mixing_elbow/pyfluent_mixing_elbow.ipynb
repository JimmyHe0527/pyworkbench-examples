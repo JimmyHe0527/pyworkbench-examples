{
 "cells": [
  {
   "cell_type": "code",
   "execution_count": 5,
   "metadata": {},
   "outputs": [],
   "source": [
    "from ansys.workbench.core import launch_workbench"
   ]
  },
  {
   "cell_type": "code",
   "execution_count": 15,
   "metadata": {},
   "outputs": [],
   "source": [
    "import ansys.fluent.core as pyfluent\n",
    "from ansys.fluent.core import examples"
   ]
  },
  {
   "cell_type": "code",
   "execution_count": 6,
   "metadata": {},
   "outputs": [],
   "source": [
    "# launch Workbench service on the local machine; using some options\n",
    "\n",
    "client_dir = r'D:\\users\\mvani\\PyWB\\PyWB-examples\\pyfluent_mixing_elbow\\client_work_dir'\n",
    "server_dir = r'D:\\users\\mvani\\PyWB\\PyWB-examples\\pyfluent_mixing_elbow\\server_work_dir'\n",
    "\n",
    "host = 'localhost'\n",
    "release = '241'\n",
    "\n",
    "wb = launch_workbench(release=release, server_workdir=server_dir, client_workdir=client_dir)"
   ]
  },
  {
   "cell_type": "code",
   "execution_count": 13,
   "metadata": {},
   "outputs": [
    {
     "name": "stderr",
     "output_type": "stream",
     "text": [
      "Uploading create_flu_comp.wbjn: 100%|██████████| 87.0/87.0 [00:00<00:00, 9.73kB/s]\n"
     ]
    }
   ],
   "source": [
    "wb.upload_file(\"create_flu_comp.wbjn\")"
   ]
  },
  {
   "cell_type": "code",
   "execution_count": 19,
   "metadata": {},
   "outputs": [
    {
     "name": "stderr",
     "output_type": "stream",
     "text": [
      "Uploading mixing_elbow.msh.h5: 100%|██████████| 2.68M/2.68M [00:00<00:00, 399MB/s]\n"
     ]
    }
   ],
   "source": [
    "wb.upload_file(\"mixing_elbow.msh.h5\")"
   ]
  },
  {
   "cell_type": "code",
   "execution_count": 14,
   "metadata": {},
   "outputs": [
    {
     "data": {
      "text/plain": [
       "{}"
      ]
     },
     "execution_count": 14,
     "metadata": {},
     "output_type": "execute_result"
    }
   ],
   "source": [
    "# run a Workbench script to define the project and load geometry\n",
    "\n",
    "wb.run_script_string('template1 = GetTemplate(TemplateName=\"FLUENT\")', log_level='info')\n",
    "wb.run_script_string('system1 = template1.CreateSystem()')\n"
   ]
  },
  {
   "cell_type": "markdown",
   "metadata": {},
   "source": [
    "###############################################################################\n",
    "# Launch Fluent\n",
    "# ~~~~~~~~~~~~~\n",
    "# Launch Fluent as a service in meshing mode with double precision running on\n",
    "# two processors."
   ]
  },
  {
   "cell_type": "code",
   "execution_count": 20,
   "metadata": {},
   "outputs": [],
   "source": [
    "server_info_file = wb.start_fluent_server(system_name= \"FLU\")\n",
    "fluent_session = pyfluent.connect_to_fluent(server_info_filepath= server_info_file)"
   ]
  },
  {
   "cell_type": "markdown",
   "metadata": {},
   "source": [
    "###############################################################################\n",
    "# Import mesh and perform mesh check\n",
    "# ~~~~~~~~~~~~~~~~~~~~~~~~~~~~~~~~~~\n",
    "# Import the mesh and perform a mesh check, which lists the minimum and maximum\n",
    "# x, y, and z values from the mesh in the default SI units of meters. The mesh\n",
    "# check also reports a number of other mesh features that are checked. Any errors\n",
    "# in the mesh are reported. Ensure that the minimum volume is not negative because\n",
    "# Fluent cannot begin a calculation when this is the case."
   ]
  },
  {
   "cell_type": "code",
   "execution_count": 21,
   "metadata": {},
   "outputs": [
    {
     "name": "stdout",
     "output_type": "stream",
     "text": [
      "Fast-loading \"C:\\PROGRA~1\\ANSYSI~1\\v241\\fluent\\fluent24.1.0\\\\addons\\afd\\lib\\hdfio.bin\"\n",
      "Done.\n",
      "\n",
      "AAPBUvD3ch0CsRJ has other FLUENT parallel processes running.                       Process affinity not being set.\n",
      "\n",
      "Reading from AAPBUvD3ch0CsRJ:\"C:\\Users\\mkvani\\AppData\\Local\\Ansys\\ansys_fluent_core\\examples\\mixing_elbow.msh.h5\" in NODE0 mode ...\n",
      "  Reading mesh ...\n",
      "       17822 cells,     1 cell zone  ...\n",
      "          17822 mixed cells,  zone id: 87\n",
      "       91581 faces,     7 face zones ...\n",
      "           2168 polygonal wall faces,  zone id: 34\n",
      "            268 polygonal wall faces,  zone id: 33\n",
      "            155 polygonal pressure-outlet faces,  zone id: 32\n",
      "            152 polygonal velocity-inlet faces,  zone id: 31\n",
      "             55 polygonal velocity-inlet faces,  zone id: 30\n",
      "           2001 polygonal symmetry faces,  zone id: 29\n",
      "          86782 mixed interior faces,  zone id: 89\n",
      "       66417 nodes,     3 node zones ...\n",
      "\n",
      "Building...\n",
      "     mesh\n",
      "     materials,\n",
      "     interface,\n",
      "     domains,\n",
      "     zones,\n",
      "\tSkipping thread 20 of domain 1 (not referenced by grid).\n",
      "\tSkipping thread 21 of domain 1 (not referenced by grid).\n",
      "\tSkipping thread 22 of domain 1 (not referenced by grid).\n",
      "\tSkipping thread 23 of domain 1 (not referenced by grid).\n",
      "\tSkipping thread 24 of domain 1 (not referenced by grid).\n",
      "\tSkipping thread 25 of domain 1 (not referenced by grid).\n",
      "\tSkipping thread 26 of domain 1 (not referenced by grid).\n",
      "\tSkipping thread 27 of domain 1 (not referenced by grid).\n",
      "\tSkipping thread 28 of domain 1 (not referenced by grid).\n",
      "\twall-elbow\n",
      "\twall-inlet\n",
      "\toutlet\n",
      "\tcold-inlet\n",
      "\thot-inlet\n",
      "\tsymmetry-xyplane\n",
      "\tinterior--elbow-fluid\n",
      "\telbow-fluid\n",
      "     parallel,\n",
      "Done.\n",
      "Mesh is now scaled to meters.\n",
      "\n",
      "Preparing mesh for display...\n",
      "Done.\n",
      "\n",
      " Feature already enabled.\n",
      "\n",
      "Writing Settings file \"C:\\Users\\mkvani\\AppData\\Local\\Temp\\WB_mkvani_75080_2\\wbnew_files\\dp0\\FLU\\Fluent\\mixing_elbow.set\"...\n",
      "\twriting rp variables ... Done.\n",
      "\twriting domain variables ... Done.\n",
      "\twriting elbow-fluid (type fluid) (mixture) ... Done.\n",
      "\twriting interior--elbow-fluid (type interior) (mixture) ... Done.\n",
      "\twriting symmetry-xyplane (type symmetry) (mixture) ... Done.\n",
      "\twriting hot-inlet (type velocity-inlet) (mixture) ... Done.\n",
      "\twriting cold-inlet (type velocity-inlet) (mixture) ... Done.\n",
      "\twriting outlet (type pressure-outlet) (mixture) ... Done.\n",
      "\twriting wall-inlet (type wall) (mixture) ... Done.\n",
      "\twriting wall-elbow (type wall) (mixture) ... Done.\n",
      "\twriting zones map name-id ... Done.\n"
     ]
    },
    {
     "name": "stderr",
     "output_type": "stream",
     "text": [
      "pyfluent.tui WARNING: Currently calling the TUI commands in a generic manner. Please run `python codegen/allapigen.py` from the top-level pyfluent directory to generate the local TUI commands classes.\n",
      "WARNING:pyfluent.tui:Currently calling the TUI commands in a generic manner. Please run `python codegen/allapigen.py` from the top-level pyfluent directory to generate the local TUI commands classes.\n"
     ]
    },
    {
     "name": "stdout",
     "output_type": "stream",
     "text": [
      "\n",
      " Domain Extents:\n",
      "   x-coordinate: min (m) = -2.000000e-01, max (m) = 2.000000e-01\n",
      "   y-coordinate: min (m) = -2.250000e-01, max (m) = 2.000000e-01\n",
      "   z-coordinate: min (m) = 0.000000e+00, max (m) = 4.992265e-02\n",
      " Volume statistics:\n",
      "   minimum volume (m3): 2.443845e-10\n",
      "   maximum volume (m3): 5.720378e-07\n",
      "     total volume (m3): 2.500656e-03\n",
      " Face area statistics:\n",
      "   minimum face area (m2): 3.226186e-08\n",
      "   maximum face area (m2): 7.873458e-05\n",
      " Checking mesh............................\n",
      "Done.\n",
      "\n",
      "Note: Settings to improve the robustness of pathline and\n",
      "      particle tracking have been automatically enabled.\n",
      "\n"
     ]
    }
   ],
   "source": [
    "fluent_session.file.read(file_type=\"case\", file_name=import_filename)\n",
    "fluent_session.tui.mesh.check()"
   ]
  },
  {
   "cell_type": "markdown",
   "metadata": {},
   "source": [
    "###############################################################################\n",
    "# Set working units for mesh\n",
    "# ~~~~~~~~~~~~~~~~~~~~~~~~~~\n",
    "# Set the working units for the mesh to inches. Because the default SI units are\n",
    "# used for everything except length, you do not have to change any other units\n",
    "# in this example. If you want working units for length to be other than inches\n",
    "# (for example, millimeters), make the appropriate change."
   ]
  },
  {
   "cell_type": "code",
   "execution_count": 23,
   "metadata": {},
   "outputs": [],
   "source": [
    "fluent_session.tui.define.units(\"length\", \"in\")"
   ]
  },
  {
   "cell_type": "markdown",
   "metadata": {},
   "source": [
    "###############################################################################\n",
    "# Enable heat transfer\n",
    "# ~~~~~~~~~~~~~~~~~~~~\n",
    "# Enable heat transfer by activating the energy equation."
   ]
  },
  {
   "cell_type": "code",
   "execution_count": 24,
   "metadata": {},
   "outputs": [],
   "source": [
    "fluent_session.setup.models.energy.enabled = True"
   ]
  },
  {
   "cell_type": "markdown",
   "metadata": {},
   "source": [
    "###############################################################################\n",
    "# Create material\n",
    "# ~~~~~~~~~~~~~~~\n",
    "# Create a material named ``\"water-liquid\"``."
   ]
  },
  {
   "cell_type": "code",
   "execution_count": 25,
   "metadata": {},
   "outputs": [
    {
     "name": "stdout",
     "output_type": "stream",
     "text": [
      " \n"
     ]
    },
    {
     "data": {
      "text/plain": [
       "False"
      ]
     },
     "execution_count": 25,
     "metadata": {},
     "output_type": "execute_result"
    },
    {
     "name": "stdout",
     "output_type": "stream",
     "text": [
      "water-liquid copied from database.\n",
      "\n"
     ]
    }
   ],
   "source": [
    "fluent_session.setup.materials.database.copy_by_name(type=\"fluid\", name=\"water-liquid\")"
   ]
  },
  {
   "cell_type": "markdown",
   "metadata": {},
   "source": [
    "###############################################################################\n",
    "# Set up cell zone conditions\n",
    "# ~~~~~~~~~~~~~~~~~~~~~~~~~~~\n",
    "# Set up the cell zone conditions for the fluid zone (``elbow-fluid``). Set ``material``\n",
    "# to ``\"water-liquid\"``."
   ]
  },
  {
   "cell_type": "code",
   "execution_count": 26,
   "metadata": {},
   "outputs": [],
   "source": [
    "fluent_session.setup.cell_zone_conditions.fluid[\"elbow-fluid\"].material = \"water-liquid\""
   ]
  },
  {
   "cell_type": "markdown",
   "metadata": {},
   "source": [
    "###############################################################################\n",
    "# Set up boundary conditions for CFD analysis\n",
    "# ~~~~~~~~~~~~~~~~~~~~~~~~~~~~~~~~~~~~~~~~~~~\n",
    "# Set up the boundary conditions for the inlets, outlet, and walls for CFD\n",
    "# analysis.\n",
    "\n",
    "# cold inlet (cold-inlet), Setting: Value:\n",
    "# Velocity Specification Method: Magnitude, Normal to Boundary\n",
    "# Velocity Magnitude: 0.4 [m/s]\n",
    "# Specification Method: Intensity and Hydraulic Diameter\n",
    "# Turbulent Intensity: 5 [%]\n",
    "# Hydraulic Diameter: 4 [inch]\n",
    "# Temperature: 293.15 [K]"
   ]
  },
  {
   "cell_type": "code",
   "execution_count": 27,
   "metadata": {},
   "outputs": [],
   "source": [
    "cold_inlet = fluent_session.setup.boundary_conditions.velocity_inlet[\"cold-inlet\"]"
   ]
  },
  {
   "cell_type": "code",
   "execution_count": 34,
   "metadata": {},
   "outputs": [
    {
     "data": {
      "text/plain": [
       "{'name': 'cold-inlet',\n",
       " 'momentum': {'velocity_specification_method': 'Magnitude, Normal to Boundary',\n",
       "  'reference_frame': 'Absolute',\n",
       "  'velocity': {'option': 'value', 'value': 0},\n",
       "  'initial_gauge_pressure': {'option': 'value', 'value': 0}},\n",
       " 'turbulence': {'turbulent_specification': 'Intensity and Viscosity Ratio',\n",
       "  'turbulent_intensity': 0.05,\n",
       "  'turbulent_viscosity_ratio_real': 10},\n",
       " 'thermal': {'t': {'option': 'value', 'value': 300}}}"
      ]
     },
     "execution_count": 34,
     "metadata": {},
     "output_type": "execute_result"
    }
   ],
   "source": [
    "cold_inlet.get_state()\n"
   ]
  },
  {
   "cell_type": "code",
   "execution_count": 31,
   "metadata": {},
   "outputs": [
    {
     "ename": "AttributeError",
     "evalue": "vmag is not an allowed Settings objects name.\nThe most similar names are: thermal.",
     "output_type": "error",
     "traceback": [
      "\u001b[1;31m---------------------------------------------------------------------------\u001b[0m",
      "\u001b[1;31mAttributeError\u001b[0m                            Traceback (most recent call last)",
      "File \u001b[1;32md:\\users\\mvani\\PyWB\\PyWB-examples\\pyworkbench-examples\\pywb_env\\lib\\site-packages\\ansys\\fluent\\core\\solver\\flobject.py:515\u001b[0m, in \u001b[0;36mGroup.__getattribute__\u001b[1;34m(self, name)\u001b[0m\n\u001b[0;32m    514\u001b[0m \u001b[39mtry\u001b[39;00m:\n\u001b[1;32m--> 515\u001b[0m     \u001b[39mreturn\u001b[39;00m \u001b[39msuper\u001b[39;49m()\u001b[39m.\u001b[39;49m\u001b[39m__getattribute__\u001b[39;49m(name)\n\u001b[0;32m    516\u001b[0m \u001b[39mexcept\u001b[39;00m \u001b[39mAttributeError\u001b[39;00m \u001b[39mas\u001b[39;00m ex:\n",
      "\u001b[1;31mAttributeError\u001b[0m: 'child_object_type' object has no attribute 'vmag'",
      "\nThe above exception was the direct cause of the following exception:\n",
      "\u001b[1;31mAttributeError\u001b[0m                            Traceback (most recent call last)",
      "Cell \u001b[1;32mIn[31], line 1\u001b[0m\n\u001b[1;32m----> 1\u001b[0m \u001b[43mcold_inlet\u001b[49m\u001b[38;5;241;43m.\u001b[39;49m\u001b[43mvmag\u001b[49m\u001b[38;5;241m.\u001b[39mvalue \u001b[38;5;241m=\u001b[39m \u001b[38;5;241m0.4\u001b[39m\n\u001b[0;32m      2\u001b[0m cold_inlet\u001b[38;5;241m.\u001b[39mke_spec \u001b[38;5;241m=\u001b[39m \u001b[38;5;124m\"\u001b[39m\u001b[38;5;124mIntensity and Hydraulic Diameter\u001b[39m\u001b[38;5;124m\"\u001b[39m\n\u001b[0;32m      3\u001b[0m cold_inlet\u001b[38;5;241m.\u001b[39mturb_intensity \u001b[38;5;241m=\u001b[39m \u001b[38;5;241m0.05\u001b[39m\n",
      "File \u001b[1;32md:\\users\\mvani\\PyWB\\PyWB-examples\\pyworkbench-examples\\pywb_env\\lib\\site-packages\\ansys\\fluent\\core\\solver\\flobject.py:518\u001b[0m, in \u001b[0;36mGroup.__getattribute__\u001b[1;34m(self, name)\u001b[0m\n\u001b[0;32m    516\u001b[0m \u001b[39mexcept\u001b[39;00m \u001b[39mAttributeError\u001b[39;00m \u001b[39mas\u001b[39;00m ex:\n\u001b[0;32m    517\u001b[0m     \u001b[39mself\u001b[39m\u001b[39m.\u001b[39m_get_parent_of_active_child_names(name)\n\u001b[1;32m--> 518\u001b[0m     \u001b[39mraise\u001b[39;00m \u001b[39mAttributeError\u001b[39;00m(\n\u001b[0;32m    519\u001b[0m         allowed_name_error_message(\n\u001b[0;32m    520\u001b[0m             \u001b[39m\"\u001b[39m\u001b[39mSettings objects\u001b[39m\u001b[39m\"\u001b[39m, name, \u001b[39msuper\u001b[39m()\u001b[39m.\u001b[39m\u001b[39m__getattribute__\u001b[39m(\u001b[39m\"\u001b[39m\u001b[39mchild_names\u001b[39m\u001b[39m\"\u001b[39m)\n\u001b[0;32m    521\u001b[0m         )\n\u001b[0;32m    522\u001b[0m     ) \u001b[39mfrom\u001b[39;00m \u001b[39mex\u001b[39;00m\n",
      "\u001b[1;31mAttributeError\u001b[0m: vmag is not an allowed Settings objects name.\nThe most similar names are: thermal."
     ]
    }
   ],
   "source": [
    "cold_inlet.vmag.value = 0.4\n",
    "cold_inlet.ke_spec = \"Intensity and Hydraulic Diameter\"\n",
    "cold_inlet.turb_intensity = 0.05\n",
    "cold_inlet.turb_hydraulic_diam = \"4 [in]\"\n",
    "cold_inlet.t = 293.15"
   ]
  }
 ],
 "metadata": {
  "kernelspec": {
   "display_name": "Python 3.8.10 ('pywb_env': venv)",
   "language": "python",
   "name": "python3"
  },
  "language_info": {
   "codemirror_mode": {
    "name": "ipython",
    "version": 3
   },
   "file_extension": ".py",
   "mimetype": "text/x-python",
   "name": "python",
   "nbconvert_exporter": "python",
   "pygments_lexer": "ipython3",
   "version": "3.8.10"
  },
  "orig_nbformat": 4,
  "vscode": {
   "interpreter": {
    "hash": "5f23ad26fee7c19123ec76d553ab471d3eaf1846113f788a900a81491aee844f"
   }
  }
 },
 "nbformat": 4,
 "nbformat_minor": 2
}
