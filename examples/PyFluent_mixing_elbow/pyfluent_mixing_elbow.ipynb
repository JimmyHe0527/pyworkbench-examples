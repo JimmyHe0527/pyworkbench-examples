{
 "cells": [
  {
   "cell_type": "code",
   "execution_count": 5,
   "metadata": {},
   "outputs": [],
   "source": [
    "from ansys.workbench.core import launch_workbench"
   ]
  },
  {
   "cell_type": "code",
   "execution_count": 6,
   "metadata": {},
   "outputs": [],
   "source": [
    "# launch Workbench service on the local machine; using some options\n",
    "\n",
    "client_dir = r'D:\\users\\mvani\\PyWB\\PyWB-examples\\pyfluent_mixing_elbow\\client_work_dir'\n",
    "server_dir = r'D:\\users\\mvani\\PyWB\\PyWB-examples\\pyfluent_mixing_elbow\\server_work_dir'\n",
    "\n",
    "host = 'localhost'\n",
    "release = '241'\n",
    "\n",
    "wb = launch_workbench(release=release, server_workdir=server_dir, client_workdir=client_dir)"
   ]
  },
  {
   "cell_type": "code",
   "execution_count": 13,
   "metadata": {},
   "outputs": [
    {
     "name": "stderr",
     "output_type": "stream",
     "text": [
      "Uploading create_flu_comp.wbjn: 100%|██████████| 87.0/87.0 [00:00<00:00, 9.73kB/s]\n"
     ]
    }
   ],
   "source": [
    "wb.upload_file(\"create_flu_comp.wbjn\")"
   ]
  },
  {
   "cell_type": "code",
   "execution_count": 14,
   "metadata": {},
   "outputs": [
    {
     "data": {
      "text/plain": [
       "{}"
      ]
     },
     "execution_count": 14,
     "metadata": {},
     "output_type": "execute_result"
    }
   ],
   "source": [
    "# run a Workbench script to define the project and load geometry\n",
    "\n",
    "wb.run_script_string('template1 = GetTemplate(TemplateName=\"FLUENT\")', log_level='info')\n",
    "wb.run_script_string('system1 = template1.CreateSystem()')\n"
   ]
  }
 ],
 "metadata": {
  "kernelspec": {
   "display_name": "Python 3.8.10 ('pywb_env': venv)",
   "language": "python",
   "name": "python3"
  },
  "language_info": {
   "codemirror_mode": {
    "name": "ipython",
    "version": 3
   },
   "file_extension": ".py",
   "mimetype": "text/x-python",
   "name": "python",
   "nbconvert_exporter": "python",
   "pygments_lexer": "ipython3",
   "version": "3.8.10"
  },
  "orig_nbformat": 4,
  "vscode": {
   "interpreter": {
    "hash": "5f23ad26fee7c19123ec76d553ab471d3eaf1846113f788a900a81491aee844f"
   }
  }
 },
 "nbformat": 4,
 "nbformat_minor": 2
}
