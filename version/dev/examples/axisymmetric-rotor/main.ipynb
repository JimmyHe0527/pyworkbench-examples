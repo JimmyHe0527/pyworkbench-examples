{
 "cells": [
  {
   "cell_type": "markdown",
   "id": "99c1d2e7",
   "metadata": {},
   "source": [
    "# Axisymmetric rotor"
   ]
  },
  {
   "cell_type": "markdown",
   "id": "fdfb8a47",
   "metadata": {},
   "source": [
    "This notebook demonstrates the process of running a Workbench service on a local machine to solve both 2D general axisymmetric rotor and 3D rotor models using PyMechanical. \n",
    "It includes steps for uploading project files, executing scripts, downloading results, and displaying output images."
   ]
  },
  {
   "cell_type": "code",
   "execution_count": 1,
   "id": "4c9cb865",
   "metadata": {
    "execution": {
     "iopub.execute_input": "2024-09-25T13:52:36.329344Z",
     "iopub.status.busy": "2024-09-25T13:52:36.329344Z",
     "iopub.status.idle": "2024-09-25T13:52:36.344346Z",
     "shell.execute_reply": "2024-09-25T13:52:36.344346Z"
    }
   },
   "outputs": [],
   "source": [
    "import os\n",
    "import pathlib"
   ]
  },
  {
   "cell_type": "code",
   "execution_count": 2,
   "id": "4de0f46c",
   "metadata": {
    "execution": {
     "iopub.execute_input": "2024-09-25T13:52:36.344346Z",
     "iopub.status.busy": "2024-09-25T13:52:36.344346Z",
     "iopub.status.idle": "2024-09-25T13:52:36.718713Z",
     "shell.execute_reply": "2024-09-25T13:52:36.718713Z"
    }
   },
   "outputs": [
    {
     "ename": "ModuleNotFoundError",
     "evalue": "No module named 'ansys'",
     "output_type": "error",
     "traceback": [
      "\u001b[1;31m---------------------------------------------------------------------------\u001b[0m",
      "\u001b[1;31mModuleNotFoundError\u001b[0m                       Traceback (most recent call last)",
      "Cell \u001b[1;32mIn[2], line 1\u001b[0m\n\u001b[1;32m----> 1\u001b[0m \u001b[38;5;28;01mfrom\u001b[39;00m \u001b[38;5;21;01mansys\u001b[39;00m\u001b[38;5;21;01m.\u001b[39;00m\u001b[38;5;21;01mworkbench\u001b[39;00m\u001b[38;5;21;01m.\u001b[39;00m\u001b[38;5;21;01mcore\u001b[39;00m \u001b[38;5;28;01mimport\u001b[39;00m launch_workbench\n\u001b[0;32m      2\u001b[0m \u001b[38;5;28;01mfrom\u001b[39;00m \u001b[38;5;21;01mansys\u001b[39;00m\u001b[38;5;21;01m.\u001b[39;00m\u001b[38;5;21;01mmechanical\u001b[39;00m\u001b[38;5;21;01m.\u001b[39;00m\u001b[38;5;21;01mcore\u001b[39;00m \u001b[38;5;28;01mimport\u001b[39;00m launch_mechanical\n",
      "\u001b[1;31mModuleNotFoundError\u001b[0m: No module named 'ansys'"
     ]
    }
   ],
   "source": [
    "from ansys.workbench.core import launch_workbench\n",
    "from ansys.mechanical.core import launch_mechanical"
   ]
  },
  {
   "cell_type": "markdown",
   "id": "24278fc0",
   "metadata": {},
   "source": [
    "Launch the Workbench service on the local machine using specific options.\n",
    "Define the working directory and subdirectories for assets, scripts, and geometry databases (agdb).\n",
    "The `launch_workbench` function starts a Workbench session with the specified directory."
   ]
  },
  {
   "cell_type": "code",
   "execution_count": 3,
   "id": "aa19e5fd",
   "metadata": {
    "execution": {
     "iopub.execute_input": "2024-09-25T13:52:36.718713Z",
     "iopub.status.busy": "2024-09-25T13:52:36.718713Z",
     "iopub.status.idle": "2024-09-25T13:52:36.726208Z",
     "shell.execute_reply": "2024-09-25T13:52:36.726208Z"
    }
   },
   "outputs": [],
   "source": [
    "workdir = pathlib.Path(\"__file__\").parent"
   ]
  },
  {
   "cell_type": "code",
   "execution_count": 4,
   "id": "762e8256",
   "metadata": {
    "execution": {
     "iopub.execute_input": "2024-09-25T13:52:36.726208Z",
     "iopub.status.busy": "2024-09-25T13:52:36.726208Z",
     "iopub.status.idle": "2024-09-25T13:52:36.732582Z",
     "shell.execute_reply": "2024-09-25T13:52:36.732582Z"
    }
   },
   "outputs": [],
   "source": [
    "assets = workdir / \"assets\"\n",
    "scripts = workdir / \"scripts\""
   ]
  },
  {
   "cell_type": "code",
   "execution_count": 5,
   "id": "cdfe353d",
   "metadata": {
    "execution": {
     "iopub.execute_input": "2024-09-25T13:52:36.732582Z",
     "iopub.status.busy": "2024-09-25T13:52:36.732582Z",
     "iopub.status.idle": "2024-09-25T13:52:36.753224Z",
     "shell.execute_reply": "2024-09-25T13:52:36.753224Z"
    }
   },
   "outputs": [
    {
     "ename": "NameError",
     "evalue": "name 'launch_workbench' is not defined",
     "output_type": "error",
     "traceback": [
      "\u001b[1;31m---------------------------------------------------------------------------\u001b[0m",
      "\u001b[1;31mNameError\u001b[0m                                 Traceback (most recent call last)",
      "Cell \u001b[1;32mIn[5], line 1\u001b[0m\n\u001b[1;32m----> 1\u001b[0m wb \u001b[38;5;241m=\u001b[39m \u001b[43mlaunch_workbench\u001b[49m(client_workdir\u001b[38;5;241m=\u001b[39m\u001b[38;5;28mstr\u001b[39m(workdir\u001b[38;5;241m.\u001b[39mabsolute()))\n",
      "\u001b[1;31mNameError\u001b[0m: name 'launch_workbench' is not defined"
     ]
    }
   ],
   "source": [
    "wb = launch_workbench(client_workdir=str(workdir.absolute()))"
   ]
  },
  {
   "cell_type": "markdown",
   "id": "acf4b5cf",
   "metadata": {},
   "source": [
    "Upload the project files to the server using the `upload_file_from_example_repo` method. \n",
    "The files uploaded are `axisymmetric_model.agdb`, `rotor_3d_model.agdb`. "
   ]
  },
  {
   "cell_type": "code",
   "execution_count": 6,
   "id": "06439a86",
   "metadata": {
    "execution": {
     "iopub.execute_input": "2024-09-25T13:52:36.753224Z",
     "iopub.status.busy": "2024-09-25T13:52:36.753224Z",
     "iopub.status.idle": "2024-09-25T13:52:36.774486Z",
     "shell.execute_reply": "2024-09-25T13:52:36.774486Z"
    }
   },
   "outputs": [
    {
     "ename": "NameError",
     "evalue": "name 'wb' is not defined",
     "output_type": "error",
     "traceback": [
      "\u001b[1;31m---------------------------------------------------------------------------\u001b[0m",
      "\u001b[1;31mNameError\u001b[0m                                 Traceback (most recent call last)",
      "Cell \u001b[1;32mIn[6], line 1\u001b[0m\n\u001b[1;32m----> 1\u001b[0m \u001b[43mwb\u001b[49m\u001b[38;5;241m.\u001b[39mupload_file_from_example_repo(\u001b[38;5;124m\"\u001b[39m\u001b[38;5;124maxisymmetric-rotor/agdb/axisymmetric_model.agdb\u001b[39m\u001b[38;5;124m\"\u001b[39m)\n\u001b[0;32m      2\u001b[0m wb\u001b[38;5;241m.\u001b[39mupload_file_from_example_repo(\u001b[38;5;124m\"\u001b[39m\u001b[38;5;124maxisymmetric-rotor/agdb/rotor_3d_model.agdb\u001b[39m\u001b[38;5;124m\"\u001b[39m)\n",
      "\u001b[1;31mNameError\u001b[0m: name 'wb' is not defined"
     ]
    }
   ],
   "source": [
    "wb.upload_file_from_example_repo(\"axisymmetric-rotor/agdb/axisymmetric_model.agdb\")\n",
    "wb.upload_file_from_example_repo(\"axisymmetric-rotor/agdb/rotor_3d_model.agdb\")"
   ]
  },
  {
   "cell_type": "markdown",
   "id": "078cf803",
   "metadata": {},
   "source": [
    "Execute a Workbench script (`project.wbjn`) to define the project and load the geometry.\n",
    "The log file is set to `wb_log_file.log` and the name of the system created is stored in `sys_name` and printed."
   ]
  },
  {
   "cell_type": "code",
   "execution_count": 7,
   "id": "006c1452",
   "metadata": {
    "execution": {
     "iopub.execute_input": "2024-09-25T13:52:36.774486Z",
     "iopub.status.busy": "2024-09-25T13:52:36.774486Z",
     "iopub.status.idle": "2024-09-25T13:52:36.795855Z",
     "shell.execute_reply": "2024-09-25T13:52:36.795855Z"
    }
   },
   "outputs": [
    {
     "ename": "NameError",
     "evalue": "name 'wb' is not defined",
     "output_type": "error",
     "traceback": [
      "\u001b[1;31m---------------------------------------------------------------------------\u001b[0m",
      "\u001b[1;31mNameError\u001b[0m                                 Traceback (most recent call last)",
      "Cell \u001b[1;32mIn[7], line 2\u001b[0m\n\u001b[0;32m      1\u001b[0m export_path \u001b[38;5;241m=\u001b[39m \u001b[38;5;124m'\u001b[39m\u001b[38;5;124mwb_log_file.log\u001b[39m\u001b[38;5;124m'\u001b[39m\n\u001b[1;32m----> 2\u001b[0m \u001b[43mwb\u001b[49m\u001b[38;5;241m.\u001b[39mset_log_file(export_path)\n\u001b[0;32m      3\u001b[0m sys_name \u001b[38;5;241m=\u001b[39m wb\u001b[38;5;241m.\u001b[39mrun_script_file(\u001b[38;5;28mstr\u001b[39m((assets \u001b[38;5;241m/\u001b[39m \u001b[38;5;124m\"\u001b[39m\u001b[38;5;124mproject.wbjn\u001b[39m\u001b[38;5;124m\"\u001b[39m)\u001b[38;5;241m.\u001b[39mabsolute()), log_level\u001b[38;5;241m=\u001b[39m\u001b[38;5;124m'\u001b[39m\u001b[38;5;124minfo\u001b[39m\u001b[38;5;124m'\u001b[39m)\n\u001b[0;32m      4\u001b[0m \u001b[38;5;28mprint\u001b[39m(sys_name)\n",
      "\u001b[1;31mNameError\u001b[0m: name 'wb' is not defined"
     ]
    }
   ],
   "source": [
    "export_path = 'wb_log_file.log'\n",
    "wb.set_log_file(export_path)\n",
    "sys_name = wb.run_script_file(str((assets / \"project.wbjn\").absolute()), log_level='info')\n",
    "print(sys_name)"
   ]
  },
  {
   "cell_type": "markdown",
   "id": "664ff3c2",
   "metadata": {},
   "source": [
    "Start a PyMechanical server for the system and create a PyMechanical client session to solve the 2D general axisymmetric rotor model.\n",
    "The project directory is printed to verify the connection."
   ]
  },
  {
   "cell_type": "code",
   "execution_count": 8,
   "id": "9e8ed337",
   "metadata": {
    "execution": {
     "iopub.execute_input": "2024-09-25T13:52:36.795855Z",
     "iopub.status.busy": "2024-09-25T13:52:36.795855Z",
     "iopub.status.idle": "2024-09-25T13:52:36.817350Z",
     "shell.execute_reply": "2024-09-25T13:52:36.817350Z"
    }
   },
   "outputs": [
    {
     "ename": "NameError",
     "evalue": "name 'wb' is not defined",
     "output_type": "error",
     "traceback": [
      "\u001b[1;31m---------------------------------------------------------------------------\u001b[0m",
      "\u001b[1;31mNameError\u001b[0m                                 Traceback (most recent call last)",
      "Cell \u001b[1;32mIn[8], line 1\u001b[0m\n\u001b[1;32m----> 1\u001b[0m server_port \u001b[38;5;241m=\u001b[39m \u001b[43mwb\u001b[49m\u001b[38;5;241m.\u001b[39mstart_mechanical_server(system_name\u001b[38;5;241m=\u001b[39msys_name[\u001b[38;5;241m1\u001b[39m])\n\u001b[0;32m      2\u001b[0m mechanical \u001b[38;5;241m=\u001b[39m launch_mechanical(start_instance\u001b[38;5;241m=\u001b[39m\u001b[38;5;28;01mFalse\u001b[39;00m, ip\u001b[38;5;241m=\u001b[39m\u001b[38;5;124m'\u001b[39m\u001b[38;5;124mlocalhost\u001b[39m\u001b[38;5;124m'\u001b[39m, port\u001b[38;5;241m=\u001b[39mserver_port)\n",
      "\u001b[1;31mNameError\u001b[0m: name 'wb' is not defined"
     ]
    }
   ],
   "source": [
    "server_port = wb.start_mechanical_server(system_name=sys_name[1])\n",
    "mechanical = launch_mechanical(start_instance=False, ip='localhost', port=server_port)"
   ]
  },
  {
   "cell_type": "code",
   "execution_count": 9,
   "id": "1894eda0",
   "metadata": {
    "execution": {
     "iopub.execute_input": "2024-09-25T13:52:36.817350Z",
     "iopub.status.busy": "2024-09-25T13:52:36.817350Z",
     "iopub.status.idle": "2024-09-25T13:52:36.837594Z",
     "shell.execute_reply": "2024-09-25T13:52:36.837594Z"
    }
   },
   "outputs": [
    {
     "ename": "NameError",
     "evalue": "name 'mechanical' is not defined",
     "output_type": "error",
     "traceback": [
      "\u001b[1;31m---------------------------------------------------------------------------\u001b[0m",
      "\u001b[1;31mNameError\u001b[0m                                 Traceback (most recent call last)",
      "Cell \u001b[1;32mIn[9], line 1\u001b[0m\n\u001b[1;32m----> 1\u001b[0m \u001b[38;5;28mprint\u001b[39m(\u001b[43mmechanical\u001b[49m\u001b[38;5;241m.\u001b[39mproject_directory)\n",
      "\u001b[1;31mNameError\u001b[0m: name 'mechanical' is not defined"
     ]
    }
   ],
   "source": [
    "print(mechanical.project_directory)"
   ]
  },
  {
   "cell_type": "markdown",
   "id": "70cdc45b",
   "metadata": {},
   "source": [
    "Read and execute the script `axisymmetric_rotor.py` via the PyMechanical client to mesh and solve the 2D general axisymmetric rotor model.\n",
    "The output of the script is printed."
   ]
  },
  {
   "cell_type": "code",
   "execution_count": 10,
   "id": "06917c98",
   "metadata": {
    "execution": {
     "iopub.execute_input": "2024-09-25T13:52:36.837594Z",
     "iopub.status.busy": "2024-09-25T13:52:36.837594Z",
     "iopub.status.idle": "2024-09-25T13:52:36.879314Z",
     "shell.execute_reply": "2024-09-25T13:52:36.879314Z"
    }
   },
   "outputs": [
    {
     "ename": "NameError",
     "evalue": "name 'mechanical' is not defined",
     "output_type": "error",
     "traceback": [
      "\u001b[1;31m---------------------------------------------------------------------------\u001b[0m",
      "\u001b[1;31mNameError\u001b[0m                                 Traceback (most recent call last)",
      "Cell \u001b[1;32mIn[10], line 3\u001b[0m\n\u001b[0;32m      1\u001b[0m \u001b[38;5;28;01mwith\u001b[39;00m \u001b[38;5;28mopen\u001b[39m(scripts \u001b[38;5;241m/\u001b[39m \u001b[38;5;124m\"\u001b[39m\u001b[38;5;124maxisymmetric_rotor.py\u001b[39m\u001b[38;5;124m\"\u001b[39m) \u001b[38;5;28;01mas\u001b[39;00m sf:\n\u001b[0;32m      2\u001b[0m     mech_script \u001b[38;5;241m=\u001b[39m sf\u001b[38;5;241m.\u001b[39mread()\n\u001b[1;32m----> 3\u001b[0m mech_output \u001b[38;5;241m=\u001b[39m \u001b[43mmechanical\u001b[49m\u001b[38;5;241m.\u001b[39mrun_python_script(mech_script)\n\u001b[0;32m      4\u001b[0m \u001b[38;5;28mprint\u001b[39m(mech_output)\n",
      "\u001b[1;31mNameError\u001b[0m: name 'mechanical' is not defined"
     ]
    }
   ],
   "source": [
    "with open(scripts / \"axisymmetric_rotor.py\") as sf:\n",
    "    mech_script = sf.read()\n",
    "mech_output = mechanical.run_python_script(mech_script)\n",
    "print(mech_output)"
   ]
  },
  {
   "cell_type": "markdown",
   "id": "ddcf52fa",
   "metadata": {},
   "source": [
    "Specify the Mechanical directory for the Modal Campbell Analysis and fetch the working directory path.\n",
    "Download the solver output file (`solve.out`) from the server to the client's current working directory and print its contents."
   ]
  },
  {
   "cell_type": "code",
   "execution_count": 11,
   "id": "ab1035fa",
   "metadata": {
    "execution": {
     "iopub.execute_input": "2024-09-25T13:52:36.879314Z",
     "iopub.status.busy": "2024-09-25T13:52:36.879314Z",
     "iopub.status.idle": "2024-09-25T13:52:36.904001Z",
     "shell.execute_reply": "2024-09-25T13:52:36.904001Z"
    }
   },
   "outputs": [
    {
     "ename": "NameError",
     "evalue": "name 'mechanical' is not defined",
     "output_type": "error",
     "traceback": [
      "\u001b[1;31m---------------------------------------------------------------------------\u001b[0m",
      "\u001b[1;31mNameError\u001b[0m                                 Traceback (most recent call last)",
      "Cell \u001b[1;32mIn[11], line 1\u001b[0m\n\u001b[1;32m----> 1\u001b[0m \u001b[43mmechanical\u001b[49m\u001b[38;5;241m.\u001b[39mrun_python_script(\u001b[38;5;124mf\u001b[39m\u001b[38;5;124m\"\u001b[39m\u001b[38;5;124msolve_dir=ExtAPI.DataModel.AnalysisList[2].WorkingDir\u001b[39m\u001b[38;5;124m\"\u001b[39m)\n\u001b[0;32m      2\u001b[0m result_solve_dir_server \u001b[38;5;241m=\u001b[39m mechanical\u001b[38;5;241m.\u001b[39mrun_python_script(\u001b[38;5;124mf\u001b[39m\u001b[38;5;124m\"\u001b[39m\u001b[38;5;124msolve_dir\u001b[39m\u001b[38;5;124m\"\u001b[39m)\n\u001b[0;32m      3\u001b[0m \u001b[38;5;28mprint\u001b[39m(\u001b[38;5;124mf\u001b[39m\u001b[38;5;124m\"\u001b[39m\u001b[38;5;124mAll solver files are stored on the server at: \u001b[39m\u001b[38;5;132;01m{\u001b[39;00mresult_solve_dir_server\u001b[38;5;132;01m}\u001b[39;00m\u001b[38;5;124m\"\u001b[39m)\n",
      "\u001b[1;31mNameError\u001b[0m: name 'mechanical' is not defined"
     ]
    }
   ],
   "source": [
    "mechanical.run_python_script(f\"solve_dir=ExtAPI.DataModel.AnalysisList[2].WorkingDir\")\n",
    "result_solve_dir_server = mechanical.run_python_script(f\"solve_dir\")\n",
    "print(f\"All solver files are stored on the server at: {result_solve_dir_server}\")"
   ]
  },
  {
   "cell_type": "code",
   "execution_count": 12,
   "id": "f638d7dc",
   "metadata": {
    "execution": {
     "iopub.execute_input": "2024-09-25T13:52:36.904001Z",
     "iopub.status.busy": "2024-09-25T13:52:36.904001Z",
     "iopub.status.idle": "2024-09-25T13:52:36.925247Z",
     "shell.execute_reply": "2024-09-25T13:52:36.925247Z"
    },
    "lines_to_next_cell": 1
   },
   "outputs": [
    {
     "ename": "NameError",
     "evalue": "name 'result_solve_dir_server' is not defined",
     "output_type": "error",
     "traceback": [
      "\u001b[1;31m---------------------------------------------------------------------------\u001b[0m",
      "\u001b[1;31mNameError\u001b[0m                                 Traceback (most recent call last)",
      "Cell \u001b[1;32mIn[12], line 1\u001b[0m\n\u001b[1;32m----> 1\u001b[0m solve_out_path \u001b[38;5;241m=\u001b[39m os\u001b[38;5;241m.\u001b[39mpath\u001b[38;5;241m.\u001b[39mjoin(\u001b[43mresult_solve_dir_server\u001b[49m, \u001b[38;5;124m\"\u001b[39m\u001b[38;5;124msolve.out\u001b[39m\u001b[38;5;124m\"\u001b[39m)\n",
      "\u001b[1;31mNameError\u001b[0m: name 'result_solve_dir_server' is not defined"
     ]
    }
   ],
   "source": [
    "solve_out_path = os.path.join(result_solve_dir_server, \"solve.out\")"
   ]
  },
  {
   "cell_type": "code",
   "execution_count": 13,
   "id": "6c6566e0",
   "metadata": {
    "execution": {
     "iopub.execute_input": "2024-09-25T13:52:36.925247Z",
     "iopub.status.busy": "2024-09-25T13:52:36.925247Z",
     "iopub.status.idle": "2024-09-25T13:52:36.933388Z",
     "shell.execute_reply": "2024-09-25T13:52:36.933388Z"
    },
    "lines_to_next_cell": 1
   },
   "outputs": [],
   "source": [
    "def write_file_contents_to_console(path):\n",
    "    \"\"\"Write file contents to console.\"\"\"\n",
    "    with open(path, \"rt\") as file:\n",
    "        for line in file:\n",
    "            print(line, end=\"\")"
   ]
  },
  {
   "cell_type": "code",
   "execution_count": 14,
   "id": "604eefc1",
   "metadata": {
    "execution": {
     "iopub.execute_input": "2024-09-25T13:52:36.933388Z",
     "iopub.status.busy": "2024-09-25T13:52:36.933388Z",
     "iopub.status.idle": "2024-09-25T13:52:36.956555Z",
     "shell.execute_reply": "2024-09-25T13:52:36.956555Z"
    }
   },
   "outputs": [
    {
     "ename": "NameError",
     "evalue": "name 'mechanical' is not defined",
     "output_type": "error",
     "traceback": [
      "\u001b[1;31m---------------------------------------------------------------------------\u001b[0m",
      "\u001b[1;31mNameError\u001b[0m                                 Traceback (most recent call last)",
      "Cell \u001b[1;32mIn[14], line 2\u001b[0m\n\u001b[0;32m      1\u001b[0m current_working_directory \u001b[38;5;241m=\u001b[39m os\u001b[38;5;241m.\u001b[39mgetcwd()\n\u001b[1;32m----> 2\u001b[0m \u001b[43mmechanical\u001b[49m\u001b[38;5;241m.\u001b[39mdownload(solve_out_path, target_dir\u001b[38;5;241m=\u001b[39mcurrent_working_directory)\n\u001b[0;32m      3\u001b[0m solve_out_local_path \u001b[38;5;241m=\u001b[39m os\u001b[38;5;241m.\u001b[39mpath\u001b[38;5;241m.\u001b[39mjoin(current_working_directory, \u001b[38;5;124m\"\u001b[39m\u001b[38;5;124msolve.out\u001b[39m\u001b[38;5;124m\"\u001b[39m)\n\u001b[0;32m      4\u001b[0m write_file_contents_to_console(solve_out_local_path)\n",
      "\u001b[1;31mNameError\u001b[0m: name 'mechanical' is not defined"
     ]
    }
   ],
   "source": [
    "current_working_directory = os.getcwd()\n",
    "mechanical.download(solve_out_path, target_dir=current_working_directory)\n",
    "solve_out_local_path = os.path.join(current_working_directory, \"solve.out\")\n",
    "write_file_contents_to_console(solve_out_local_path)\n",
    "os.remove(solve_out_local_path)"
   ]
  },
  {
   "cell_type": "markdown",
   "id": "652b0f1c",
   "metadata": {},
   "source": [
    "Specify the Mechanical directory path for the Modal Campbell Analysis and fetch the image directory path.\n",
    "Download an image file (`tot_deform_2D.png`) from the server to the client's current working directory and display it using `matplotlib`."
   ]
  },
  {
   "cell_type": "code",
   "execution_count": 15,
   "id": "237a0aba",
   "metadata": {
    "execution": {
     "iopub.execute_input": "2024-09-25T13:52:36.956555Z",
     "iopub.status.busy": "2024-09-25T13:52:36.956555Z",
     "iopub.status.idle": "2024-09-25T13:52:38.127738Z",
     "shell.execute_reply": "2024-09-25T13:52:38.127738Z"
    }
   },
   "outputs": [],
   "source": [
    "from matplotlib import image as mpimg\n",
    "from matplotlib import pyplot as plt"
   ]
  },
  {
   "cell_type": "code",
   "execution_count": 16,
   "id": "833e7d11",
   "metadata": {
    "execution": {
     "iopub.execute_input": "2024-09-25T13:52:38.127738Z",
     "iopub.status.busy": "2024-09-25T13:52:38.127738Z",
     "iopub.status.idle": "2024-09-25T13:52:38.209869Z",
     "shell.execute_reply": "2024-09-25T13:52:38.209869Z"
    },
    "lines_to_next_cell": 1
   },
   "outputs": [
    {
     "ename": "NameError",
     "evalue": "name 'mechanical' is not defined",
     "output_type": "error",
     "traceback": [
      "\u001b[1;31m---------------------------------------------------------------------------\u001b[0m",
      "\u001b[1;31mNameError\u001b[0m                                 Traceback (most recent call last)",
      "Cell \u001b[1;32mIn[16], line 1\u001b[0m\n\u001b[1;32m----> 1\u001b[0m \u001b[43mmechanical\u001b[49m\u001b[38;5;241m.\u001b[39mrun_python_script(\u001b[38;5;124mf\u001b[39m\u001b[38;5;124m\"\u001b[39m\u001b[38;5;124mimage_dir=ExtAPI.DataModel.AnalysisList[2].WorkingDir\u001b[39m\u001b[38;5;124m\"\u001b[39m)\n\u001b[0;32m      2\u001b[0m result_image_dir_server \u001b[38;5;241m=\u001b[39m mechanical\u001b[38;5;241m.\u001b[39mrun_python_script(\u001b[38;5;124mf\u001b[39m\u001b[38;5;124m\"\u001b[39m\u001b[38;5;124mimage_dir\u001b[39m\u001b[38;5;124m\"\u001b[39m)\n\u001b[0;32m      3\u001b[0m \u001b[38;5;28mprint\u001b[39m(\u001b[38;5;124mf\u001b[39m\u001b[38;5;124m\"\u001b[39m\u001b[38;5;124mImages are stored on the server at: \u001b[39m\u001b[38;5;132;01m{\u001b[39;00mresult_image_dir_server\u001b[38;5;132;01m}\u001b[39;00m\u001b[38;5;124m\"\u001b[39m)\n",
      "\u001b[1;31mNameError\u001b[0m: name 'mechanical' is not defined"
     ]
    }
   ],
   "source": [
    "mechanical.run_python_script(f\"image_dir=ExtAPI.DataModel.AnalysisList[2].WorkingDir\")\n",
    "result_image_dir_server = mechanical.run_python_script(f\"image_dir\")\n",
    "print(f\"Images are stored on the server at: {result_image_dir_server}\")"
   ]
  },
  {
   "cell_type": "code",
   "execution_count": 17,
   "id": "0b8e3794",
   "metadata": {
    "execution": {
     "iopub.execute_input": "2024-09-25T13:52:38.209869Z",
     "iopub.status.busy": "2024-09-25T13:52:38.209869Z",
     "iopub.status.idle": "2024-09-25T13:52:38.217225Z",
     "shell.execute_reply": "2024-09-25T13:52:38.217225Z"
    },
    "lines_to_next_cell": 1
   },
   "outputs": [],
   "source": [
    "def get_image_path(image_name):\n",
    "    return os.path.join(result_image_dir_server, image_name)"
   ]
  },
  {
   "cell_type": "code",
   "execution_count": 18,
   "id": "7cd2c73b",
   "metadata": {
    "execution": {
     "iopub.execute_input": "2024-09-25T13:52:38.217225Z",
     "iopub.status.busy": "2024-09-25T13:52:38.217225Z",
     "iopub.status.idle": "2024-09-25T13:52:38.224727Z",
     "shell.execute_reply": "2024-09-25T13:52:38.224727Z"
    },
    "lines_to_next_cell": 1
   },
   "outputs": [],
   "source": [
    "def display_image(path):\n",
    "    print(f\"Printing {path} using matplotlib\")\n",
    "    image1 = mpimg.imread(path)\n",
    "    plt.figure(figsize=(15, 15))\n",
    "    plt.axis(\"off\")\n",
    "    plt.imshow(image1)\n",
    "    plt.show()"
   ]
  },
  {
   "cell_type": "code",
   "execution_count": 19,
   "id": "843ed3b5",
   "metadata": {
    "execution": {
     "iopub.execute_input": "2024-09-25T13:52:38.224727Z",
     "iopub.status.busy": "2024-09-25T13:52:38.224727Z",
     "iopub.status.idle": "2024-09-25T13:52:38.254901Z",
     "shell.execute_reply": "2024-09-25T13:52:38.254901Z"
    }
   },
   "outputs": [
    {
     "ename": "NameError",
     "evalue": "name 'result_image_dir_server' is not defined",
     "output_type": "error",
     "traceback": [
      "\u001b[1;31m---------------------------------------------------------------------------\u001b[0m",
      "\u001b[1;31mNameError\u001b[0m                                 Traceback (most recent call last)",
      "Cell \u001b[1;32mIn[19], line 2\u001b[0m\n\u001b[0;32m      1\u001b[0m image_name \u001b[38;5;241m=\u001b[39m \u001b[38;5;124m\"\u001b[39m\u001b[38;5;124mtot_deform_2D.png\u001b[39m\u001b[38;5;124m\"\u001b[39m\n\u001b[1;32m----> 2\u001b[0m image_path_server \u001b[38;5;241m=\u001b[39m \u001b[43mget_image_path\u001b[49m\u001b[43m(\u001b[49m\u001b[43mimage_name\u001b[49m\u001b[43m)\u001b[49m\n",
      "Cell \u001b[1;32mIn[17], line 2\u001b[0m, in \u001b[0;36mget_image_path\u001b[1;34m(image_name)\u001b[0m\n\u001b[0;32m      1\u001b[0m \u001b[38;5;28;01mdef\u001b[39;00m \u001b[38;5;21mget_image_path\u001b[39m(image_name):\n\u001b[1;32m----> 2\u001b[0m     \u001b[38;5;28;01mreturn\u001b[39;00m os\u001b[38;5;241m.\u001b[39mpath\u001b[38;5;241m.\u001b[39mjoin(\u001b[43mresult_image_dir_server\u001b[49m, image_name)\n",
      "\u001b[1;31mNameError\u001b[0m: name 'result_image_dir_server' is not defined"
     ]
    }
   ],
   "source": [
    "image_name = \"tot_deform_2D.png\"\n",
    "image_path_server = get_image_path(image_name)"
   ]
  },
  {
   "cell_type": "code",
   "execution_count": 20,
   "id": "2329aa34",
   "metadata": {
    "execution": {
     "iopub.execute_input": "2024-09-25T13:52:38.254901Z",
     "iopub.status.busy": "2024-09-25T13:52:38.254901Z",
     "iopub.status.idle": "2024-09-25T13:52:38.278035Z",
     "shell.execute_reply": "2024-09-25T13:52:38.278035Z"
    }
   },
   "outputs": [
    {
     "ename": "NameError",
     "evalue": "name 'image_path_server' is not defined",
     "output_type": "error",
     "traceback": [
      "\u001b[1;31m---------------------------------------------------------------------------\u001b[0m",
      "\u001b[1;31mNameError\u001b[0m                                 Traceback (most recent call last)",
      "Cell \u001b[1;32mIn[20], line 1\u001b[0m\n\u001b[1;32m----> 1\u001b[0m \u001b[38;5;28;01mif\u001b[39;00m \u001b[43mimage_path_server\u001b[49m \u001b[38;5;241m!=\u001b[39m \u001b[38;5;124m\"\u001b[39m\u001b[38;5;124m\"\u001b[39m:\n\u001b[0;32m      2\u001b[0m     current_working_directory \u001b[38;5;241m=\u001b[39m os\u001b[38;5;241m.\u001b[39mgetcwd()\n\u001b[0;32m      4\u001b[0m     local_file_path_list \u001b[38;5;241m=\u001b[39m mechanical\u001b[38;5;241m.\u001b[39mdownload(\n\u001b[0;32m      5\u001b[0m         image_path_server, target_dir\u001b[38;5;241m=\u001b[39mcurrent_working_directory\n\u001b[0;32m      6\u001b[0m     )\n",
      "\u001b[1;31mNameError\u001b[0m: name 'image_path_server' is not defined"
     ]
    }
   ],
   "source": [
    "if image_path_server != \"\":\n",
    "    current_working_directory = os.getcwd()\n",
    "\n",
    "    local_file_path_list = mechanical.download(\n",
    "        image_path_server, target_dir=current_working_directory\n",
    "    )\n",
    "    image_local_path = local_file_path_list[0]\n",
    "    print(f\"Local image path : {image_local_path}\")\n",
    "    \n",
    "    display_image(image_local_path)"
   ]
  },
  {
   "cell_type": "markdown",
   "id": "bc095dda",
   "metadata": {},
   "source": [
    "Specify the Mechanical directory for the Unbalance Response Analysis and fetch the working directory path.\n",
    "Download the solver output file (`solve.out`) from the server to the client's current working directory and print its contents."
   ]
  },
  {
   "cell_type": "code",
   "execution_count": 21,
   "id": "bd4f5077",
   "metadata": {
    "execution": {
     "iopub.execute_input": "2024-09-25T13:52:38.278035Z",
     "iopub.status.busy": "2024-09-25T13:52:38.278035Z",
     "iopub.status.idle": "2024-09-25T13:52:38.300036Z",
     "shell.execute_reply": "2024-09-25T13:52:38.300036Z"
    }
   },
   "outputs": [
    {
     "ename": "NameError",
     "evalue": "name 'mechanical' is not defined",
     "output_type": "error",
     "traceback": [
      "\u001b[1;31m---------------------------------------------------------------------------\u001b[0m",
      "\u001b[1;31mNameError\u001b[0m                                 Traceback (most recent call last)",
      "Cell \u001b[1;32mIn[21], line 1\u001b[0m\n\u001b[1;32m----> 1\u001b[0m \u001b[43mmechanical\u001b[49m\u001b[38;5;241m.\u001b[39mrun_python_script(\u001b[38;5;124mf\u001b[39m\u001b[38;5;124m\"\u001b[39m\u001b[38;5;124msolve_dir=ExtAPI.DataModel.AnalysisList[3].WorkingDir\u001b[39m\u001b[38;5;124m\"\u001b[39m)\n\u001b[0;32m      2\u001b[0m result_solve_dir_server \u001b[38;5;241m=\u001b[39m mechanical\u001b[38;5;241m.\u001b[39mrun_python_script(\u001b[38;5;124mf\u001b[39m\u001b[38;5;124m\"\u001b[39m\u001b[38;5;124msolve_dir\u001b[39m\u001b[38;5;124m\"\u001b[39m)\n\u001b[0;32m      3\u001b[0m \u001b[38;5;28mprint\u001b[39m(\u001b[38;5;124mf\u001b[39m\u001b[38;5;124m\"\u001b[39m\u001b[38;5;124mAll solver files are stored on the server at: \u001b[39m\u001b[38;5;132;01m{\u001b[39;00mresult_solve_dir_server\u001b[38;5;132;01m}\u001b[39;00m\u001b[38;5;124m\"\u001b[39m)\n",
      "\u001b[1;31mNameError\u001b[0m: name 'mechanical' is not defined"
     ]
    }
   ],
   "source": [
    "mechanical.run_python_script(f\"solve_dir=ExtAPI.DataModel.AnalysisList[3].WorkingDir\")\n",
    "result_solve_dir_server = mechanical.run_python_script(f\"solve_dir\")\n",
    "print(f\"All solver files are stored on the server at: {result_solve_dir_server}\")"
   ]
  },
  {
   "cell_type": "code",
   "execution_count": 22,
   "id": "ca4a3969",
   "metadata": {
    "execution": {
     "iopub.execute_input": "2024-09-25T13:52:38.300036Z",
     "iopub.status.busy": "2024-09-25T13:52:38.300036Z",
     "iopub.status.idle": "2024-09-25T13:52:38.326012Z",
     "shell.execute_reply": "2024-09-25T13:52:38.326012Z"
    },
    "lines_to_next_cell": 1
   },
   "outputs": [
    {
     "ename": "NameError",
     "evalue": "name 'result_solve_dir_server' is not defined",
     "output_type": "error",
     "traceback": [
      "\u001b[1;31m---------------------------------------------------------------------------\u001b[0m",
      "\u001b[1;31mNameError\u001b[0m                                 Traceback (most recent call last)",
      "Cell \u001b[1;32mIn[22], line 1\u001b[0m\n\u001b[1;32m----> 1\u001b[0m solve_out_path \u001b[38;5;241m=\u001b[39m os\u001b[38;5;241m.\u001b[39mpath\u001b[38;5;241m.\u001b[39mjoin(\u001b[43mresult_solve_dir_server\u001b[49m, \u001b[38;5;124m\"\u001b[39m\u001b[38;5;124msolve.out\u001b[39m\u001b[38;5;124m\"\u001b[39m)\n",
      "\u001b[1;31mNameError\u001b[0m: name 'result_solve_dir_server' is not defined"
     ]
    }
   ],
   "source": [
    "solve_out_path = os.path.join(result_solve_dir_server, \"solve.out\")"
   ]
  },
  {
   "cell_type": "code",
   "execution_count": 23,
   "id": "f8082408",
   "metadata": {
    "execution": {
     "iopub.execute_input": "2024-09-25T13:52:38.326012Z",
     "iopub.status.busy": "2024-09-25T13:52:38.326012Z",
     "iopub.status.idle": "2024-09-25T13:52:38.333487Z",
     "shell.execute_reply": "2024-09-25T13:52:38.333487Z"
    },
    "lines_to_next_cell": 1
   },
   "outputs": [],
   "source": [
    "def write_file_contents_to_console(path):\n",
    "    \"\"\"Write file contents to console.\"\"\"\n",
    "    with open(path, \"rt\") as file:\n",
    "        for line in file:\n",
    "            print(line, end=\"\")"
   ]
  },
  {
   "cell_type": "code",
   "execution_count": 24,
   "id": "3f56ff20",
   "metadata": {
    "execution": {
     "iopub.execute_input": "2024-09-25T13:52:38.333487Z",
     "iopub.status.busy": "2024-09-25T13:52:38.333487Z",
     "iopub.status.idle": "2024-09-25T13:52:38.355094Z",
     "shell.execute_reply": "2024-09-25T13:52:38.355094Z"
    }
   },
   "outputs": [
    {
     "ename": "NameError",
     "evalue": "name 'mechanical' is not defined",
     "output_type": "error",
     "traceback": [
      "\u001b[1;31m---------------------------------------------------------------------------\u001b[0m",
      "\u001b[1;31mNameError\u001b[0m                                 Traceback (most recent call last)",
      "Cell \u001b[1;32mIn[24], line 2\u001b[0m\n\u001b[0;32m      1\u001b[0m current_working_directory \u001b[38;5;241m=\u001b[39m os\u001b[38;5;241m.\u001b[39mgetcwd()\n\u001b[1;32m----> 2\u001b[0m \u001b[43mmechanical\u001b[49m\u001b[38;5;241m.\u001b[39mdownload(solve_out_path, target_dir\u001b[38;5;241m=\u001b[39mcurrent_working_directory)\n\u001b[0;32m      3\u001b[0m solve_out_local_path \u001b[38;5;241m=\u001b[39m os\u001b[38;5;241m.\u001b[39mpath\u001b[38;5;241m.\u001b[39mjoin(current_working_directory, \u001b[38;5;124m\"\u001b[39m\u001b[38;5;124msolve.out\u001b[39m\u001b[38;5;124m\"\u001b[39m)\n\u001b[0;32m      4\u001b[0m write_file_contents_to_console(solve_out_local_path)\n",
      "\u001b[1;31mNameError\u001b[0m: name 'mechanical' is not defined"
     ]
    }
   ],
   "source": [
    "current_working_directory = os.getcwd()\n",
    "mechanical.download(solve_out_path, target_dir=current_working_directory)\n",
    "solve_out_local_path = os.path.join(current_working_directory, \"solve.out\")\n",
    "write_file_contents_to_console(solve_out_local_path)\n",
    "os.remove(solve_out_local_path)"
   ]
  },
  {
   "cell_type": "markdown",
   "id": "b6604e65",
   "metadata": {},
   "source": [
    "Start a PyMechanical server for the 3D rotor model system and create a PyMechanical client session.\n",
    "The project directory is printed to verify the connection."
   ]
  },
  {
   "cell_type": "code",
   "execution_count": 25,
   "id": "927c6411",
   "metadata": {
    "execution": {
     "iopub.execute_input": "2024-09-25T13:52:38.355094Z",
     "iopub.status.busy": "2024-09-25T13:52:38.355094Z",
     "iopub.status.idle": "2024-09-25T13:52:38.378025Z",
     "shell.execute_reply": "2024-09-25T13:52:38.378025Z"
    }
   },
   "outputs": [
    {
     "ename": "NameError",
     "evalue": "name 'wb' is not defined",
     "output_type": "error",
     "traceback": [
      "\u001b[1;31m---------------------------------------------------------------------------\u001b[0m",
      "\u001b[1;31mNameError\u001b[0m                                 Traceback (most recent call last)",
      "Cell \u001b[1;32mIn[25], line 1\u001b[0m\n\u001b[1;32m----> 1\u001b[0m server_port \u001b[38;5;241m=\u001b[39m \u001b[43mwb\u001b[49m\u001b[38;5;241m.\u001b[39mstart_mechanical_server(system_name\u001b[38;5;241m=\u001b[39msys_name[\u001b[38;5;241m0\u001b[39m])\n\u001b[0;32m      2\u001b[0m mechanical \u001b[38;5;241m=\u001b[39m launch_mechanical(start_instance\u001b[38;5;241m=\u001b[39m\u001b[38;5;28;01mFalse\u001b[39;00m, ip\u001b[38;5;241m=\u001b[39m\u001b[38;5;124m'\u001b[39m\u001b[38;5;124mlocalhost\u001b[39m\u001b[38;5;124m'\u001b[39m, port\u001b[38;5;241m=\u001b[39mserver_port)\n",
      "\u001b[1;31mNameError\u001b[0m: name 'wb' is not defined"
     ]
    }
   ],
   "source": [
    "server_port = wb.start_mechanical_server(system_name=sys_name[0])\n",
    "mechanical = launch_mechanical(start_instance=False, ip='localhost', port=server_port)"
   ]
  },
  {
   "cell_type": "code",
   "execution_count": 26,
   "id": "0509c945",
   "metadata": {
    "execution": {
     "iopub.execute_input": "2024-09-25T13:52:38.378025Z",
     "iopub.status.busy": "2024-09-25T13:52:38.378025Z",
     "iopub.status.idle": "2024-09-25T13:52:38.399064Z",
     "shell.execute_reply": "2024-09-25T13:52:38.399064Z"
    }
   },
   "outputs": [
    {
     "ename": "NameError",
     "evalue": "name 'mechanical' is not defined",
     "output_type": "error",
     "traceback": [
      "\u001b[1;31m---------------------------------------------------------------------------\u001b[0m",
      "\u001b[1;31mNameError\u001b[0m                                 Traceback (most recent call last)",
      "Cell \u001b[1;32mIn[26], line 1\u001b[0m\n\u001b[1;32m----> 1\u001b[0m \u001b[38;5;28mprint\u001b[39m(\u001b[43mmechanical\u001b[49m\u001b[38;5;241m.\u001b[39mproject_directory)\n",
      "\u001b[1;31mNameError\u001b[0m: name 'mechanical' is not defined"
     ]
    }
   ],
   "source": [
    "print(mechanical.project_directory)"
   ]
  },
  {
   "cell_type": "markdown",
   "id": "80c2c3c0",
   "metadata": {},
   "source": [
    "Read and execute the script `rotor_3d.py` via the PyMechanical client to mesh and solve the 3D rotor model.\n",
    "The output of the script is printed."
   ]
  },
  {
   "cell_type": "code",
   "execution_count": 27,
   "id": "aae3f58b",
   "metadata": {
    "execution": {
     "iopub.execute_input": "2024-09-25T13:52:38.399064Z",
     "iopub.status.busy": "2024-09-25T13:52:38.399064Z",
     "iopub.status.idle": "2024-09-25T13:52:38.441860Z",
     "shell.execute_reply": "2024-09-25T13:52:38.441860Z"
    }
   },
   "outputs": [
    {
     "ename": "NameError",
     "evalue": "name 'mechanical' is not defined",
     "output_type": "error",
     "traceback": [
      "\u001b[1;31m---------------------------------------------------------------------------\u001b[0m",
      "\u001b[1;31mNameError\u001b[0m                                 Traceback (most recent call last)",
      "Cell \u001b[1;32mIn[27], line 3\u001b[0m\n\u001b[0;32m      1\u001b[0m \u001b[38;5;28;01mwith\u001b[39;00m \u001b[38;5;28mopen\u001b[39m(scripts \u001b[38;5;241m/\u001b[39m \u001b[38;5;124m\"\u001b[39m\u001b[38;5;124mrotor_3d.py\u001b[39m\u001b[38;5;124m\"\u001b[39m) \u001b[38;5;28;01mas\u001b[39;00m sf:\n\u001b[0;32m      2\u001b[0m     mech_script \u001b[38;5;241m=\u001b[39m sf\u001b[38;5;241m.\u001b[39mread()\n\u001b[1;32m----> 3\u001b[0m mech_output \u001b[38;5;241m=\u001b[39m \u001b[43mmechanical\u001b[49m\u001b[38;5;241m.\u001b[39mrun_python_script(mech_script)\n\u001b[0;32m      4\u001b[0m \u001b[38;5;28mprint\u001b[39m(mech_output)\n",
      "\u001b[1;31mNameError\u001b[0m: name 'mechanical' is not defined"
     ]
    }
   ],
   "source": [
    "with open(scripts / \"rotor_3d.py\") as sf:\n",
    "    mech_script = sf.read()\n",
    "mech_output = mechanical.run_python_script(mech_script)\n",
    "print(mech_output)"
   ]
  },
  {
   "cell_type": "markdown",
   "id": "0a412624",
   "metadata": {},
   "source": [
    "Specify the Mechanical directory for the Modal Campbell Analysis and fetch the working directory path.\n",
    "Download the solver output file (`solve.out`) from the server to the client's current working directory and print its contents."
   ]
  },
  {
   "cell_type": "code",
   "execution_count": 28,
   "id": "be9ec052",
   "metadata": {
    "execution": {
     "iopub.execute_input": "2024-09-25T13:52:38.441860Z",
     "iopub.status.busy": "2024-09-25T13:52:38.441860Z",
     "iopub.status.idle": "2024-09-25T13:52:38.464506Z",
     "shell.execute_reply": "2024-09-25T13:52:38.464506Z"
    }
   },
   "outputs": [
    {
     "ename": "NameError",
     "evalue": "name 'mechanical' is not defined",
     "output_type": "error",
     "traceback": [
      "\u001b[1;31m---------------------------------------------------------------------------\u001b[0m",
      "\u001b[1;31mNameError\u001b[0m                                 Traceback (most recent call last)",
      "Cell \u001b[1;32mIn[28], line 1\u001b[0m\n\u001b[1;32m----> 1\u001b[0m \u001b[43mmechanical\u001b[49m\u001b[38;5;241m.\u001b[39mrun_python_script(\u001b[38;5;124mf\u001b[39m\u001b[38;5;124m\"\u001b[39m\u001b[38;5;124msolve_dir=ExtAPI.DataModel.AnalysisList[2].WorkingDir\u001b[39m\u001b[38;5;124m\"\u001b[39m)\n\u001b[0;32m      2\u001b[0m result_solve_dir_server \u001b[38;5;241m=\u001b[39m mechanical\u001b[38;5;241m.\u001b[39mrun_python_script(\u001b[38;5;124mf\u001b[39m\u001b[38;5;124m\"\u001b[39m\u001b[38;5;124msolve_dir\u001b[39m\u001b[38;5;124m\"\u001b[39m)\n\u001b[0;32m      3\u001b[0m \u001b[38;5;28mprint\u001b[39m(\u001b[38;5;124mf\u001b[39m\u001b[38;5;124m\"\u001b[39m\u001b[38;5;124mAll solver files are stored on the server at: \u001b[39m\u001b[38;5;132;01m{\u001b[39;00mresult_solve_dir_server\u001b[38;5;132;01m}\u001b[39;00m\u001b[38;5;124m\"\u001b[39m)\n",
      "\u001b[1;31mNameError\u001b[0m: name 'mechanical' is not defined"
     ]
    }
   ],
   "source": [
    "mechanical.run_python_script(f\"solve_dir=ExtAPI.DataModel.AnalysisList[2].WorkingDir\")\n",
    "result_solve_dir_server = mechanical.run_python_script(f\"solve_dir\")\n",
    "print(f\"All solver files are stored on the server at: {result_solve_dir_server}\")"
   ]
  },
  {
   "cell_type": "code",
   "execution_count": 29,
   "id": "c05c3b07",
   "metadata": {
    "execution": {
     "iopub.execute_input": "2024-09-25T13:52:38.464506Z",
     "iopub.status.busy": "2024-09-25T13:52:38.464506Z",
     "iopub.status.idle": "2024-09-25T13:52:38.486859Z",
     "shell.execute_reply": "2024-09-25T13:52:38.486859Z"
    },
    "lines_to_next_cell": 1
   },
   "outputs": [
    {
     "ename": "NameError",
     "evalue": "name 'result_solve_dir_server' is not defined",
     "output_type": "error",
     "traceback": [
      "\u001b[1;31m---------------------------------------------------------------------------\u001b[0m",
      "\u001b[1;31mNameError\u001b[0m                                 Traceback (most recent call last)",
      "Cell \u001b[1;32mIn[29], line 1\u001b[0m\n\u001b[1;32m----> 1\u001b[0m solve_out_path \u001b[38;5;241m=\u001b[39m os\u001b[38;5;241m.\u001b[39mpath\u001b[38;5;241m.\u001b[39mjoin(\u001b[43mresult_solve_dir_server\u001b[49m, \u001b[38;5;124m\"\u001b[39m\u001b[38;5;124msolve.out\u001b[39m\u001b[38;5;124m\"\u001b[39m)\n",
      "\u001b[1;31mNameError\u001b[0m: name 'result_solve_dir_server' is not defined"
     ]
    }
   ],
   "source": [
    "solve_out_path = os.path.join(result_solve_dir_server, \"solve.out\")"
   ]
  },
  {
   "cell_type": "code",
   "execution_count": 30,
   "id": "457b9f9c",
   "metadata": {
    "execution": {
     "iopub.execute_input": "2024-09-25T13:52:38.486859Z",
     "iopub.status.busy": "2024-09-25T13:52:38.486859Z",
     "iopub.status.idle": "2024-09-25T13:52:38.493954Z",
     "shell.execute_reply": "2024-09-25T13:52:38.493954Z"
    },
    "lines_to_next_cell": 1
   },
   "outputs": [],
   "source": [
    "def write_file_contents_to_console(path):\n",
    "    \"\"\"Write file contents to console.\"\"\"\n",
    "    with open(path, \"rt\") as file:\n",
    "        for line in file:\n",
    "            print(line, end=\"\")"
   ]
  },
  {
   "cell_type": "code",
   "execution_count": 31,
   "id": "865790d7",
   "metadata": {
    "execution": {
     "iopub.execute_input": "2024-09-25T13:52:38.493954Z",
     "iopub.status.busy": "2024-09-25T13:52:38.493954Z",
     "iopub.status.idle": "2024-09-25T13:52:38.515681Z",
     "shell.execute_reply": "2024-09-25T13:52:38.515681Z"
    }
   },
   "outputs": [
    {
     "ename": "NameError",
     "evalue": "name 'mechanical' is not defined",
     "output_type": "error",
     "traceback": [
      "\u001b[1;31m---------------------------------------------------------------------------\u001b[0m",
      "\u001b[1;31mNameError\u001b[0m                                 Traceback (most recent call last)",
      "Cell \u001b[1;32mIn[31], line 2\u001b[0m\n\u001b[0;32m      1\u001b[0m current_working_directory \u001b[38;5;241m=\u001b[39m os\u001b[38;5;241m.\u001b[39mgetcwd()\n\u001b[1;32m----> 2\u001b[0m \u001b[43mmechanical\u001b[49m\u001b[38;5;241m.\u001b[39mdownload(solve_out_path, target_dir\u001b[38;5;241m=\u001b[39mcurrent_working_directory)\n\u001b[0;32m      3\u001b[0m solve_out_local_path \u001b[38;5;241m=\u001b[39m os\u001b[38;5;241m.\u001b[39mpath\u001b[38;5;241m.\u001b[39mjoin(current_working_directory, \u001b[38;5;124m\"\u001b[39m\u001b[38;5;124msolve.out\u001b[39m\u001b[38;5;124m\"\u001b[39m)\n\u001b[0;32m      4\u001b[0m write_file_contents_to_console(solve_out_local_path)\n",
      "\u001b[1;31mNameError\u001b[0m: name 'mechanical' is not defined"
     ]
    }
   ],
   "source": [
    "current_working_directory = os.getcwd()\n",
    "mechanical.download(solve_out_path, target_dir=current_working_directory)\n",
    "solve_out_local_path = os.path.join(current_working_directory, \"solve.out\")\n",
    "write_file_contents_to_console(solve_out_local_path)\n",
    "os.remove(solve_out_local_path)"
   ]
  },
  {
   "cell_type": "markdown",
   "id": "562c3812",
   "metadata": {},
   "source": [
    "Specify the Mechanical directory path for the Modal Campbell Analysis and fetch the image directory path.\n",
    "Download an image file (`tot_deform_3D.png`) from the server to the client's current working directory and display it using `matplotlib`."
   ]
  },
  {
   "cell_type": "code",
   "execution_count": 32,
   "id": "0f1c1c2e",
   "metadata": {
    "execution": {
     "iopub.execute_input": "2024-09-25T13:52:38.515681Z",
     "iopub.status.busy": "2024-09-25T13:52:38.515681Z",
     "iopub.status.idle": "2024-09-25T13:52:38.522389Z",
     "shell.execute_reply": "2024-09-25T13:52:38.522389Z"
    }
   },
   "outputs": [],
   "source": [
    "from matplotlib import image as mpimg\n",
    "from matplotlib import pyplot as plt"
   ]
  },
  {
   "cell_type": "code",
   "execution_count": 33,
   "id": "a2c76ed4",
   "metadata": {
    "execution": {
     "iopub.execute_input": "2024-09-25T13:52:38.522389Z",
     "iopub.status.busy": "2024-09-25T13:52:38.522389Z",
     "iopub.status.idle": "2024-09-25T13:52:38.542959Z",
     "shell.execute_reply": "2024-09-25T13:52:38.542959Z"
    },
    "lines_to_next_cell": 1
   },
   "outputs": [
    {
     "ename": "NameError",
     "evalue": "name 'mechanical' is not defined",
     "output_type": "error",
     "traceback": [
      "\u001b[1;31m---------------------------------------------------------------------------\u001b[0m",
      "\u001b[1;31mNameError\u001b[0m                                 Traceback (most recent call last)",
      "Cell \u001b[1;32mIn[33], line 1\u001b[0m\n\u001b[1;32m----> 1\u001b[0m \u001b[43mmechanical\u001b[49m\u001b[38;5;241m.\u001b[39mrun_python_script(\u001b[38;5;124mf\u001b[39m\u001b[38;5;124m\"\u001b[39m\u001b[38;5;124mimage_dir=ExtAPI.DataModel.AnalysisList[2].WorkingDir\u001b[39m\u001b[38;5;124m\"\u001b[39m)\n\u001b[0;32m      2\u001b[0m result_image_dir_server \u001b[38;5;241m=\u001b[39m mechanical\u001b[38;5;241m.\u001b[39mrun_python_script(\u001b[38;5;124mf\u001b[39m\u001b[38;5;124m\"\u001b[39m\u001b[38;5;124mimage_dir\u001b[39m\u001b[38;5;124m\"\u001b[39m)\n\u001b[0;32m      3\u001b[0m \u001b[38;5;28mprint\u001b[39m(\u001b[38;5;124mf\u001b[39m\u001b[38;5;124m\"\u001b[39m\u001b[38;5;124mImages are stored on the server at: \u001b[39m\u001b[38;5;132;01m{\u001b[39;00mresult_image_dir_server\u001b[38;5;132;01m}\u001b[39;00m\u001b[38;5;124m\"\u001b[39m)\n",
      "\u001b[1;31mNameError\u001b[0m: name 'mechanical' is not defined"
     ]
    }
   ],
   "source": [
    "mechanical.run_python_script(f\"image_dir=ExtAPI.DataModel.AnalysisList[2].WorkingDir\")\n",
    "result_image_dir_server = mechanical.run_python_script(f\"image_dir\")\n",
    "print(f\"Images are stored on the server at: {result_image_dir_server}\")"
   ]
  },
  {
   "cell_type": "code",
   "execution_count": 34,
   "id": "714d8088",
   "metadata": {
    "execution": {
     "iopub.execute_input": "2024-09-25T13:52:38.542959Z",
     "iopub.status.busy": "2024-09-25T13:52:38.542959Z",
     "iopub.status.idle": "2024-09-25T13:52:38.550283Z",
     "shell.execute_reply": "2024-09-25T13:52:38.550283Z"
    },
    "lines_to_next_cell": 1
   },
   "outputs": [],
   "source": [
    "def get_image_path(image_name):\n",
    "    return os.path.join(result_image_dir_server, image_name)"
   ]
  },
  {
   "cell_type": "code",
   "execution_count": 35,
   "id": "89bc2285",
   "metadata": {
    "execution": {
     "iopub.execute_input": "2024-09-25T13:52:38.550283Z",
     "iopub.status.busy": "2024-09-25T13:52:38.550283Z",
     "iopub.status.idle": "2024-09-25T13:52:38.557455Z",
     "shell.execute_reply": "2024-09-25T13:52:38.557455Z"
    },
    "lines_to_next_cell": 1
   },
   "outputs": [],
   "source": [
    "def display_image(path):\n",
    "    print(f\"Printing {path} using matplotlib\")\n",
    "    image1 = mpimg.imread(path)\n",
    "    plt.figure(figsize=(15, 15))\n",
    "    plt.axis(\"off\")\n",
    "    plt.imshow(image1)\n",
    "    plt.show()"
   ]
  },
  {
   "cell_type": "code",
   "execution_count": 36,
   "id": "5ad1bc30",
   "metadata": {
    "execution": {
     "iopub.execute_input": "2024-09-25T13:52:38.557455Z",
     "iopub.status.busy": "2024-09-25T13:52:38.557455Z",
     "iopub.status.idle": "2024-09-25T13:52:38.589698Z",
     "shell.execute_reply": "2024-09-25T13:52:38.589698Z"
    }
   },
   "outputs": [
    {
     "ename": "NameError",
     "evalue": "name 'result_image_dir_server' is not defined",
     "output_type": "error",
     "traceback": [
      "\u001b[1;31m---------------------------------------------------------------------------\u001b[0m",
      "\u001b[1;31mNameError\u001b[0m                                 Traceback (most recent call last)",
      "Cell \u001b[1;32mIn[36], line 2\u001b[0m\n\u001b[0;32m      1\u001b[0m image_name \u001b[38;5;241m=\u001b[39m \u001b[38;5;124m\"\u001b[39m\u001b[38;5;124mtot_deform_3D.png\u001b[39m\u001b[38;5;124m\"\u001b[39m\n\u001b[1;32m----> 2\u001b[0m image_path_server \u001b[38;5;241m=\u001b[39m \u001b[43mget_image_path\u001b[49m\u001b[43m(\u001b[49m\u001b[43mimage_name\u001b[49m\u001b[43m)\u001b[49m\n",
      "Cell \u001b[1;32mIn[34], line 2\u001b[0m, in \u001b[0;36mget_image_path\u001b[1;34m(image_name)\u001b[0m\n\u001b[0;32m      1\u001b[0m \u001b[38;5;28;01mdef\u001b[39;00m \u001b[38;5;21mget_image_path\u001b[39m(image_name):\n\u001b[1;32m----> 2\u001b[0m     \u001b[38;5;28;01mreturn\u001b[39;00m os\u001b[38;5;241m.\u001b[39mpath\u001b[38;5;241m.\u001b[39mjoin(\u001b[43mresult_image_dir_server\u001b[49m, image_name)\n",
      "\u001b[1;31mNameError\u001b[0m: name 'result_image_dir_server' is not defined"
     ]
    }
   ],
   "source": [
    "image_name = \"tot_deform_3D.png\"\n",
    "image_path_server = get_image_path(image_name)"
   ]
  },
  {
   "cell_type": "code",
   "execution_count": 37,
   "id": "a07587be",
   "metadata": {
    "execution": {
     "iopub.execute_input": "2024-09-25T13:52:38.589698Z",
     "iopub.status.busy": "2024-09-25T13:52:38.589698Z",
     "iopub.status.idle": "2024-09-25T13:52:38.615098Z",
     "shell.execute_reply": "2024-09-25T13:52:38.615098Z"
    }
   },
   "outputs": [
    {
     "ename": "NameError",
     "evalue": "name 'image_path_server' is not defined",
     "output_type": "error",
     "traceback": [
      "\u001b[1;31m---------------------------------------------------------------------------\u001b[0m",
      "\u001b[1;31mNameError\u001b[0m                                 Traceback (most recent call last)",
      "Cell \u001b[1;32mIn[37], line 1\u001b[0m\n\u001b[1;32m----> 1\u001b[0m \u001b[38;5;28;01mif\u001b[39;00m \u001b[43mimage_path_server\u001b[49m \u001b[38;5;241m!=\u001b[39m \u001b[38;5;124m\"\u001b[39m\u001b[38;5;124m\"\u001b[39m:\n\u001b[0;32m      2\u001b[0m     current_working_directory \u001b[38;5;241m=\u001b[39m os\u001b[38;5;241m.\u001b[39mgetcwd()\n\u001b[0;32m      4\u001b[0m     local_file_path_list \u001b[38;5;241m=\u001b[39m mechanical\u001b[38;5;241m.\u001b[39mdownload(\n\u001b[0;32m      5\u001b[0m         image_path_server, target_dir\u001b[38;5;241m=\u001b[39mcurrent_working_directory\n\u001b[0;32m      6\u001b[0m     )\n",
      "\u001b[1;31mNameError\u001b[0m: name 'image_path_server' is not defined"
     ]
    }
   ],
   "source": [
    "if image_path_server != \"\":\n",
    "    current_working_directory = os.getcwd()\n",
    "\n",
    "    local_file_path_list = mechanical.download(\n",
    "        image_path_server, target_dir=current_working_directory\n",
    "    )\n",
    "    image_local_path = local_file_path_list[0]\n",
    "    print(f\"Local image path : {image_local_path}\")\n",
    "    \n",
    "    display_image(image_local_path)"
   ]
  },
  {
   "cell_type": "markdown",
   "id": "fa8f54d9",
   "metadata": {},
   "source": [
    "Specify the Mechanical directory for the Unbalance Response Analysis and fetch the working directory path.\n",
    "Download the solver output file (`solve.out`) from the server to the client's current working directory and print its contents."
   ]
  },
  {
   "cell_type": "code",
   "execution_count": 38,
   "id": "eb478f17",
   "metadata": {
    "execution": {
     "iopub.execute_input": "2024-09-25T13:52:38.615098Z",
     "iopub.status.busy": "2024-09-25T13:52:38.615098Z",
     "iopub.status.idle": "2024-09-25T13:52:38.699561Z",
     "shell.execute_reply": "2024-09-25T13:52:38.699561Z"
    }
   },
   "outputs": [
    {
     "ename": "NameError",
     "evalue": "name 'mechanical' is not defined",
     "output_type": "error",
     "traceback": [
      "\u001b[1;31m---------------------------------------------------------------------------\u001b[0m",
      "\u001b[1;31mNameError\u001b[0m                                 Traceback (most recent call last)",
      "Cell \u001b[1;32mIn[38], line 1\u001b[0m\n\u001b[1;32m----> 1\u001b[0m \u001b[43mmechanical\u001b[49m\u001b[38;5;241m.\u001b[39mrun_python_script(\u001b[38;5;124mf\u001b[39m\u001b[38;5;124m\"\u001b[39m\u001b[38;5;124msolve_dir=ExtAPI.DataModel.AnalysisList[3].WorkingDir\u001b[39m\u001b[38;5;124m\"\u001b[39m)\n\u001b[0;32m      2\u001b[0m result_solve_dir_server \u001b[38;5;241m=\u001b[39m mechanical\u001b[38;5;241m.\u001b[39mrun_python_script(\u001b[38;5;124mf\u001b[39m\u001b[38;5;124m\"\u001b[39m\u001b[38;5;124msolve_dir\u001b[39m\u001b[38;5;124m\"\u001b[39m)\n\u001b[0;32m      3\u001b[0m \u001b[38;5;28mprint\u001b[39m(\u001b[38;5;124mf\u001b[39m\u001b[38;5;124m\"\u001b[39m\u001b[38;5;124mAll solver files are stored on the server at: \u001b[39m\u001b[38;5;132;01m{\u001b[39;00mresult_solve_dir_server\u001b[38;5;132;01m}\u001b[39;00m\u001b[38;5;124m\"\u001b[39m)\n",
      "\u001b[1;31mNameError\u001b[0m: name 'mechanical' is not defined"
     ]
    }
   ],
   "source": [
    "mechanical.run_python_script(f\"solve_dir=ExtAPI.DataModel.AnalysisList[3].WorkingDir\")\n",
    "result_solve_dir_server = mechanical.run_python_script(f\"solve_dir\")\n",
    "print(f\"All solver files are stored on the server at: {result_solve_dir_server}\")"
   ]
  },
  {
   "cell_type": "code",
   "execution_count": 39,
   "id": "6f86d3df",
   "metadata": {
    "execution": {
     "iopub.execute_input": "2024-09-25T13:52:38.699561Z",
     "iopub.status.busy": "2024-09-25T13:52:38.699561Z",
     "iopub.status.idle": "2024-09-25T13:52:38.723177Z",
     "shell.execute_reply": "2024-09-25T13:52:38.723177Z"
    },
    "lines_to_next_cell": 1
   },
   "outputs": [
    {
     "ename": "NameError",
     "evalue": "name 'result_solve_dir_server' is not defined",
     "output_type": "error",
     "traceback": [
      "\u001b[1;31m---------------------------------------------------------------------------\u001b[0m",
      "\u001b[1;31mNameError\u001b[0m                                 Traceback (most recent call last)",
      "Cell \u001b[1;32mIn[39], line 1\u001b[0m\n\u001b[1;32m----> 1\u001b[0m solve_out_path \u001b[38;5;241m=\u001b[39m os\u001b[38;5;241m.\u001b[39mpath\u001b[38;5;241m.\u001b[39mjoin(\u001b[43mresult_solve_dir_server\u001b[49m, \u001b[38;5;124m\"\u001b[39m\u001b[38;5;124msolve.out\u001b[39m\u001b[38;5;124m\"\u001b[39m)\n",
      "\u001b[1;31mNameError\u001b[0m: name 'result_solve_dir_server' is not defined"
     ]
    }
   ],
   "source": [
    "solve_out_path = os.path.join(result_solve_dir_server, \"solve.out\")"
   ]
  },
  {
   "cell_type": "code",
   "execution_count": 40,
   "id": "5a1d89cf",
   "metadata": {
    "execution": {
     "iopub.execute_input": "2024-09-25T13:52:38.723177Z",
     "iopub.status.busy": "2024-09-25T13:52:38.723177Z",
     "iopub.status.idle": "2024-09-25T13:52:38.730674Z",
     "shell.execute_reply": "2024-09-25T13:52:38.730674Z"
    },
    "lines_to_next_cell": 1
   },
   "outputs": [],
   "source": [
    "def write_file_contents_to_console(path):\n",
    "    \"\"\"Write file contents to console.\"\"\"\n",
    "    with open(path, \"rt\") as file:\n",
    "        for line in file:\n",
    "            print(line, end=\"\")"
   ]
  },
  {
   "cell_type": "code",
   "execution_count": 41,
   "id": "c1e22a05",
   "metadata": {
    "execution": {
     "iopub.execute_input": "2024-09-25T13:52:38.730674Z",
     "iopub.status.busy": "2024-09-25T13:52:38.730674Z",
     "iopub.status.idle": "2024-09-25T13:52:38.752001Z",
     "shell.execute_reply": "2024-09-25T13:52:38.752001Z"
    }
   },
   "outputs": [
    {
     "ename": "NameError",
     "evalue": "name 'mechanical' is not defined",
     "output_type": "error",
     "traceback": [
      "\u001b[1;31m---------------------------------------------------------------------------\u001b[0m",
      "\u001b[1;31mNameError\u001b[0m                                 Traceback (most recent call last)",
      "Cell \u001b[1;32mIn[41], line 2\u001b[0m\n\u001b[0;32m      1\u001b[0m current_working_directory \u001b[38;5;241m=\u001b[39m os\u001b[38;5;241m.\u001b[39mgetcwd()\n\u001b[1;32m----> 2\u001b[0m \u001b[43mmechanical\u001b[49m\u001b[38;5;241m.\u001b[39mdownload(solve_out_path, target_dir\u001b[38;5;241m=\u001b[39mcurrent_working_directory)\n\u001b[0;32m      3\u001b[0m solve_out_local_path \u001b[38;5;241m=\u001b[39m os\u001b[38;5;241m.\u001b[39mpath\u001b[38;5;241m.\u001b[39mjoin(current_working_directory, \u001b[38;5;124m\"\u001b[39m\u001b[38;5;124msolve.out\u001b[39m\u001b[38;5;124m\"\u001b[39m)\n\u001b[0;32m      4\u001b[0m write_file_contents_to_console(solve_out_local_path)\n",
      "\u001b[1;31mNameError\u001b[0m: name 'mechanical' is not defined"
     ]
    }
   ],
   "source": [
    "current_working_directory = os.getcwd()\n",
    "mechanical.download(solve_out_path, target_dir=current_working_directory)\n",
    "solve_out_local_path = os.path.join(current_working_directory, \"solve.out\")\n",
    "write_file_contents_to_console(solve_out_local_path)\n",
    "os.remove(solve_out_local_path)"
   ]
  },
  {
   "cell_type": "markdown",
   "id": "d8bde831",
   "metadata": {},
   "source": [
    "Download all the files from the server to the current working directory for the 3D rotor model.\n",
    "Verify the source path for the directory and copy all files from the server to the client."
   ]
  },
  {
   "cell_type": "code",
   "execution_count": 42,
   "id": "68780a1b",
   "metadata": {
    "execution": {
     "iopub.execute_input": "2024-09-25T13:52:38.752001Z",
     "iopub.status.busy": "2024-09-25T13:52:38.752001Z",
     "iopub.status.idle": "2024-09-25T13:52:38.759001Z",
     "shell.execute_reply": "2024-09-25T13:52:38.759001Z"
    }
   },
   "outputs": [],
   "source": [
    "import shutil\n",
    "import glob"
   ]
  },
  {
   "cell_type": "code",
   "execution_count": 43,
   "id": "dff06f64",
   "metadata": {
    "execution": {
     "iopub.execute_input": "2024-09-25T13:52:38.759001Z",
     "iopub.status.busy": "2024-09-25T13:52:38.759001Z",
     "iopub.status.idle": "2024-09-25T13:52:38.781139Z",
     "shell.execute_reply": "2024-09-25T13:52:38.781139Z"
    }
   },
   "outputs": [
    {
     "name": "stdout",
     "output_type": "stream",
     "text": [
      "Files to be copied from server path at: C:\\Users\\ansys\\actions-runner\\_work\\pyworkbench-examples\\pyworkbench-examples\\pyworkbench-examples\\doc\\source\\examples\\axisymmetric-rotor\n"
     ]
    },
    {
     "ename": "NameError",
     "evalue": "name 'result_solve_dir_server' is not defined",
     "output_type": "error",
     "traceback": [
      "\u001b[1;31m---------------------------------------------------------------------------\u001b[0m",
      "\u001b[1;31mNameError\u001b[0m                                 Traceback (most recent call last)",
      "Cell \u001b[1;32mIn[43], line 4\u001b[0m\n\u001b[0;32m      2\u001b[0m target_dir2 \u001b[38;5;241m=\u001b[39m current_working_directory\n\u001b[0;32m      3\u001b[0m \u001b[38;5;28mprint\u001b[39m(\u001b[38;5;124mf\u001b[39m\u001b[38;5;124m\"\u001b[39m\u001b[38;5;124mFiles to be copied from server path at: \u001b[39m\u001b[38;5;132;01m{\u001b[39;00mtarget_dir2\u001b[38;5;132;01m}\u001b[39;00m\u001b[38;5;124m\"\u001b[39m)\n\u001b[1;32m----> 4\u001b[0m \u001b[38;5;28mprint\u001b[39m(\u001b[38;5;124mf\u001b[39m\u001b[38;5;124m\"\u001b[39m\u001b[38;5;124mAll the solver files are stored on the server at: \u001b[39m\u001b[38;5;132;01m{\u001b[39;00m\u001b[43mresult_solve_dir_server\u001b[49m\u001b[38;5;132;01m}\u001b[39;00m\u001b[38;5;124m\"\u001b[39m)\n",
      "\u001b[1;31mNameError\u001b[0m: name 'result_solve_dir_server' is not defined"
     ]
    }
   ],
   "source": [
    "current_working_directory = os.getcwd()\n",
    "target_dir2 = current_working_directory\n",
    "print(f\"Files to be copied from server path at: {target_dir2}\")\n",
    "print(f\"All the solver files are stored on the server at: {result_solve_dir_server}\")"
   ]
  },
  {
   "cell_type": "code",
   "execution_count": 44,
   "id": "f153d769",
   "metadata": {
    "execution": {
     "iopub.execute_input": "2024-09-25T13:52:38.781139Z",
     "iopub.status.busy": "2024-09-25T13:52:38.781139Z",
     "iopub.status.idle": "2024-09-25T13:52:38.801396Z",
     "shell.execute_reply": "2024-09-25T13:52:38.801396Z"
    }
   },
   "outputs": [
    {
     "ename": "NameError",
     "evalue": "name 'result_solve_dir_server' is not defined",
     "output_type": "error",
     "traceback": [
      "\u001b[1;31m---------------------------------------------------------------------------\u001b[0m",
      "\u001b[1;31mNameError\u001b[0m                                 Traceback (most recent call last)",
      "Cell \u001b[1;32mIn[44], line 1\u001b[0m\n\u001b[1;32m----> 1\u001b[0m source_dir \u001b[38;5;241m=\u001b[39m \u001b[43mresult_solve_dir_server\u001b[49m\n\u001b[0;32m      2\u001b[0m destination_dir \u001b[38;5;241m=\u001b[39m target_dir2\n",
      "\u001b[1;31mNameError\u001b[0m: name 'result_solve_dir_server' is not defined"
     ]
    }
   ],
   "source": [
    "source_dir = result_solve_dir_server\n",
    "destination_dir = target_dir2"
   ]
  },
  {
   "cell_type": "code",
   "execution_count": 45,
   "id": "94ba4073",
   "metadata": {
    "execution": {
     "iopub.execute_input": "2024-09-25T13:52:38.801396Z",
     "iopub.status.busy": "2024-09-25T13:52:38.801396Z",
     "iopub.status.idle": "2024-09-25T13:52:38.822789Z",
     "shell.execute_reply": "2024-09-25T13:52:38.822789Z"
    }
   },
   "outputs": [
    {
     "ename": "NameError",
     "evalue": "name 'source_dir' is not defined",
     "output_type": "error",
     "traceback": [
      "\u001b[1;31m---------------------------------------------------------------------------\u001b[0m",
      "\u001b[1;31mNameError\u001b[0m                                 Traceback (most recent call last)",
      "Cell \u001b[1;32mIn[45], line 1\u001b[0m\n\u001b[1;32m----> 1\u001b[0m \u001b[38;5;28;01mfor\u001b[39;00m file \u001b[38;5;129;01min\u001b[39;00m glob\u001b[38;5;241m.\u001b[39mglob(\u001b[43msource_dir\u001b[49m \u001b[38;5;241m+\u001b[39m \u001b[38;5;124m'\u001b[39m\u001b[38;5;124m/*\u001b[39m\u001b[38;5;124m'\u001b[39m):\n\u001b[0;32m      2\u001b[0m     shutil\u001b[38;5;241m.\u001b[39mcopy(file, destination_dir)\n",
      "\u001b[1;31mNameError\u001b[0m: name 'source_dir' is not defined"
     ]
    }
   ],
   "source": [
    "for file in glob.glob(source_dir + '/*'):\n",
    "    shutil.copy(file, destination_dir)"
   ]
  },
  {
   "cell_type": "markdown",
   "id": "75290580",
   "metadata": {},
   "source": [
    "Finally, call the `exit` method on both the PyMechanical and Workbench clients to gracefully shut down the services."
   ]
  },
  {
   "cell_type": "code",
   "execution_count": 46,
   "id": "b899a067",
   "metadata": {
    "execution": {
     "iopub.execute_input": "2024-09-25T13:52:38.822789Z",
     "iopub.status.busy": "2024-09-25T13:52:38.822789Z",
     "iopub.status.idle": "2024-09-25T13:52:38.845039Z",
     "shell.execute_reply": "2024-09-25T13:52:38.845039Z"
    }
   },
   "outputs": [
    {
     "ename": "NameError",
     "evalue": "name 'mechanical' is not defined",
     "output_type": "error",
     "traceback": [
      "\u001b[1;31m---------------------------------------------------------------------------\u001b[0m",
      "\u001b[1;31mNameError\u001b[0m                                 Traceback (most recent call last)",
      "Cell \u001b[1;32mIn[46], line 1\u001b[0m\n\u001b[1;32m----> 1\u001b[0m \u001b[43mmechanical\u001b[49m\u001b[38;5;241m.\u001b[39mexit()\n\u001b[0;32m      2\u001b[0m wb\u001b[38;5;241m.\u001b[39mexit()\n",
      "\u001b[1;31mNameError\u001b[0m: name 'mechanical' is not defined"
     ]
    }
   ],
   "source": [
    "mechanical.exit()\n",
    "wb.exit()"
   ]
  }
 ],
 "metadata": {
  "jupytext": {
   "cell_metadata_filter": "-all",
   "main_language": "python",
   "notebook_metadata_filter": "-all",
   "text_representation": {
    "extension": ".py",
    "format_name": "light"
   }
  },
  "language_info": {
   "codemirror_mode": {
    "name": "ipython",
    "version": 3
   },
   "file_extension": ".py",
   "mimetype": "text/x-python",
   "name": "python",
   "nbconvert_exporter": "python",
   "pygments_lexer": "ipython3",
   "version": "3.11.9"
  }
 },
 "nbformat": 4,
 "nbformat_minor": 5
}
