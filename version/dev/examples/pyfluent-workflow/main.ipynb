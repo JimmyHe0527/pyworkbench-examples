{
 "cells": [
  {
   "cell_type": "markdown",
   "id": "8646ec85",
   "metadata": {},
   "source": [
    "# Integrating PyFluent with PyWorkbench:\n",
    "This example showcases how to use PyFluent workflow together with PyWorkbench - (Python client scripting for Ansys Workbench).\n",
    "\n",
    "This example sets up and solves a three-dimensional turbulent fluid flow\n",
    "and heat transfer problem in a mixing elbow, which is common in piping\n",
    "systems in power plants and process industries. Predicting the flow field\n",
    "and temperature field in the area of the mixing region is important to\n",
    "designing the junction properly.\n",
    "\n",
    "This example uses Pyfluent settings objects API's.\n",
    "\n",
    "## Problem description\n",
    "\n",
    "A cold fluid at 20 deg C flows into the pipe through a large inlet. It then mixes\n",
    "with a warmer fluid at 40 deg C that enters through a smaller inlet located at\n",
    "the elbow. The pipe dimensions are in inches, and the fluid properties and\n",
    "boundary conditions are given in SI units. Because the Reynolds number for the\n",
    "flow at the larger inlet is ``50,800``, a turbulent flow model is required."
   ]
  },
  {
   "cell_type": "markdown",
   "id": "9fa32b7d",
   "metadata": {},
   "source": [
    "## Performed required imports\n",
    "Performing essential imports for Ansys Workbench, Fluent Pythonic Interface and for downloading examples data."
   ]
  },
  {
   "cell_type": "code",
   "execution_count": 1,
   "id": "d47280e0",
   "metadata": {
    "execution": {
     "iopub.execute_input": "2024-09-25T13:52:58.115408Z",
     "iopub.status.busy": "2024-09-25T13:52:58.115408Z",
     "iopub.status.idle": "2024-09-25T13:52:58.487738Z",
     "shell.execute_reply": "2024-09-25T13:52:58.487738Z"
    }
   },
   "outputs": [
    {
     "ename": "ModuleNotFoundError",
     "evalue": "No module named 'ansys'",
     "output_type": "error",
     "traceback": [
      "\u001b[1;31m---------------------------------------------------------------------------\u001b[0m",
      "\u001b[1;31mModuleNotFoundError\u001b[0m                       Traceback (most recent call last)",
      "Cell \u001b[1;32mIn[1], line 3\u001b[0m\n\u001b[0;32m      1\u001b[0m \u001b[38;5;28;01mimport\u001b[39;00m \u001b[38;5;21;01mos\u001b[39;00m\n\u001b[0;32m      2\u001b[0m \u001b[38;5;28;01mimport\u001b[39;00m \u001b[38;5;21;01mpathlib\u001b[39;00m\n\u001b[1;32m----> 3\u001b[0m \u001b[38;5;28;01mfrom\u001b[39;00m \u001b[38;5;21;01mansys\u001b[39;00m\u001b[38;5;21;01m.\u001b[39;00m\u001b[38;5;21;01mworkbench\u001b[39;00m\u001b[38;5;21;01m.\u001b[39;00m\u001b[38;5;21;01mcore\u001b[39;00m \u001b[38;5;28;01mimport\u001b[39;00m launch_workbench\n\u001b[0;32m      4\u001b[0m \u001b[38;5;28;01mimport\u001b[39;00m \u001b[38;5;21;01mansys\u001b[39;00m\u001b[38;5;21;01m.\u001b[39;00m\u001b[38;5;21;01mfluent\u001b[39;00m\u001b[38;5;21;01m.\u001b[39;00m\u001b[38;5;21;01mcore\u001b[39;00m \u001b[38;5;28;01mas\u001b[39;00m \u001b[38;5;21;01mpyfluent\u001b[39;00m\n\u001b[0;32m      5\u001b[0m \u001b[38;5;28;01mfrom\u001b[39;00m \u001b[38;5;21;01mansys\u001b[39;00m\u001b[38;5;21;01m.\u001b[39;00m\u001b[38;5;21;01mfluent\u001b[39;00m\u001b[38;5;21;01m.\u001b[39;00m\u001b[38;5;21;01mcore\u001b[39;00m \u001b[38;5;28;01mimport\u001b[39;00m examples\n",
      "\u001b[1;31mModuleNotFoundError\u001b[0m: No module named 'ansys'"
     ]
    }
   ],
   "source": [
    "import os\n",
    "import pathlib\n",
    "from ansys.workbench.core import launch_workbench\n",
    "import ansys.fluent.core as pyfluent\n",
    "from ansys.fluent.core import examples"
   ]
  },
  {
   "cell_type": "markdown",
   "id": "0d15dd45",
   "metadata": {},
   "source": [
    "## Specify client and server directories with launch WB service."
   ]
  },
  {
   "cell_type": "code",
   "execution_count": 2,
   "id": "93f91707",
   "metadata": {
    "execution": {
     "iopub.execute_input": "2024-09-25T13:52:58.487738Z",
     "iopub.status.busy": "2024-09-25T13:52:58.487738Z",
     "iopub.status.idle": "2024-09-25T13:52:58.494983Z",
     "shell.execute_reply": "2024-09-25T13:52:58.494983Z"
    },
    "lines_to_next_cell": 2
   },
   "outputs": [],
   "source": [
    "workdir = pathlib.Path(\"__file__\").parent"
   ]
  },
  {
   "cell_type": "code",
   "execution_count": 3,
   "id": "8ade124d",
   "metadata": {
    "execution": {
     "iopub.execute_input": "2024-09-25T13:52:58.494983Z",
     "iopub.status.busy": "2024-09-25T13:52:58.494983Z",
     "iopub.status.idle": "2024-09-25T13:52:58.515768Z",
     "shell.execute_reply": "2024-09-25T13:52:58.515768Z"
    }
   },
   "outputs": [
    {
     "ename": "NameError",
     "evalue": "name 'launch_workbench' is not defined",
     "output_type": "error",
     "traceback": [
      "\u001b[1;31m---------------------------------------------------------------------------\u001b[0m",
      "\u001b[1;31mNameError\u001b[0m                                 Traceback (most recent call last)",
      "Cell \u001b[1;32mIn[3], line 1\u001b[0m\n\u001b[1;32m----> 1\u001b[0m wb \u001b[38;5;241m=\u001b[39m \u001b[43mlaunch_workbench\u001b[49m(client_workdir\u001b[38;5;241m=\u001b[39m\u001b[38;5;28mstr\u001b[39m(workdir\u001b[38;5;241m.\u001b[39mabsolute()))\n",
      "\u001b[1;31mNameError\u001b[0m: name 'launch_workbench' is not defined"
     ]
    }
   ],
   "source": [
    "wb = launch_workbench(client_workdir=str(workdir.absolute()))"
   ]
  },
  {
   "cell_type": "markdown",
   "id": "f52814d5",
   "metadata": {},
   "source": [
    "## Download the input file from example data and upload to server directory."
   ]
  },
  {
   "cell_type": "code",
   "execution_count": 4,
   "id": "0ca07e7f",
   "metadata": {
    "execution": {
     "iopub.execute_input": "2024-09-25T13:52:58.515768Z",
     "iopub.status.busy": "2024-09-25T13:52:58.515768Z",
     "iopub.status.idle": "2024-09-25T13:52:58.535965Z",
     "shell.execute_reply": "2024-09-25T13:52:58.535965Z"
    }
   },
   "outputs": [
    {
     "ename": "NameError",
     "evalue": "name 'examples' is not defined",
     "output_type": "error",
     "traceback": [
      "\u001b[1;31m---------------------------------------------------------------------------\u001b[0m",
      "\u001b[1;31mNameError\u001b[0m                                 Traceback (most recent call last)",
      "Cell \u001b[1;32mIn[4], line 1\u001b[0m\n\u001b[1;32m----> 1\u001b[0m import_filename \u001b[38;5;241m=\u001b[39m \u001b[43mexamples\u001b[49m\u001b[38;5;241m.\u001b[39mdownload_file(\u001b[38;5;124m\"\u001b[39m\u001b[38;5;124mmixing_elbow.msh.h5\u001b[39m\u001b[38;5;124m\"\u001b[39m, \u001b[38;5;124m\"\u001b[39m\u001b[38;5;124mpyfluent/mixing_elbow\u001b[39m\u001b[38;5;124m\"\u001b[39m)\n\u001b[0;32m      2\u001b[0m wb\u001b[38;5;241m.\u001b[39mupload_file(import_filename)\n",
      "\u001b[1;31mNameError\u001b[0m: name 'examples' is not defined"
     ]
    }
   ],
   "source": [
    "import_filename = examples.download_file(\"mixing_elbow.msh.h5\", \"pyfluent/mixing_elbow\")\n",
    "wb.upload_file(import_filename)"
   ]
  },
  {
   "cell_type": "markdown",
   "id": "c301056c",
   "metadata": {},
   "source": [
    "## Generate a \"FLUENT\" System using Ansys Workbench Scripting API (used for Journaling) and parse it to the PyWorkbench API."
   ]
  },
  {
   "cell_type": "code",
   "execution_count": 5,
   "id": "dfbaaf6b",
   "metadata": {
    "execution": {
     "iopub.execute_input": "2024-09-25T13:52:58.535965Z",
     "iopub.status.busy": "2024-09-25T13:52:58.535965Z",
     "iopub.status.idle": "2024-09-25T13:52:58.556798Z",
     "shell.execute_reply": "2024-09-25T13:52:58.556798Z"
    },
    "lines_to_next_cell": 2
   },
   "outputs": [
    {
     "ename": "NameError",
     "evalue": "name 'wb' is not defined",
     "output_type": "error",
     "traceback": [
      "\u001b[1;31m---------------------------------------------------------------------------\u001b[0m",
      "\u001b[1;31mNameError\u001b[0m                                 Traceback (most recent call last)",
      "Cell \u001b[1;32mIn[5], line 2\u001b[0m\n\u001b[0;32m      1\u001b[0m export_path \u001b[38;5;241m=\u001b[39m \u001b[38;5;124m\"\u001b[39m\u001b[38;5;124mwb_log_file.log\u001b[39m\u001b[38;5;124m\"\u001b[39m\n\u001b[1;32m----> 2\u001b[0m \u001b[43mwb\u001b[49m\u001b[38;5;241m.\u001b[39mset_log_file(export_path)\n\u001b[0;32m      3\u001b[0m wb\u001b[38;5;241m.\u001b[39mrun_script_string(\u001b[38;5;124m'\u001b[39m\u001b[38;5;124mtemplate1 = GetTemplate(TemplateName=\u001b[39m\u001b[38;5;124m\"\u001b[39m\u001b[38;5;124mFLUENT\u001b[39m\u001b[38;5;124m\"\u001b[39m\u001b[38;5;124m)\u001b[39m\u001b[38;5;124m'\u001b[39m, log_level\u001b[38;5;241m=\u001b[39m\u001b[38;5;124m\"\u001b[39m\u001b[38;5;124minfo\u001b[39m\u001b[38;5;124m\"\u001b[39m)\n\u001b[0;32m      4\u001b[0m wb\u001b[38;5;241m.\u001b[39mrun_script_string(\u001b[38;5;124m\"\u001b[39m\u001b[38;5;124msystem1 = template1.CreateSystem()\u001b[39m\u001b[38;5;124m\"\u001b[39m)\n",
      "\u001b[1;31mNameError\u001b[0m: name 'wb' is not defined"
     ]
    }
   ],
   "source": [
    "export_path = \"wb_log_file.log\"\n",
    "wb.set_log_file(export_path)\n",
    "wb.run_script_string('template1 = GetTemplate(TemplateName=\"FLUENT\")', log_level=\"info\")\n",
    "wb.run_script_string(\"system1 = template1.CreateSystem()\")"
   ]
  },
  {
   "cell_type": "markdown",
   "id": "a8f3eb09",
   "metadata": {},
   "source": [
    "## Launch Fluent & Connect to Fluent\n",
    "Launch Fluent as server with PyWorkbench API and and connect to Pyfluent session"
   ]
  },
  {
   "cell_type": "code",
   "execution_count": 6,
   "id": "79285bf4",
   "metadata": {
    "execution": {
     "iopub.execute_input": "2024-09-25T13:52:58.556798Z",
     "iopub.status.busy": "2024-09-25T13:52:58.556798Z",
     "iopub.status.idle": "2024-09-25T13:52:58.577737Z",
     "shell.execute_reply": "2024-09-25T13:52:58.577737Z"
    },
    "lines_to_next_cell": 2
   },
   "outputs": [
    {
     "ename": "NameError",
     "evalue": "name 'wb' is not defined",
     "output_type": "error",
     "traceback": [
      "\u001b[1;31m---------------------------------------------------------------------------\u001b[0m",
      "\u001b[1;31mNameError\u001b[0m                                 Traceback (most recent call last)",
      "Cell \u001b[1;32mIn[6], line 1\u001b[0m\n\u001b[1;32m----> 1\u001b[0m server_info_file \u001b[38;5;241m=\u001b[39m \u001b[43mwb\u001b[49m\u001b[38;5;241m.\u001b[39mstart_fluent_server(system_name\u001b[38;5;241m=\u001b[39m\u001b[38;5;124m\"\u001b[39m\u001b[38;5;124mFLU\u001b[39m\u001b[38;5;124m\"\u001b[39m)\n\u001b[0;32m      2\u001b[0m fluent_session \u001b[38;5;241m=\u001b[39m pyfluent\u001b[38;5;241m.\u001b[39mconnect_to_fluent(server_info_file_name\u001b[38;5;241m=\u001b[39mserver_info_file)\n",
      "\u001b[1;31mNameError\u001b[0m: name 'wb' is not defined"
     ]
    }
   ],
   "source": [
    "server_info_file = wb.start_fluent_server(system_name=\"FLU\")\n",
    "fluent_session = pyfluent.connect_to_fluent(server_info_file_name=server_info_file)"
   ]
  },
  {
   "cell_type": "markdown",
   "id": "9d6e2b02",
   "metadata": {},
   "source": [
    "## Import mesh and perform mesh check"
   ]
  },
  {
   "cell_type": "code",
   "execution_count": 7,
   "id": "d3a0afde",
   "metadata": {
    "execution": {
     "iopub.execute_input": "2024-09-25T13:52:58.577737Z",
     "iopub.status.busy": "2024-09-25T13:52:58.577737Z",
     "iopub.status.idle": "2024-09-25T13:52:58.599057Z",
     "shell.execute_reply": "2024-09-25T13:52:58.599057Z"
    }
   },
   "outputs": [
    {
     "ename": "NameError",
     "evalue": "name 'fluent_session' is not defined",
     "output_type": "error",
     "traceback": [
      "\u001b[1;31m---------------------------------------------------------------------------\u001b[0m",
      "\u001b[1;31mNameError\u001b[0m                                 Traceback (most recent call last)",
      "Cell \u001b[1;32mIn[7], line 7\u001b[0m\n\u001b[0;32m      1\u001b[0m \u001b[38;5;66;03m# Import the mesh and perform a mesh check, which lists the minimum and maximum\u001b[39;00m\n\u001b[0;32m      2\u001b[0m \u001b[38;5;66;03m# x, y, and z values from the mesh in the default SI units of meters. The mesh\u001b[39;00m\n\u001b[0;32m      3\u001b[0m \u001b[38;5;66;03m# check also reports a number of other mesh features that are checked. Any errors\u001b[39;00m\n\u001b[0;32m      4\u001b[0m \u001b[38;5;66;03m# in the mesh are reported. Ensure that the minimum volume is not negative because\u001b[39;00m\n\u001b[0;32m      5\u001b[0m \u001b[38;5;66;03m# Fluent cannot begin a calculation when this is the case.\u001b[39;00m\n\u001b[1;32m----> 7\u001b[0m \u001b[43mfluent_session\u001b[49m\u001b[38;5;241m.\u001b[39mfile\u001b[38;5;241m.\u001b[39mread_mesh(file_name\u001b[38;5;241m=\u001b[39mimport_filename)\n\u001b[0;32m      8\u001b[0m fluent_session\u001b[38;5;241m.\u001b[39mmesh\u001b[38;5;241m.\u001b[39mcheck()\n",
      "\u001b[1;31mNameError\u001b[0m: name 'fluent_session' is not defined"
     ]
    }
   ],
   "source": [
    "# Import the mesh and perform a mesh check, which lists the minimum and maximum\n",
    "# x, y, and z values from the mesh in the default SI units of meters. The mesh\n",
    "# check also reports a number of other mesh features that are checked. Any errors\n",
    "# in the mesh are reported. Ensure that the minimum volume is not negative because\n",
    "# Fluent cannot begin a calculation when this is the case.\n",
    "\n",
    "fluent_session.file.read_mesh(file_name=import_filename)\n",
    "fluent_session.mesh.check()\n"
   ]
  },
  {
   "cell_type": "markdown",
   "id": "5133cbd5",
   "metadata": {},
   "source": [
    "## Set working units for mesh"
   ]
  },
  {
   "cell_type": "markdown",
   "id": "31caaef7",
   "metadata": {},
   "source": [
    "Set the working units for the mesh to inches. Because the default SI units are\n",
    "used for everything except length, you do not have to change any other units\n",
    "in this example. If you want working units for length to be other than inches\n",
    "(for example, millimeters), make the appropriate change."
   ]
  },
  {
   "cell_type": "code",
   "execution_count": 8,
   "id": "c423b65e",
   "metadata": {
    "execution": {
     "iopub.execute_input": "2024-09-25T13:52:58.599057Z",
     "iopub.status.busy": "2024-09-25T13:52:58.599057Z",
     "iopub.status.idle": "2024-09-25T13:52:58.619008Z",
     "shell.execute_reply": "2024-09-25T13:52:58.619008Z"
    },
    "lines_to_next_cell": 2
   },
   "outputs": [
    {
     "ename": "NameError",
     "evalue": "name 'fluent_session' is not defined",
     "output_type": "error",
     "traceback": [
      "\u001b[1;31m---------------------------------------------------------------------------\u001b[0m",
      "\u001b[1;31mNameError\u001b[0m                                 Traceback (most recent call last)",
      "Cell \u001b[1;32mIn[8], line 1\u001b[0m\n\u001b[1;32m----> 1\u001b[0m \u001b[43mfluent_session\u001b[49m\u001b[38;5;241m.\u001b[39mtui\u001b[38;5;241m.\u001b[39mdefine\u001b[38;5;241m.\u001b[39munits(\u001b[38;5;124m\"\u001b[39m\u001b[38;5;124mlength\u001b[39m\u001b[38;5;124m\"\u001b[39m, \u001b[38;5;124m\"\u001b[39m\u001b[38;5;124min\u001b[39m\u001b[38;5;124m\"\u001b[39m)\n",
      "\u001b[1;31mNameError\u001b[0m: name 'fluent_session' is not defined"
     ]
    }
   ],
   "source": [
    "fluent_session.tui.define.units(\"length\", \"in\")"
   ]
  },
  {
   "cell_type": "markdown",
   "id": "bdcc8adc",
   "metadata": {},
   "source": [
    "## Enable heat transfer\n",
    "Enable heat transfer by activating the energy equation."
   ]
  },
  {
   "cell_type": "code",
   "execution_count": 9,
   "id": "0979641b",
   "metadata": {
    "execution": {
     "iopub.execute_input": "2024-09-25T13:52:58.619008Z",
     "iopub.status.busy": "2024-09-25T13:52:58.619008Z",
     "iopub.status.idle": "2024-09-25T13:52:58.639530Z",
     "shell.execute_reply": "2024-09-25T13:52:58.639530Z"
    }
   },
   "outputs": [
    {
     "ename": "NameError",
     "evalue": "name 'fluent_session' is not defined",
     "output_type": "error",
     "traceback": [
      "\u001b[1;31m---------------------------------------------------------------------------\u001b[0m",
      "\u001b[1;31mNameError\u001b[0m                                 Traceback (most recent call last)",
      "Cell \u001b[1;32mIn[9], line 1\u001b[0m\n\u001b[1;32m----> 1\u001b[0m \u001b[43mfluent_session\u001b[49m\u001b[38;5;241m.\u001b[39msetup\u001b[38;5;241m.\u001b[39mmodels\u001b[38;5;241m.\u001b[39menergy\u001b[38;5;241m.\u001b[39menabled \u001b[38;5;241m=\u001b[39m \u001b[38;5;28;01mTrue\u001b[39;00m\n",
      "\u001b[1;31mNameError\u001b[0m: name 'fluent_session' is not defined"
     ]
    }
   ],
   "source": [
    "fluent_session.setup.models.energy.enabled = True"
   ]
  },
  {
   "cell_type": "markdown",
   "id": "c456724b",
   "metadata": {},
   "source": [
    "## Create material\n",
    "Create a material named ``\"water-liquid\"``."
   ]
  },
  {
   "cell_type": "code",
   "execution_count": 10,
   "id": "f2f5a791",
   "metadata": {
    "execution": {
     "iopub.execute_input": "2024-09-25T13:52:58.639530Z",
     "iopub.status.busy": "2024-09-25T13:52:58.639530Z",
     "iopub.status.idle": "2024-09-25T13:52:58.660512Z",
     "shell.execute_reply": "2024-09-25T13:52:58.660512Z"
    }
   },
   "outputs": [
    {
     "ename": "NameError",
     "evalue": "name 'fluent_session' is not defined",
     "output_type": "error",
     "traceback": [
      "\u001b[1;31m---------------------------------------------------------------------------\u001b[0m",
      "\u001b[1;31mNameError\u001b[0m                                 Traceback (most recent call last)",
      "Cell \u001b[1;32mIn[10], line 1\u001b[0m\n\u001b[1;32m----> 1\u001b[0m \u001b[43mfluent_session\u001b[49m\u001b[38;5;241m.\u001b[39msetup\u001b[38;5;241m.\u001b[39mmaterials\u001b[38;5;241m.\u001b[39mdatabase\u001b[38;5;241m.\u001b[39mcopy_by_name(\u001b[38;5;28mtype\u001b[39m\u001b[38;5;241m=\u001b[39m\u001b[38;5;124m\"\u001b[39m\u001b[38;5;124mfluid\u001b[39m\u001b[38;5;124m\"\u001b[39m, name\u001b[38;5;241m=\u001b[39m\u001b[38;5;124m\"\u001b[39m\u001b[38;5;124mwater-liquid\u001b[39m\u001b[38;5;124m\"\u001b[39m)\n",
      "\u001b[1;31mNameError\u001b[0m: name 'fluent_session' is not defined"
     ]
    }
   ],
   "source": [
    "fluent_session.setup.materials.database.copy_by_name(type=\"fluid\", name=\"water-liquid\")"
   ]
  },
  {
   "cell_type": "markdown",
   "id": "328efb1d",
   "metadata": {},
   "source": [
    "## Set up cell zone conditions"
   ]
  },
  {
   "cell_type": "markdown",
   "id": "9112c398",
   "metadata": {},
   "source": [
    "Set up the cell zone conditions for the fluid zone (``elbow-fluid``). Set ``material``\n",
    "to ``\"water-liquid\"``."
   ]
  },
  {
   "cell_type": "code",
   "execution_count": 11,
   "id": "2021ef89",
   "metadata": {
    "execution": {
     "iopub.execute_input": "2024-09-25T13:52:58.660512Z",
     "iopub.status.busy": "2024-09-25T13:52:58.660512Z",
     "iopub.status.idle": "2024-09-25T13:52:58.683098Z",
     "shell.execute_reply": "2024-09-25T13:52:58.683098Z"
    }
   },
   "outputs": [
    {
     "ename": "NameError",
     "evalue": "name 'fluent_session' is not defined",
     "output_type": "error",
     "traceback": [
      "\u001b[1;31m---------------------------------------------------------------------------\u001b[0m",
      "\u001b[1;31mNameError\u001b[0m                                 Traceback (most recent call last)",
      "Cell \u001b[1;32mIn[11], line 1\u001b[0m\n\u001b[1;32m----> 1\u001b[0m \u001b[43mfluent_session\u001b[49m\u001b[38;5;241m.\u001b[39msetup\u001b[38;5;241m.\u001b[39mcell_zone_conditions\u001b[38;5;241m.\u001b[39mfluid[\u001b[38;5;124m'\u001b[39m\u001b[38;5;124melbow-fluid\u001b[39m\u001b[38;5;124m'\u001b[39m]\u001b[38;5;241m.\u001b[39mgeneral\u001b[38;5;241m.\u001b[39mmaterial \u001b[38;5;241m=\u001b[39m \u001b[38;5;124m\"\u001b[39m\u001b[38;5;124mwater-liquid\u001b[39m\u001b[38;5;124m\"\u001b[39m\n",
      "\u001b[1;31mNameError\u001b[0m: name 'fluent_session' is not defined"
     ]
    }
   ],
   "source": [
    "fluent_session.setup.cell_zone_conditions.fluid['elbow-fluid'].general.material = \"water-liquid\""
   ]
  },
  {
   "cell_type": "markdown",
   "id": "564fdd5d",
   "metadata": {},
   "source": [
    "## Set up boundary conditions for CFD analysis"
   ]
  },
  {
   "cell_type": "markdown",
   "id": "4adda3ea",
   "metadata": {},
   "source": [
    "Set up the boundary conditions for the inlets, outlet, and walls for CFD\n",
    "analysis.\n",
    "- cold inlet (cold-inlet), Setting: Value:\n",
    "- Velocity Specification Method: Magnitude, Normal to Boundary\n",
    "- Velocity Magnitude: 0.4 [m/s]\n",
    "- Specification Method: Intensity and Hydraulic Diameter\n",
    "- Turbulent Intensity: 5 [%]\n",
    "- Hydraulic Diameter: 4 [inch]\n",
    "- Temperature: 293.15 [K]"
   ]
  },
  {
   "cell_type": "code",
   "execution_count": 12,
   "id": "2466f666",
   "metadata": {
    "execution": {
     "iopub.execute_input": "2024-09-25T13:52:58.683098Z",
     "iopub.status.busy": "2024-09-25T13:52:58.683098Z",
     "iopub.status.idle": "2024-09-25T13:52:58.707870Z",
     "shell.execute_reply": "2024-09-25T13:52:58.707870Z"
    }
   },
   "outputs": [
    {
     "ename": "NameError",
     "evalue": "name 'fluent_session' is not defined",
     "output_type": "error",
     "traceback": [
      "\u001b[1;31m---------------------------------------------------------------------------\u001b[0m",
      "\u001b[1;31mNameError\u001b[0m                                 Traceback (most recent call last)",
      "Cell \u001b[1;32mIn[12], line 1\u001b[0m\n\u001b[1;32m----> 1\u001b[0m cold_inlet \u001b[38;5;241m=\u001b[39m \u001b[43mfluent_session\u001b[49m\u001b[38;5;241m.\u001b[39msetup\u001b[38;5;241m.\u001b[39mboundary_conditions\u001b[38;5;241m.\u001b[39mvelocity_inlet[\u001b[38;5;124m\"\u001b[39m\u001b[38;5;124mcold-inlet\u001b[39m\u001b[38;5;124m\"\u001b[39m]\n\u001b[0;32m      2\u001b[0m cold_inlet\u001b[38;5;241m.\u001b[39mget_state()\n\u001b[0;32m      3\u001b[0m cold_inlet\u001b[38;5;241m.\u001b[39mmomentum\u001b[38;5;241m.\u001b[39mvelocity\u001b[38;5;241m.\u001b[39mvalue \u001b[38;5;241m=\u001b[39m \u001b[38;5;241m0.4\u001b[39m\n",
      "\u001b[1;31mNameError\u001b[0m: name 'fluent_session' is not defined"
     ]
    }
   ],
   "source": [
    "cold_inlet = fluent_session.setup.boundary_conditions.velocity_inlet[\"cold-inlet\"]\n",
    "cold_inlet.get_state()\n",
    "cold_inlet.momentum.velocity.value = 0.4\n",
    "cold_inlet.turbulence.turbulent_specification = \"Intensity and Hydraulic Diameter\"\n",
    "cold_inlet.turbulence.turbulent_intensity = 0.05\n",
    "cold_inlet.turbulence.hydraulic_diameter = \"4 [in]\"\n",
    "cold_inlet.thermal.t.value = 293.15"
   ]
  },
  {
   "cell_type": "markdown",
   "id": "b90c853e",
   "metadata": {},
   "source": [
    "- hot inlet (hot-inlet), Setting: Value:\n",
    "- Velocity Specification Method: Magnitude, Normal to Boundary\n",
    "- Velocity Magnitude: 1.2 [m/s]\n",
    "- Specification Method: Intensity and Hydraulic Diameter\n",
    "- Turbulent Intensity: 5 [%]\n",
    "- Hydraulic Diameter: 1 [inch]\n",
    "- Temperature: 313.15 [K]"
   ]
  },
  {
   "cell_type": "code",
   "execution_count": 13,
   "id": "dfd6b14a",
   "metadata": {
    "execution": {
     "iopub.execute_input": "2024-09-25T13:52:58.707870Z",
     "iopub.status.busy": "2024-09-25T13:52:58.707870Z",
     "iopub.status.idle": "2024-09-25T13:52:58.734902Z",
     "shell.execute_reply": "2024-09-25T13:52:58.734902Z"
    }
   },
   "outputs": [
    {
     "ename": "NameError",
     "evalue": "name 'fluent_session' is not defined",
     "output_type": "error",
     "traceback": [
      "\u001b[1;31m---------------------------------------------------------------------------\u001b[0m",
      "\u001b[1;31mNameError\u001b[0m                                 Traceback (most recent call last)",
      "Cell \u001b[1;32mIn[13], line 1\u001b[0m\n\u001b[1;32m----> 1\u001b[0m hot_inlet \u001b[38;5;241m=\u001b[39m \u001b[43mfluent_session\u001b[49m\u001b[38;5;241m.\u001b[39msetup\u001b[38;5;241m.\u001b[39mboundary_conditions\u001b[38;5;241m.\u001b[39mvelocity_inlet[\u001b[38;5;124m\"\u001b[39m\u001b[38;5;124mhot-inlet\u001b[39m\u001b[38;5;124m\"\u001b[39m]\n\u001b[0;32m      2\u001b[0m hot_inlet\u001b[38;5;241m.\u001b[39mmomentum\u001b[38;5;241m.\u001b[39mvelocity\u001b[38;5;241m.\u001b[39mvalue \u001b[38;5;241m=\u001b[39m \u001b[38;5;241m1.2\u001b[39m\n\u001b[0;32m      3\u001b[0m hot_inlet\u001b[38;5;241m.\u001b[39mturbulence\u001b[38;5;241m.\u001b[39mturbulent_specification \u001b[38;5;241m=\u001b[39m \u001b[38;5;124m\"\u001b[39m\u001b[38;5;124mIntensity and Hydraulic Diameter\u001b[39m\u001b[38;5;124m\"\u001b[39m\n",
      "\u001b[1;31mNameError\u001b[0m: name 'fluent_session' is not defined"
     ]
    }
   ],
   "source": [
    "hot_inlet = fluent_session.setup.boundary_conditions.velocity_inlet[\"hot-inlet\"]\n",
    "hot_inlet.momentum.velocity.value = 1.2\n",
    "hot_inlet.turbulence.turbulent_specification = \"Intensity and Hydraulic Diameter\"\n",
    "hot_inlet.turbulence.turbulent_intensity = 0.05\n",
    "hot_inlet.turbulence.hydraulic_diameter = \"1 [in]\"\n",
    "hot_inlet.thermal.t.value = 313.15"
   ]
  },
  {
   "cell_type": "markdown",
   "id": "844e3041",
   "metadata": {},
   "source": [
    "- pressure outlet (outlet), Setting: Value:\n",
    "- Backflow Turbulent Intensity: 5 [%]\n",
    "- Backflow Turbulent Viscosity Ratio: 4"
   ]
  },
  {
   "cell_type": "code",
   "execution_count": 14,
   "id": "7dd43da1",
   "metadata": {
    "execution": {
     "iopub.execute_input": "2024-09-25T13:52:58.734902Z",
     "iopub.status.busy": "2024-09-25T13:52:58.734902Z",
     "iopub.status.idle": "2024-09-25T13:52:58.804049Z",
     "shell.execute_reply": "2024-09-25T13:52:58.804049Z"
    }
   },
   "outputs": [
    {
     "ename": "NameError",
     "evalue": "name 'fluent_session' is not defined",
     "output_type": "error",
     "traceback": [
      "\u001b[1;31m---------------------------------------------------------------------------\u001b[0m",
      "\u001b[1;31mNameError\u001b[0m                                 Traceback (most recent call last)",
      "Cell \u001b[1;32mIn[14], line 1\u001b[0m\n\u001b[1;32m----> 1\u001b[0m \u001b[43mfluent_session\u001b[49m\u001b[38;5;241m.\u001b[39msetup\u001b[38;5;241m.\u001b[39mboundary_conditions\u001b[38;5;241m.\u001b[39mpressure_outlet[\n\u001b[0;32m      2\u001b[0m     \u001b[38;5;124m\"\u001b[39m\u001b[38;5;124moutlet\u001b[39m\u001b[38;5;124m\"\u001b[39m\n\u001b[0;32m      3\u001b[0m ]\u001b[38;5;241m.\u001b[39mturbulence\u001b[38;5;241m.\u001b[39mbackflow_turbulent_viscosity_ratio \u001b[38;5;241m=\u001b[39m \u001b[38;5;241m4\u001b[39m\n",
      "\u001b[1;31mNameError\u001b[0m: name 'fluent_session' is not defined"
     ]
    }
   ],
   "source": [
    "fluent_session.setup.boundary_conditions.pressure_outlet[\n",
    "    \"outlet\"\n",
    "].turbulence.backflow_turbulent_viscosity_ratio = 4"
   ]
  },
  {
   "cell_type": "markdown",
   "id": "3d3510ad",
   "metadata": {},
   "source": [
    "## Initialize flow field"
   ]
  },
  {
   "cell_type": "code",
   "execution_count": 15,
   "id": "5b2c7add",
   "metadata": {
    "execution": {
     "iopub.execute_input": "2024-09-25T13:52:58.804049Z",
     "iopub.status.busy": "2024-09-25T13:52:58.804049Z",
     "iopub.status.idle": "2024-09-25T13:52:58.825096Z",
     "shell.execute_reply": "2024-09-25T13:52:58.825096Z"
    }
   },
   "outputs": [
    {
     "ename": "NameError",
     "evalue": "name 'fluent_session' is not defined",
     "output_type": "error",
     "traceback": [
      "\u001b[1;31m---------------------------------------------------------------------------\u001b[0m",
      "\u001b[1;31mNameError\u001b[0m                                 Traceback (most recent call last)",
      "Cell \u001b[1;32mIn[15], line 1\u001b[0m\n\u001b[1;32m----> 1\u001b[0m \u001b[43mfluent_session\u001b[49m\u001b[38;5;241m.\u001b[39msolution\u001b[38;5;241m.\u001b[39minitialization\u001b[38;5;241m.\u001b[39mhybrid_initialize()\n",
      "\u001b[1;31mNameError\u001b[0m: name 'fluent_session' is not defined"
     ]
    }
   ],
   "source": [
    "fluent_session.solution.initialization.hybrid_initialize()"
   ]
  },
  {
   "cell_type": "markdown",
   "id": "75312354",
   "metadata": {},
   "source": [
    "## Solve for 150 iterations\n",
    "Setting iteration count to 150 to solve the model."
   ]
  },
  {
   "cell_type": "code",
   "execution_count": 16,
   "id": "72c40f5d",
   "metadata": {
    "execution": {
     "iopub.execute_input": "2024-09-25T13:52:58.825096Z",
     "iopub.status.busy": "2024-09-25T13:52:58.825096Z",
     "iopub.status.idle": "2024-09-25T13:52:58.846264Z",
     "shell.execute_reply": "2024-09-25T13:52:58.846264Z"
    },
    "lines_to_next_cell": 2
   },
   "outputs": [
    {
     "ename": "NameError",
     "evalue": "name 'fluent_session' is not defined",
     "output_type": "error",
     "traceback": [
      "\u001b[1;31m---------------------------------------------------------------------------\u001b[0m",
      "\u001b[1;31mNameError\u001b[0m                                 Traceback (most recent call last)",
      "Cell \u001b[1;32mIn[16], line 1\u001b[0m\n\u001b[1;32m----> 1\u001b[0m \u001b[43mfluent_session\u001b[49m\u001b[38;5;241m.\u001b[39msolution\u001b[38;5;241m.\u001b[39mrun_calculation\u001b[38;5;241m.\u001b[39miter_count \u001b[38;5;241m=\u001b[39m \u001b[38;5;241m100\u001b[39m\n",
      "\u001b[1;31mNameError\u001b[0m: name 'fluent_session' is not defined"
     ]
    }
   ],
   "source": [
    "fluent_session.solution.run_calculation.iter_count = 100"
   ]
  },
  {
   "cell_type": "markdown",
   "id": "377eeaa5",
   "metadata": {},
   "source": [
    "## Update Solution using Workbench Journal Commands"
   ]
  },
  {
   "cell_type": "code",
   "execution_count": 17,
   "id": "e2f0155b",
   "metadata": {
    "execution": {
     "iopub.execute_input": "2024-09-25T13:52:58.846264Z",
     "iopub.status.busy": "2024-09-25T13:52:58.846264Z",
     "iopub.status.idle": "2024-09-25T13:52:58.853978Z",
     "shell.execute_reply": "2024-09-25T13:52:58.853978Z"
    }
   },
   "outputs": [],
   "source": [
    "script_string = \"\"\"\n",
    "solutionComponent1 = system1.GetComponent(Name=\"Solution\")\n",
    "system1 = GetSystem(Name=\"FLU\")\n",
    "solutionComponent1 = system1.GetComponent(Name=\"Solution\")\n",
    "solutionComponent1.Update(AllDependencies=True)\n",
    "\"\"\""
   ]
  },
  {
   "cell_type": "code",
   "execution_count": 18,
   "id": "3c940df4",
   "metadata": {
    "execution": {
     "iopub.execute_input": "2024-09-25T13:52:58.853978Z",
     "iopub.status.busy": "2024-09-25T13:52:58.853978Z",
     "iopub.status.idle": "2024-09-25T13:52:58.873488Z",
     "shell.execute_reply": "2024-09-25T13:52:58.873488Z"
    },
    "lines_to_next_cell": 2
   },
   "outputs": [
    {
     "ename": "NameError",
     "evalue": "name 'wb' is not defined",
     "output_type": "error",
     "traceback": [
      "\u001b[1;31m---------------------------------------------------------------------------\u001b[0m",
      "\u001b[1;31mNameError\u001b[0m                                 Traceback (most recent call last)",
      "Cell \u001b[1;32mIn[18], line 1\u001b[0m\n\u001b[1;32m----> 1\u001b[0m \u001b[43mwb\u001b[49m\u001b[38;5;241m.\u001b[39mrun_script_string(script_string)\n",
      "\u001b[1;31mNameError\u001b[0m: name 'wb' is not defined"
     ]
    }
   ],
   "source": [
    "wb.run_script_string(script_string)"
   ]
  },
  {
   "cell_type": "markdown",
   "id": "39eb9206",
   "metadata": {},
   "source": [
    "## Postprocessing\n",
    "Create and display velocity vectors on the ``symmetry-xyplane`` plane."
   ]
  },
  {
   "cell_type": "markdown",
   "id": "c11c2fec",
   "metadata": {},
   "source": [
    "## Configure graphics picture export\n",
    "Since Fluent is being run without the GUI, you must to export plots as picture files. Edit the picture settings to use a custom resolution so that the images are large enough."
   ]
  },
  {
   "cell_type": "code",
   "execution_count": 19,
   "id": "e1a48790",
   "metadata": {
    "execution": {
     "iopub.execute_input": "2024-09-25T13:52:58.873488Z",
     "iopub.status.busy": "2024-09-25T13:52:58.873488Z",
     "iopub.status.idle": "2024-09-25T13:52:58.896517Z",
     "shell.execute_reply": "2024-09-25T13:52:58.896517Z"
    }
   },
   "outputs": [
    {
     "ename": "NameError",
     "evalue": "name 'fluent_session' is not defined",
     "output_type": "error",
     "traceback": [
      "\u001b[1;31m---------------------------------------------------------------------------\u001b[0m",
      "\u001b[1;31mNameError\u001b[0m                                 Traceback (most recent call last)",
      "Cell \u001b[1;32mIn[19], line 1\u001b[0m\n\u001b[1;32m----> 1\u001b[0m graphics \u001b[38;5;241m=\u001b[39m \u001b[43mfluent_session\u001b[49m\u001b[38;5;241m.\u001b[39mresults\u001b[38;5;241m.\u001b[39mgraphics\n\u001b[0;32m      2\u001b[0m \u001b[38;5;28;01mif\u001b[39;00m graphics\u001b[38;5;241m.\u001b[39mpicture\u001b[38;5;241m.\u001b[39muse_window_resolution\u001b[38;5;241m.\u001b[39mis_active():\n\u001b[0;32m      3\u001b[0m     graphics\u001b[38;5;241m.\u001b[39mpicture\u001b[38;5;241m.\u001b[39muse_window_resolution \u001b[38;5;241m=\u001b[39m \u001b[38;5;28;01mFalse\u001b[39;00m\n",
      "\u001b[1;31mNameError\u001b[0m: name 'fluent_session' is not defined"
     ]
    }
   ],
   "source": [
    "graphics = fluent_session.results.graphics\n",
    "if graphics.picture.use_window_resolution.is_active():\n",
    "    graphics.picture.use_window_resolution = False\n",
    "graphics.picture.x_resolution = 1920\n",
    "graphics.picture.y_resolution = 1440"
   ]
  },
  {
   "cell_type": "markdown",
   "id": "27334087",
   "metadata": {},
   "source": [
    "## Create velocity vectors\n",
    "Create and display velocity vectors on the ``symmetry-xyplane`` plane. Then, export the image for inspection."
   ]
  },
  {
   "cell_type": "code",
   "execution_count": 20,
   "id": "b9cd1276",
   "metadata": {
    "execution": {
     "iopub.execute_input": "2024-09-25T13:52:58.896517Z",
     "iopub.status.busy": "2024-09-25T13:52:58.896517Z",
     "iopub.status.idle": "2024-09-25T13:52:58.917984Z",
     "shell.execute_reply": "2024-09-25T13:52:58.917984Z"
    }
   },
   "outputs": [
    {
     "ename": "NameError",
     "evalue": "name 'fluent_session' is not defined",
     "output_type": "error",
     "traceback": [
      "\u001b[1;31m---------------------------------------------------------------------------\u001b[0m",
      "\u001b[1;31mNameError\u001b[0m                                 Traceback (most recent call last)",
      "Cell \u001b[1;32mIn[20], line 1\u001b[0m\n\u001b[1;32m----> 1\u001b[0m graphics \u001b[38;5;241m=\u001b[39m \u001b[43mfluent_session\u001b[49m\u001b[38;5;241m.\u001b[39mresults\u001b[38;5;241m.\u001b[39mgraphics\n",
      "\u001b[1;31mNameError\u001b[0m: name 'fluent_session' is not defined"
     ]
    }
   ],
   "source": [
    "graphics = fluent_session.results.graphics"
   ]
  },
  {
   "cell_type": "code",
   "execution_count": 21,
   "id": "091e9693",
   "metadata": {
    "execution": {
     "iopub.execute_input": "2024-09-25T13:52:58.917984Z",
     "iopub.status.busy": "2024-09-25T13:52:58.917984Z",
     "iopub.status.idle": "2024-09-25T13:52:58.941619Z",
     "shell.execute_reply": "2024-09-25T13:52:58.941619Z"
    }
   },
   "outputs": [
    {
     "ename": "NameError",
     "evalue": "name 'graphics' is not defined",
     "output_type": "error",
     "traceback": [
      "\u001b[1;31m---------------------------------------------------------------------------\u001b[0m",
      "\u001b[1;31mNameError\u001b[0m                                 Traceback (most recent call last)",
      "Cell \u001b[1;32mIn[21], line 1\u001b[0m\n\u001b[1;32m----> 1\u001b[0m \u001b[43mgraphics\u001b[49m\u001b[38;5;241m.\u001b[39mvector[\u001b[38;5;124m\"\u001b[39m\u001b[38;5;124mvelocity_vector_symmetry\u001b[39m\u001b[38;5;124m\"\u001b[39m] \u001b[38;5;241m=\u001b[39m {}\n\u001b[0;32m      2\u001b[0m velocity_symmetry \u001b[38;5;241m=\u001b[39m fluent_session\u001b[38;5;241m.\u001b[39mresults\u001b[38;5;241m.\u001b[39mgraphics\u001b[38;5;241m.\u001b[39mvector[\u001b[38;5;124m\"\u001b[39m\u001b[38;5;124mvelocity_vector_symmetry\u001b[39m\u001b[38;5;124m\"\u001b[39m]\n\u001b[0;32m      3\u001b[0m velocity_symmetry\u001b[38;5;241m.\u001b[39mprint_state()\n",
      "\u001b[1;31mNameError\u001b[0m: name 'graphics' is not defined"
     ]
    }
   ],
   "source": [
    "graphics.vector[\"velocity_vector_symmetry\"] = {}\n",
    "velocity_symmetry = fluent_session.results.graphics.vector[\"velocity_vector_symmetry\"]\n",
    "velocity_symmetry.print_state()\n",
    "velocity_symmetry.field = \"velocity-magnitude\"\n",
    "velocity_symmetry.surfaces_list = [\n",
    "    \"symmetry-xyplane\",\n",
    "]\n",
    "velocity_symmetry.scale.scale_f = 4\n",
    "velocity_symmetry.style = \"arrow\"\n",
    "velocity_symmetry.display()"
   ]
  },
  {
   "cell_type": "code",
   "execution_count": 22,
   "id": "dbf08de2",
   "metadata": {
    "execution": {
     "iopub.execute_input": "2024-09-25T13:52:58.941619Z",
     "iopub.status.busy": "2024-09-25T13:52:58.941619Z",
     "iopub.status.idle": "2024-09-25T13:52:58.962551Z",
     "shell.execute_reply": "2024-09-25T13:52:58.962551Z"
    }
   },
   "outputs": [
    {
     "ename": "NameError",
     "evalue": "name 'graphics' is not defined",
     "output_type": "error",
     "traceback": [
      "\u001b[1;31m---------------------------------------------------------------------------\u001b[0m",
      "\u001b[1;31mNameError\u001b[0m                                 Traceback (most recent call last)",
      "Cell \u001b[1;32mIn[22], line 1\u001b[0m\n\u001b[1;32m----> 1\u001b[0m \u001b[43mgraphics\u001b[49m\u001b[38;5;241m.\u001b[39mviews\u001b[38;5;241m.\u001b[39mrestore_view(view_name\u001b[38;5;241m=\u001b[39m\u001b[38;5;124m\"\u001b[39m\u001b[38;5;124mfront\u001b[39m\u001b[38;5;124m\"\u001b[39m)\n\u001b[0;32m      2\u001b[0m graphics\u001b[38;5;241m.\u001b[39mviews\u001b[38;5;241m.\u001b[39mauto_scale()\n\u001b[0;32m      3\u001b[0m graphics\u001b[38;5;241m.\u001b[39mpicture\u001b[38;5;241m.\u001b[39msave_picture(file_name\u001b[38;5;241m=\u001b[39m\u001b[38;5;124m\"\u001b[39m\u001b[38;5;124mvelocity_vector_symmetry.png\u001b[39m\u001b[38;5;124m\"\u001b[39m)\n",
      "\u001b[1;31mNameError\u001b[0m: name 'graphics' is not defined"
     ]
    }
   ],
   "source": [
    "graphics.views.restore_view(view_name=\"front\")\n",
    "graphics.views.auto_scale()\n",
    "graphics.picture.save_picture(file_name=\"velocity_vector_symmetry.png\")"
   ]
  },
  {
   "cell_type": "markdown",
   "id": "3c1ac6d5",
   "metadata": {},
   "source": [
    "## Compute mass flow rate\n",
    "Compute the mass flow rate."
   ]
  },
  {
   "cell_type": "code",
   "execution_count": 23,
   "id": "41f46223",
   "metadata": {
    "execution": {
     "iopub.execute_input": "2024-09-25T13:52:58.962551Z",
     "iopub.status.busy": "2024-09-25T13:52:58.962551Z",
     "iopub.status.idle": "2024-09-25T13:52:58.985002Z",
     "shell.execute_reply": "2024-09-25T13:52:58.985002Z"
    }
   },
   "outputs": [
    {
     "ename": "NameError",
     "evalue": "name 'fluent_session' is not defined",
     "output_type": "error",
     "traceback": [
      "\u001b[1;31m---------------------------------------------------------------------------\u001b[0m",
      "\u001b[1;31mNameError\u001b[0m                                 Traceback (most recent call last)",
      "Cell \u001b[1;32mIn[23], line 1\u001b[0m\n\u001b[1;32m----> 1\u001b[0m \u001b[43mfluent_session\u001b[49m\u001b[38;5;241m.\u001b[39msolution\u001b[38;5;241m.\u001b[39mreport_definitions\u001b[38;5;241m.\u001b[39mflux[\u001b[38;5;124m\"\u001b[39m\u001b[38;5;124mmass_flow_rate\u001b[39m\u001b[38;5;124m\"\u001b[39m] \u001b[38;5;241m=\u001b[39m {}\n\u001b[0;32m      3\u001b[0m mass_flow_rate \u001b[38;5;241m=\u001b[39m fluent_session\u001b[38;5;241m.\u001b[39msolution\u001b[38;5;241m.\u001b[39mreport_definitions\u001b[38;5;241m.\u001b[39mflux[\u001b[38;5;124m\"\u001b[39m\u001b[38;5;124mmass_flow_rate\u001b[39m\u001b[38;5;124m\"\u001b[39m]\n\u001b[0;32m      4\u001b[0m mass_flow_rate\u001b[38;5;241m.\u001b[39mboundaries \u001b[38;5;241m=\u001b[39m [\n\u001b[0;32m      5\u001b[0m     \u001b[38;5;124m\"\u001b[39m\u001b[38;5;124mcold-inlet\u001b[39m\u001b[38;5;124m\"\u001b[39m,\n\u001b[0;32m      6\u001b[0m     \u001b[38;5;124m\"\u001b[39m\u001b[38;5;124mhot-inlet\u001b[39m\u001b[38;5;124m\"\u001b[39m,\n\u001b[0;32m      7\u001b[0m     \u001b[38;5;124m\"\u001b[39m\u001b[38;5;124moutlet\u001b[39m\u001b[38;5;124m\"\u001b[39m,\n\u001b[0;32m      8\u001b[0m ]\n",
      "\u001b[1;31mNameError\u001b[0m: name 'fluent_session' is not defined"
     ]
    }
   ],
   "source": [
    "fluent_session.solution.report_definitions.flux[\"mass_flow_rate\"] = {}\n",
    "\n",
    "mass_flow_rate = fluent_session.solution.report_definitions.flux[\"mass_flow_rate\"]\n",
    "mass_flow_rate.boundaries = [\n",
    "    \"cold-inlet\",\n",
    "    \"hot-inlet\",\n",
    "    \"outlet\",\n",
    "]\n",
    "mass_flow_rate.print_state()\n",
    "fluent_session.solution.report_definitions.compute(report_defs=[\"mass_flow_rate\"])"
   ]
  },
  {
   "cell_type": "markdown",
   "id": "efe51b60",
   "metadata": {},
   "source": [
    "## Exit Fluent Session"
   ]
  },
  {
   "cell_type": "code",
   "execution_count": 24,
   "id": "47443f37",
   "metadata": {
    "execution": {
     "iopub.execute_input": "2024-09-25T13:52:58.985002Z",
     "iopub.status.busy": "2024-09-25T13:52:58.985002Z",
     "iopub.status.idle": "2024-09-25T13:52:59.005156Z",
     "shell.execute_reply": "2024-09-25T13:52:59.005156Z"
    }
   },
   "outputs": [
    {
     "ename": "NameError",
     "evalue": "name 'fluent_session' is not defined",
     "output_type": "error",
     "traceback": [
      "\u001b[1;31m---------------------------------------------------------------------------\u001b[0m",
      "\u001b[1;31mNameError\u001b[0m                                 Traceback (most recent call last)",
      "Cell \u001b[1;32mIn[24], line 1\u001b[0m\n\u001b[1;32m----> 1\u001b[0m \u001b[43mfluent_session\u001b[49m\u001b[38;5;241m.\u001b[39mexit()\n",
      "\u001b[1;31mNameError\u001b[0m: name 'fluent_session' is not defined"
     ]
    }
   ],
   "source": [
    "fluent_session.exit()"
   ]
  },
  {
   "cell_type": "markdown",
   "id": "d7ba6dd0",
   "metadata": {},
   "source": [
    "## Save project"
   ]
  },
  {
   "cell_type": "code",
   "execution_count": 25,
   "id": "10da4208",
   "metadata": {
    "execution": {
     "iopub.execute_input": "2024-09-25T13:52:59.005156Z",
     "iopub.status.busy": "2024-09-25T13:52:59.005156Z",
     "iopub.status.idle": "2024-09-25T13:52:59.024920Z",
     "shell.execute_reply": "2024-09-25T13:52:59.024920Z"
    }
   },
   "outputs": [
    {
     "ename": "NameError",
     "evalue": "name 'wb' is not defined",
     "output_type": "error",
     "traceback": [
      "\u001b[1;31m---------------------------------------------------------------------------\u001b[0m",
      "\u001b[1;31mNameError\u001b[0m                                 Traceback (most recent call last)",
      "Cell \u001b[1;32mIn[25], line 5\u001b[0m\n\u001b[0;32m      1\u001b[0m save_string \u001b[38;5;241m=\u001b[39m \u001b[38;5;124m\"\"\"\u001b[39m\u001b[38;5;124mimport os\u001b[39m\n\u001b[0;32m      2\u001b[0m \u001b[38;5;124mworkdir = GetServerWorkingDirectory()\u001b[39m\n\u001b[0;32m      3\u001b[0m \u001b[38;5;124mpath = os.path.join(workdir, \u001b[39m\u001b[38;5;124m\"\u001b[39m\u001b[38;5;124mmixing_elbow.wbpj\u001b[39m\u001b[38;5;124m\"\u001b[39m\u001b[38;5;124m)\u001b[39m\n\u001b[0;32m      4\u001b[0m \u001b[38;5;124mSave(FilePath=path , Overwrite=True)\u001b[39m\u001b[38;5;124m\"\"\"\u001b[39m  \n\u001b[1;32m----> 5\u001b[0m \u001b[43mwb\u001b[49m\u001b[38;5;241m.\u001b[39mrun_script_string(save_string)\n",
      "\u001b[1;31mNameError\u001b[0m: name 'wb' is not defined"
     ]
    }
   ],
   "source": [
    "save_string = \"\"\"import os\n",
    "workdir = GetServerWorkingDirectory()\n",
    "path = os.path.join(workdir, \"mixing_elbow.wbpj\")\n",
    "Save(FilePath=path , Overwrite=True)\"\"\"  \n",
    "wb.run_script_string(save_string)"
   ]
  },
  {
   "cell_type": "markdown",
   "id": "379b7354",
   "metadata": {},
   "source": [
    "## Archive Project"
   ]
  },
  {
   "cell_type": "code",
   "execution_count": 26,
   "id": "ad9991d6",
   "metadata": {
    "execution": {
     "iopub.execute_input": "2024-09-25T13:52:59.024920Z",
     "iopub.status.busy": "2024-09-25T13:52:59.024920Z",
     "iopub.status.idle": "2024-09-25T13:52:59.044929Z",
     "shell.execute_reply": "2024-09-25T13:52:59.044929Z"
    }
   },
   "outputs": [
    {
     "ename": "NameError",
     "evalue": "name 'wb' is not defined",
     "output_type": "error",
     "traceback": [
      "\u001b[1;31m---------------------------------------------------------------------------\u001b[0m",
      "\u001b[1;31mNameError\u001b[0m                                 Traceback (most recent call last)",
      "Cell \u001b[1;32mIn[26], line 5\u001b[0m\n\u001b[0;32m      1\u001b[0m archive_string \u001b[38;5;241m=\u001b[39m\u001b[38;5;124m\"\"\"\u001b[39m\u001b[38;5;124mimport os\u001b[39m\n\u001b[0;32m      2\u001b[0m \u001b[38;5;124mworkdir = GetServerWorkingDirectory()\u001b[39m\n\u001b[0;32m      3\u001b[0m \u001b[38;5;124mpath = os.path.join(workdir, \u001b[39m\u001b[38;5;124m\"\u001b[39m\u001b[38;5;124mmixing_elbow.wbpz\u001b[39m\u001b[38;5;124m\"\u001b[39m\u001b[38;5;124m)\u001b[39m\n\u001b[0;32m      4\u001b[0m \u001b[38;5;124mArchive(FilePath=path , IncludeExternalImportedFiles=True)\u001b[39m\u001b[38;5;124m\"\"\"\u001b[39m  \n\u001b[1;32m----> 5\u001b[0m \u001b[43mwb\u001b[49m\u001b[38;5;241m.\u001b[39mrun_script_string(archive_string)\n",
      "\u001b[1;31mNameError\u001b[0m: name 'wb' is not defined"
     ]
    }
   ],
   "source": [
    "archive_string =\"\"\"import os\n",
    "workdir = GetServerWorkingDirectory()\n",
    "path = os.path.join(workdir, \"mixing_elbow.wbpz\")\n",
    "Archive(FilePath=path , IncludeExternalImportedFiles=True)\"\"\"  \n",
    "wb.run_script_string(archive_string)"
   ]
  },
  {
   "cell_type": "markdown",
   "id": "7d92abb2",
   "metadata": {},
   "source": [
    "## Download the archived project which has all simulation data and results."
   ]
  },
  {
   "cell_type": "code",
   "execution_count": 27,
   "id": "42c6b9cc",
   "metadata": {
    "execution": {
     "iopub.execute_input": "2024-09-25T13:52:59.044929Z",
     "iopub.status.busy": "2024-09-25T13:52:59.044929Z",
     "iopub.status.idle": "2024-09-25T13:52:59.064612Z",
     "shell.execute_reply": "2024-09-25T13:52:59.064612Z"
    }
   },
   "outputs": [
    {
     "ename": "NameError",
     "evalue": "name 'wb' is not defined",
     "output_type": "error",
     "traceback": [
      "\u001b[1;31m---------------------------------------------------------------------------\u001b[0m",
      "\u001b[1;31mNameError\u001b[0m                                 Traceback (most recent call last)",
      "Cell \u001b[1;32mIn[27], line 1\u001b[0m\n\u001b[1;32m----> 1\u001b[0m \u001b[43mwb\u001b[49m\u001b[38;5;241m.\u001b[39mdownload_file(\u001b[38;5;124m\"\u001b[39m\u001b[38;5;124mmixing_elbow.wbpz\u001b[39m\u001b[38;5;124m\"\u001b[39m)\n",
      "\u001b[1;31mNameError\u001b[0m: name 'wb' is not defined"
     ]
    }
   ],
   "source": [
    "wb.download_file(\"mixing_elbow.wbpz\")"
   ]
  },
  {
   "cell_type": "markdown",
   "id": "c2465f1c",
   "metadata": {},
   "source": [
    "## Exit Workbench Session."
   ]
  },
  {
   "cell_type": "code",
   "execution_count": 28,
   "id": "b7568625",
   "metadata": {
    "execution": {
     "iopub.execute_input": "2024-09-25T13:52:59.064612Z",
     "iopub.status.busy": "2024-09-25T13:52:59.064612Z",
     "iopub.status.idle": "2024-09-25T13:52:59.088198Z",
     "shell.execute_reply": "2024-09-25T13:52:59.088198Z"
    }
   },
   "outputs": [
    {
     "ename": "NameError",
     "evalue": "name 'wb' is not defined",
     "output_type": "error",
     "traceback": [
      "\u001b[1;31m---------------------------------------------------------------------------\u001b[0m",
      "\u001b[1;31mNameError\u001b[0m                                 Traceback (most recent call last)",
      "Cell \u001b[1;32mIn[28], line 1\u001b[0m\n\u001b[1;32m----> 1\u001b[0m \u001b[43mwb\u001b[49m\u001b[38;5;241m.\u001b[39mexit()\n",
      "\u001b[1;31mNameError\u001b[0m: name 'wb' is not defined"
     ]
    }
   ],
   "source": [
    "wb.exit()"
   ]
  }
 ],
 "metadata": {
  "jupytext": {
   "cell_metadata_filter": "-all",
   "main_language": "python",
   "notebook_metadata_filter": "-all",
   "text_representation": {
    "extension": ".py",
    "format_name": "light"
   }
  },
  "language_info": {
   "codemirror_mode": {
    "name": "ipython",
    "version": 3
   },
   "file_extension": ".py",
   "mimetype": "text/x-python",
   "name": "python",
   "nbconvert_exporter": "python",
   "pygments_lexer": "ipython3",
   "version": "3.11.9"
  }
 },
 "nbformat": 4,
 "nbformat_minor": 5
}
