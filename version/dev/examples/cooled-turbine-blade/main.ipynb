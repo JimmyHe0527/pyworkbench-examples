{
 "cells": [
  {
   "cell_type": "markdown",
   "id": "16061ee0",
   "metadata": {},
   "source": [
    "# Cooled turbine blade"
   ]
  },
  {
   "cell_type": "markdown",
   "id": "f80b20b5",
   "metadata": {},
   "source": [
    "This notebook demonstrates the process of using the Workbench client to upload project files, run scripts, start services, and handle output files. \n",
    "It also includes launching PyMechanical to solve models and visualize results."
   ]
  },
  {
   "cell_type": "markdown",
   "id": "0a8ed8a5",
   "metadata": {},
   "source": [
    "First, import the necessary modules. We import `pathlib` for handling filesystem paths and `os` for interacting with the operating system.\n",
    "The `launch_workbench` function from `ansys.workbench.core` is imported to start a Workbench session, and `launch_mechanical` from `ansys.mechanical.core` to start a Mechanical session."
   ]
  },
  {
   "cell_type": "code",
   "execution_count": 1,
   "id": "987a67b8",
   "metadata": {
    "execution": {
     "iopub.execute_input": "2024-09-25T13:52:42.954672Z",
     "iopub.status.busy": "2024-09-25T13:52:42.954672Z",
     "iopub.status.idle": "2024-09-25T13:52:42.974104Z",
     "shell.execute_reply": "2024-09-25T13:52:42.974104Z"
    }
   },
   "outputs": [],
   "source": [
    "import os\n",
    "import pathlib"
   ]
  },
  {
   "cell_type": "code",
   "execution_count": 2,
   "id": "666a873c",
   "metadata": {
    "execution": {
     "iopub.execute_input": "2024-09-25T13:52:42.974104Z",
     "iopub.status.busy": "2024-09-25T13:52:42.974104Z",
     "iopub.status.idle": "2024-09-25T13:52:43.356448Z",
     "shell.execute_reply": "2024-09-25T13:52:43.356448Z"
    }
   },
   "outputs": [
    {
     "ename": "ModuleNotFoundError",
     "evalue": "No module named 'ansys'",
     "output_type": "error",
     "traceback": [
      "\u001b[1;31m---------------------------------------------------------------------------\u001b[0m",
      "\u001b[1;31mModuleNotFoundError\u001b[0m                       Traceback (most recent call last)",
      "Cell \u001b[1;32mIn[2], line 1\u001b[0m\n\u001b[1;32m----> 1\u001b[0m \u001b[38;5;28;01mfrom\u001b[39;00m \u001b[38;5;21;01mansys\u001b[39;00m\u001b[38;5;21;01m.\u001b[39;00m\u001b[38;5;21;01mworkbench\u001b[39;00m\u001b[38;5;21;01m.\u001b[39;00m\u001b[38;5;21;01mcore\u001b[39;00m \u001b[38;5;28;01mimport\u001b[39;00m launch_workbench\n\u001b[0;32m      2\u001b[0m \u001b[38;5;28;01mfrom\u001b[39;00m \u001b[38;5;21;01mansys\u001b[39;00m\u001b[38;5;21;01m.\u001b[39;00m\u001b[38;5;21;01mmechanical\u001b[39;00m\u001b[38;5;21;01m.\u001b[39;00m\u001b[38;5;21;01mcore\u001b[39;00m \u001b[38;5;28;01mimport\u001b[39;00m launch_mechanical\n",
      "\u001b[1;31mModuleNotFoundError\u001b[0m: No module named 'ansys'"
     ]
    }
   ],
   "source": [
    "from ansys.workbench.core import launch_workbench\n",
    "from ansys.mechanical.core import launch_mechanical"
   ]
  },
  {
   "cell_type": "markdown",
   "id": "6f3ab5ea",
   "metadata": {},
   "source": [
    "Launch the Workbench service on the local machine, using some options. \n",
    "Define several directories that will be used during the session. \n",
    "`workdir` is set to the parent directory of the current file. \n",
    "`assets`, `scripts`, and `wbpz` are subdirectories within the working directory. \n",
    "The `launch_workbench` function is called to start a Workbench session with specified directory."
   ]
  },
  {
   "cell_type": "code",
   "execution_count": 3,
   "id": "e77c50fd",
   "metadata": {
    "execution": {
     "iopub.execute_input": "2024-09-25T13:52:43.356448Z",
     "iopub.status.busy": "2024-09-25T13:52:43.356448Z",
     "iopub.status.idle": "2024-09-25T13:52:43.364951Z",
     "shell.execute_reply": "2024-09-25T13:52:43.364951Z"
    }
   },
   "outputs": [],
   "source": [
    "workdir = pathlib.Path(\"__file__\").parent"
   ]
  },
  {
   "cell_type": "code",
   "execution_count": 4,
   "id": "682be750",
   "metadata": {
    "execution": {
     "iopub.execute_input": "2024-09-25T13:52:43.364951Z",
     "iopub.status.busy": "2024-09-25T13:52:43.364951Z",
     "iopub.status.idle": "2024-09-25T13:52:43.371515Z",
     "shell.execute_reply": "2024-09-25T13:52:43.371515Z"
    }
   },
   "outputs": [],
   "source": [
    "assets = workdir / \"assets\"\n",
    "scripts = workdir / \"scripts\""
   ]
  },
  {
   "cell_type": "code",
   "execution_count": 5,
   "id": "7bf7e47f",
   "metadata": {
    "execution": {
     "iopub.execute_input": "2024-09-25T13:52:43.371515Z",
     "iopub.status.busy": "2024-09-25T13:52:43.371515Z",
     "iopub.status.idle": "2024-09-25T13:52:43.392748Z",
     "shell.execute_reply": "2024-09-25T13:52:43.392748Z"
    }
   },
   "outputs": [
    {
     "ename": "NameError",
     "evalue": "name 'launch_workbench' is not defined",
     "output_type": "error",
     "traceback": [
      "\u001b[1;31m---------------------------------------------------------------------------\u001b[0m",
      "\u001b[1;31mNameError\u001b[0m                                 Traceback (most recent call last)",
      "Cell \u001b[1;32mIn[5], line 1\u001b[0m\n\u001b[1;32m----> 1\u001b[0m wb \u001b[38;5;241m=\u001b[39m \u001b[43mlaunch_workbench\u001b[49m(client_workdir\u001b[38;5;241m=\u001b[39m\u001b[38;5;28mstr\u001b[39m(workdir\u001b[38;5;241m.\u001b[39mabsolute()))\n",
      "\u001b[1;31mNameError\u001b[0m: name 'launch_workbench' is not defined"
     ]
    }
   ],
   "source": [
    "wb = launch_workbench(client_workdir=str(workdir.absolute()))"
   ]
  },
  {
   "cell_type": "markdown",
   "id": "7a9f0e57",
   "metadata": {
    "lines_to_next_cell": 2
   },
   "source": [
    "Upload the project files to the server using the `upload_file_from_example_repo` method. \n",
    "The file to upload is `cooled_turbine_blade.wbpz`."
   ]
  },
  {
   "cell_type": "code",
   "execution_count": 6,
   "id": "d631c8da",
   "metadata": {
    "execution": {
     "iopub.execute_input": "2024-09-25T13:52:43.392748Z",
     "iopub.status.busy": "2024-09-25T13:52:43.392748Z",
     "iopub.status.idle": "2024-09-25T13:52:43.414858Z",
     "shell.execute_reply": "2024-09-25T13:52:43.414858Z"
    }
   },
   "outputs": [
    {
     "ename": "NameError",
     "evalue": "name 'wb' is not defined",
     "output_type": "error",
     "traceback": [
      "\u001b[1;31m---------------------------------------------------------------------------\u001b[0m",
      "\u001b[1;31mNameError\u001b[0m                                 Traceback (most recent call last)",
      "Cell \u001b[1;32mIn[6], line 1\u001b[0m\n\u001b[1;32m----> 1\u001b[0m \u001b[43mwb\u001b[49m\u001b[38;5;241m.\u001b[39mupload_file_from_example_repo(\u001b[38;5;124m\"\u001b[39m\u001b[38;5;124mcooled-turbine-blade/wbpz/cooled_turbine_blade.wbpz\u001b[39m\u001b[38;5;124m\"\u001b[39m)\n",
      "\u001b[1;31mNameError\u001b[0m: name 'wb' is not defined"
     ]
    }
   ],
   "source": [
    "wb.upload_file_from_example_repo(\"cooled-turbine-blade/wbpz/cooled_turbine_blade.wbpz\")"
   ]
  },
  {
   "cell_type": "markdown",
   "id": "fb97068e",
   "metadata": {},
   "source": [
    "Execute a Workbench script (`project.wbjn`) to define the project and load the geometry using the `run_script_file` method. \n",
    "The `set_log_file` method is used to direct the logs to `wb_log_file.log`. \n",
    "The name of the system created is stored in `sys_name` and printed."
   ]
  },
  {
   "cell_type": "code",
   "execution_count": 7,
   "id": "27c904fa",
   "metadata": {
    "execution": {
     "iopub.execute_input": "2024-09-25T13:52:43.414858Z",
     "iopub.status.busy": "2024-09-25T13:52:43.414858Z",
     "iopub.status.idle": "2024-09-25T13:52:43.436884Z",
     "shell.execute_reply": "2024-09-25T13:52:43.436884Z"
    }
   },
   "outputs": [
    {
     "ename": "NameError",
     "evalue": "name 'wb' is not defined",
     "output_type": "error",
     "traceback": [
      "\u001b[1;31m---------------------------------------------------------------------------\u001b[0m",
      "\u001b[1;31mNameError\u001b[0m                                 Traceback (most recent call last)",
      "Cell \u001b[1;32mIn[7], line 2\u001b[0m\n\u001b[0;32m      1\u001b[0m export_path \u001b[38;5;241m=\u001b[39m \u001b[38;5;124m'\u001b[39m\u001b[38;5;124mwb_log_file.log\u001b[39m\u001b[38;5;124m'\u001b[39m\n\u001b[1;32m----> 2\u001b[0m \u001b[43mwb\u001b[49m\u001b[38;5;241m.\u001b[39mset_log_file(export_path)\n\u001b[0;32m      3\u001b[0m sys_name \u001b[38;5;241m=\u001b[39m wb\u001b[38;5;241m.\u001b[39mrun_script_file(\u001b[38;5;28mstr\u001b[39m((assets \u001b[38;5;241m/\u001b[39m \u001b[38;5;124m\"\u001b[39m\u001b[38;5;124mproject.wbjn\u001b[39m\u001b[38;5;124m\"\u001b[39m)\u001b[38;5;241m.\u001b[39mabsolute()), log_level\u001b[38;5;241m=\u001b[39m\u001b[38;5;124m'\u001b[39m\u001b[38;5;124minfo\u001b[39m\u001b[38;5;124m'\u001b[39m)\n\u001b[0;32m      4\u001b[0m \u001b[38;5;28mprint\u001b[39m(sys_name)\n",
      "\u001b[1;31mNameError\u001b[0m: name 'wb' is not defined"
     ]
    }
   ],
   "source": [
    "export_path = 'wb_log_file.log'\n",
    "wb.set_log_file(export_path)\n",
    "sys_name = wb.run_script_file(str((assets / \"project.wbjn\").absolute()), log_level='info')\n",
    "print(sys_name)"
   ]
  },
  {
   "cell_type": "markdown",
   "id": "80f2eb2a",
   "metadata": {},
   "source": [
    "Start a PyMechanical server for the system using the `start_mechanical_server` method. \n",
    "Create a PyMechanical client session connected to this server using `launch_mechanical`. \n",
    "The project directory is printed to verify the connection."
   ]
  },
  {
   "cell_type": "code",
   "execution_count": 8,
   "id": "34d7ff49",
   "metadata": {
    "execution": {
     "iopub.execute_input": "2024-09-25T13:52:43.436884Z",
     "iopub.status.busy": "2024-09-25T13:52:43.436884Z",
     "iopub.status.idle": "2024-09-25T13:52:43.457982Z",
     "shell.execute_reply": "2024-09-25T13:52:43.457982Z"
    }
   },
   "outputs": [
    {
     "ename": "NameError",
     "evalue": "name 'wb' is not defined",
     "output_type": "error",
     "traceback": [
      "\u001b[1;31m---------------------------------------------------------------------------\u001b[0m",
      "\u001b[1;31mNameError\u001b[0m                                 Traceback (most recent call last)",
      "Cell \u001b[1;32mIn[8], line 1\u001b[0m\n\u001b[1;32m----> 1\u001b[0m server_port \u001b[38;5;241m=\u001b[39m \u001b[43mwb\u001b[49m\u001b[38;5;241m.\u001b[39mstart_mechanical_server(system_name\u001b[38;5;241m=\u001b[39msys_name)\n\u001b[0;32m      2\u001b[0m mechanical \u001b[38;5;241m=\u001b[39m launch_mechanical(start_instance\u001b[38;5;241m=\u001b[39m\u001b[38;5;28;01mFalse\u001b[39;00m, ip\u001b[38;5;241m=\u001b[39m\u001b[38;5;124m'\u001b[39m\u001b[38;5;124mlocalhost\u001b[39m\u001b[38;5;124m'\u001b[39m, port\u001b[38;5;241m=\u001b[39mserver_port)\n",
      "\u001b[1;31mNameError\u001b[0m: name 'wb' is not defined"
     ]
    }
   ],
   "source": [
    "server_port = wb.start_mechanical_server(system_name=sys_name)\n",
    "mechanical = launch_mechanical(start_instance=False, ip='localhost', port=server_port)"
   ]
  },
  {
   "cell_type": "code",
   "execution_count": 9,
   "id": "a5090a06",
   "metadata": {
    "execution": {
     "iopub.execute_input": "2024-09-25T13:52:43.457982Z",
     "iopub.status.busy": "2024-09-25T13:52:43.457982Z",
     "iopub.status.idle": "2024-09-25T13:52:43.477803Z",
     "shell.execute_reply": "2024-09-25T13:52:43.477803Z"
    }
   },
   "outputs": [
    {
     "ename": "NameError",
     "evalue": "name 'mechanical' is not defined",
     "output_type": "error",
     "traceback": [
      "\u001b[1;31m---------------------------------------------------------------------------\u001b[0m",
      "\u001b[1;31mNameError\u001b[0m                                 Traceback (most recent call last)",
      "Cell \u001b[1;32mIn[9], line 1\u001b[0m\n\u001b[1;32m----> 1\u001b[0m \u001b[38;5;28mprint\u001b[39m(\u001b[43mmechanical\u001b[49m\u001b[38;5;241m.\u001b[39mproject_directory)\n",
      "\u001b[1;31mNameError\u001b[0m: name 'mechanical' is not defined"
     ]
    }
   ],
   "source": [
    "print(mechanical.project_directory)"
   ]
  },
  {
   "cell_type": "markdown",
   "id": "8d49b577",
   "metadata": {},
   "source": [
    "Read and execute the script `cooled_turbine_blade.py` via the PyMechanical client using `run_python_script`. \n",
    "This script typically contains commands to mesh and solve the turbine blade model. \n",
    "The output of the script is printed."
   ]
  },
  {
   "cell_type": "code",
   "execution_count": 10,
   "id": "81b58252",
   "metadata": {
    "execution": {
     "iopub.execute_input": "2024-09-25T13:52:43.477803Z",
     "iopub.status.busy": "2024-09-25T13:52:43.477803Z",
     "iopub.status.idle": "2024-09-25T13:52:43.514626Z",
     "shell.execute_reply": "2024-09-25T13:52:43.514626Z"
    }
   },
   "outputs": [
    {
     "ename": "NameError",
     "evalue": "name 'mechanical' is not defined",
     "output_type": "error",
     "traceback": [
      "\u001b[1;31m---------------------------------------------------------------------------\u001b[0m",
      "\u001b[1;31mNameError\u001b[0m                                 Traceback (most recent call last)",
      "Cell \u001b[1;32mIn[10], line 3\u001b[0m\n\u001b[0;32m      1\u001b[0m \u001b[38;5;28;01mwith\u001b[39;00m \u001b[38;5;28mopen\u001b[39m(scripts \u001b[38;5;241m/\u001b[39m \u001b[38;5;124m\"\u001b[39m\u001b[38;5;124mcooled_turbine_blade.py\u001b[39m\u001b[38;5;124m\"\u001b[39m) \u001b[38;5;28;01mas\u001b[39;00m sf:\n\u001b[0;32m      2\u001b[0m     mech_script \u001b[38;5;241m=\u001b[39m sf\u001b[38;5;241m.\u001b[39mread()\n\u001b[1;32m----> 3\u001b[0m mech_output \u001b[38;5;241m=\u001b[39m \u001b[43mmechanical\u001b[49m\u001b[38;5;241m.\u001b[39mrun_python_script(mech_script)\n\u001b[0;32m      4\u001b[0m \u001b[38;5;28mprint\u001b[39m(mech_output)\n",
      "\u001b[1;31mNameError\u001b[0m: name 'mechanical' is not defined"
     ]
    }
   ],
   "source": [
    "with open(scripts / \"cooled_turbine_blade.py\") as sf:\n",
    "    mech_script = sf.read()\n",
    "mech_output = mechanical.run_python_script(mech_script)\n",
    "print(mech_output)"
   ]
  },
  {
   "cell_type": "markdown",
   "id": "5c59b967",
   "metadata": {},
   "source": [
    "Specify the Mechanical directory and run a script to fetch the working directory path. \n",
    "The path where all solver files are stored on the server is printed. \n",
    "Download the solver output file (`solve.out`) from the server to the client's current working directory and print its contents."
   ]
  },
  {
   "cell_type": "code",
   "execution_count": 11,
   "id": "afcd9033",
   "metadata": {
    "execution": {
     "iopub.execute_input": "2024-09-25T13:52:43.514626Z",
     "iopub.status.busy": "2024-09-25T13:52:43.514626Z",
     "iopub.status.idle": "2024-09-25T13:52:43.534675Z",
     "shell.execute_reply": "2024-09-25T13:52:43.534675Z"
    }
   },
   "outputs": [
    {
     "ename": "NameError",
     "evalue": "name 'mechanical' is not defined",
     "output_type": "error",
     "traceback": [
      "\u001b[1;31m---------------------------------------------------------------------------\u001b[0m",
      "\u001b[1;31mNameError\u001b[0m                                 Traceback (most recent call last)",
      "Cell \u001b[1;32mIn[11], line 1\u001b[0m\n\u001b[1;32m----> 1\u001b[0m \u001b[43mmechanical\u001b[49m\u001b[38;5;241m.\u001b[39mrun_python_script(\u001b[38;5;124mf\u001b[39m\u001b[38;5;124m\"\u001b[39m\u001b[38;5;124msolve_dir=ExtAPI.DataModel.AnalysisList[1].WorkingDir\u001b[39m\u001b[38;5;124m\"\u001b[39m)\n",
      "\u001b[1;31mNameError\u001b[0m: name 'mechanical' is not defined"
     ]
    }
   ],
   "source": [
    "mechanical.run_python_script(f\"solve_dir=ExtAPI.DataModel.AnalysisList[1].WorkingDir\")"
   ]
  },
  {
   "cell_type": "code",
   "execution_count": 12,
   "id": "8ad6c649",
   "metadata": {
    "execution": {
     "iopub.execute_input": "2024-09-25T13:52:43.534675Z",
     "iopub.status.busy": "2024-09-25T13:52:43.534675Z",
     "iopub.status.idle": "2024-09-25T13:52:43.557345Z",
     "shell.execute_reply": "2024-09-25T13:52:43.557345Z"
    }
   },
   "outputs": [
    {
     "ename": "NameError",
     "evalue": "name 'mechanical' is not defined",
     "output_type": "error",
     "traceback": [
      "\u001b[1;31m---------------------------------------------------------------------------\u001b[0m",
      "\u001b[1;31mNameError\u001b[0m                                 Traceback (most recent call last)",
      "Cell \u001b[1;32mIn[12], line 1\u001b[0m\n\u001b[1;32m----> 1\u001b[0m result_solve_dir_server \u001b[38;5;241m=\u001b[39m \u001b[43mmechanical\u001b[49m\u001b[38;5;241m.\u001b[39mrun_python_script(\u001b[38;5;124mf\u001b[39m\u001b[38;5;124m\"\u001b[39m\u001b[38;5;124msolve_dir\u001b[39m\u001b[38;5;124m\"\u001b[39m)\n\u001b[0;32m      2\u001b[0m \u001b[38;5;28mprint\u001b[39m(\u001b[38;5;124mf\u001b[39m\u001b[38;5;124m\"\u001b[39m\u001b[38;5;124mAll solver files are stored on the server at: \u001b[39m\u001b[38;5;132;01m{\u001b[39;00mresult_solve_dir_server\u001b[38;5;132;01m}\u001b[39;00m\u001b[38;5;124m\"\u001b[39m)\n",
      "\u001b[1;31mNameError\u001b[0m: name 'mechanical' is not defined"
     ]
    }
   ],
   "source": [
    "result_solve_dir_server = mechanical.run_python_script(f\"solve_dir\")\n",
    "print(f\"All solver files are stored on the server at: {result_solve_dir_server}\")"
   ]
  },
  {
   "cell_type": "code",
   "execution_count": 13,
   "id": "ab279d9a",
   "metadata": {
    "execution": {
     "iopub.execute_input": "2024-09-25T13:52:43.557345Z",
     "iopub.status.busy": "2024-09-25T13:52:43.557345Z",
     "iopub.status.idle": "2024-09-25T13:52:43.577177Z",
     "shell.execute_reply": "2024-09-25T13:52:43.577177Z"
    },
    "lines_to_next_cell": 1
   },
   "outputs": [
    {
     "ename": "NameError",
     "evalue": "name 'result_solve_dir_server' is not defined",
     "output_type": "error",
     "traceback": [
      "\u001b[1;31m---------------------------------------------------------------------------\u001b[0m",
      "\u001b[1;31mNameError\u001b[0m                                 Traceback (most recent call last)",
      "Cell \u001b[1;32mIn[13], line 1\u001b[0m\n\u001b[1;32m----> 1\u001b[0m solve_out_path \u001b[38;5;241m=\u001b[39m os\u001b[38;5;241m.\u001b[39mpath\u001b[38;5;241m.\u001b[39mjoin(\u001b[43mresult_solve_dir_server\u001b[49m, \u001b[38;5;124m\"\u001b[39m\u001b[38;5;124msolve.out\u001b[39m\u001b[38;5;124m\"\u001b[39m)\n",
      "\u001b[1;31mNameError\u001b[0m: name 'result_solve_dir_server' is not defined"
     ]
    }
   ],
   "source": [
    "solve_out_path = os.path.join(result_solve_dir_server, \"solve.out\")"
   ]
  },
  {
   "cell_type": "code",
   "execution_count": 14,
   "id": "be5af52e",
   "metadata": {
    "execution": {
     "iopub.execute_input": "2024-09-25T13:52:43.577177Z",
     "iopub.status.busy": "2024-09-25T13:52:43.577177Z",
     "iopub.status.idle": "2024-09-25T13:52:43.585624Z",
     "shell.execute_reply": "2024-09-25T13:52:43.585624Z"
    },
    "lines_to_next_cell": 1
   },
   "outputs": [],
   "source": [
    "def write_file_contents_to_console(path):\n",
    "    \"\"\"Write file contents to console.\"\"\"\n",
    "    with open(path, \"rt\") as file:\n",
    "        for line in file:\n",
    "            print(line, end=\"\")"
   ]
  },
  {
   "cell_type": "code",
   "execution_count": 15,
   "id": "2cde9da6",
   "metadata": {
    "execution": {
     "iopub.execute_input": "2024-09-25T13:52:43.585624Z",
     "iopub.status.busy": "2024-09-25T13:52:43.585624Z",
     "iopub.status.idle": "2024-09-25T13:52:43.606868Z",
     "shell.execute_reply": "2024-09-25T13:52:43.606868Z"
    }
   },
   "outputs": [
    {
     "ename": "NameError",
     "evalue": "name 'mechanical' is not defined",
     "output_type": "error",
     "traceback": [
      "\u001b[1;31m---------------------------------------------------------------------------\u001b[0m",
      "\u001b[1;31mNameError\u001b[0m                                 Traceback (most recent call last)",
      "Cell \u001b[1;32mIn[15], line 2\u001b[0m\n\u001b[0;32m      1\u001b[0m current_working_directory \u001b[38;5;241m=\u001b[39m os\u001b[38;5;241m.\u001b[39mgetcwd()\n\u001b[1;32m----> 2\u001b[0m \u001b[43mmechanical\u001b[49m\u001b[38;5;241m.\u001b[39mdownload(solve_out_path, target_dir\u001b[38;5;241m=\u001b[39mcurrent_working_directory)\n\u001b[0;32m      3\u001b[0m solve_out_local_path \u001b[38;5;241m=\u001b[39m os\u001b[38;5;241m.\u001b[39mpath\u001b[38;5;241m.\u001b[39mjoin(current_working_directory, \u001b[38;5;124m\"\u001b[39m\u001b[38;5;124msolve.out\u001b[39m\u001b[38;5;124m\"\u001b[39m)\n\u001b[0;32m      4\u001b[0m write_file_contents_to_console(solve_out_local_path)\n",
      "\u001b[1;31mNameError\u001b[0m: name 'mechanical' is not defined"
     ]
    }
   ],
   "source": [
    "current_working_directory = os.getcwd()\n",
    "mechanical.download(solve_out_path, target_dir=current_working_directory)\n",
    "solve_out_local_path = os.path.join(current_working_directory, \"solve.out\")\n",
    "write_file_contents_to_console(solve_out_local_path)\n",
    "os.remove(solve_out_local_path)"
   ]
  },
  {
   "cell_type": "markdown",
   "id": "957c80ad",
   "metadata": {},
   "source": [
    "Specify the Mechanical directory path for images and run a script to fetch the directory path. \n",
    "The path where images are stored on the server is printed. \n",
    "Download an image file (`stress.png`) from the server to the client's current working directory and display it using `matplotlib`."
   ]
  },
  {
   "cell_type": "code",
   "execution_count": 16,
   "id": "867ac5bb",
   "metadata": {
    "execution": {
     "iopub.execute_input": "2024-09-25T13:52:43.606868Z",
     "iopub.status.busy": "2024-09-25T13:52:43.606868Z",
     "iopub.status.idle": "2024-09-25T13:52:44.322583Z",
     "shell.execute_reply": "2024-09-25T13:52:44.322583Z"
    }
   },
   "outputs": [],
   "source": [
    "from matplotlib import image as mpimg\n",
    "from matplotlib import pyplot as plt"
   ]
  },
  {
   "cell_type": "code",
   "execution_count": 17,
   "id": "ff8278ec",
   "metadata": {
    "execution": {
     "iopub.execute_input": "2024-09-25T13:52:44.322583Z",
     "iopub.status.busy": "2024-09-25T13:52:44.322583Z",
     "iopub.status.idle": "2024-09-25T13:52:44.412135Z",
     "shell.execute_reply": "2024-09-25T13:52:44.412135Z"
    }
   },
   "outputs": [
    {
     "ename": "NameError",
     "evalue": "name 'mechanical' is not defined",
     "output_type": "error",
     "traceback": [
      "\u001b[1;31m---------------------------------------------------------------------------\u001b[0m",
      "\u001b[1;31mNameError\u001b[0m                                 Traceback (most recent call last)",
      "Cell \u001b[1;32mIn[17], line 1\u001b[0m\n\u001b[1;32m----> 1\u001b[0m \u001b[43mmechanical\u001b[49m\u001b[38;5;241m.\u001b[39mrun_python_script(\u001b[38;5;124mf\u001b[39m\u001b[38;5;124m\"\u001b[39m\u001b[38;5;124mimage_dir=ExtAPI.DataModel.AnalysisList[1].WorkingDir\u001b[39m\u001b[38;5;124m\"\u001b[39m)\n",
      "\u001b[1;31mNameError\u001b[0m: name 'mechanical' is not defined"
     ]
    }
   ],
   "source": [
    "mechanical.run_python_script(f\"image_dir=ExtAPI.DataModel.AnalysisList[1].WorkingDir\")"
   ]
  },
  {
   "cell_type": "code",
   "execution_count": 18,
   "id": "0adcc0ef",
   "metadata": {
    "execution": {
     "iopub.execute_input": "2024-09-25T13:52:44.412135Z",
     "iopub.status.busy": "2024-09-25T13:52:44.412135Z",
     "iopub.status.idle": "2024-09-25T13:52:44.433516Z",
     "shell.execute_reply": "2024-09-25T13:52:44.433516Z"
    },
    "lines_to_next_cell": 1
   },
   "outputs": [
    {
     "ename": "NameError",
     "evalue": "name 'mechanical' is not defined",
     "output_type": "error",
     "traceback": [
      "\u001b[1;31m---------------------------------------------------------------------------\u001b[0m",
      "\u001b[1;31mNameError\u001b[0m                                 Traceback (most recent call last)",
      "Cell \u001b[1;32mIn[18], line 1\u001b[0m\n\u001b[1;32m----> 1\u001b[0m result_image_dir_server \u001b[38;5;241m=\u001b[39m \u001b[43mmechanical\u001b[49m\u001b[38;5;241m.\u001b[39mrun_python_script(\u001b[38;5;124mf\u001b[39m\u001b[38;5;124m\"\u001b[39m\u001b[38;5;124mimage_dir\u001b[39m\u001b[38;5;124m\"\u001b[39m)\n\u001b[0;32m      2\u001b[0m \u001b[38;5;28mprint\u001b[39m(\u001b[38;5;124mf\u001b[39m\u001b[38;5;124m\"\u001b[39m\u001b[38;5;124mImages are stored on the server at: \u001b[39m\u001b[38;5;132;01m{\u001b[39;00mresult_image_dir_server\u001b[38;5;132;01m}\u001b[39;00m\u001b[38;5;124m\"\u001b[39m)\n",
      "\u001b[1;31mNameError\u001b[0m: name 'mechanical' is not defined"
     ]
    }
   ],
   "source": [
    "result_image_dir_server = mechanical.run_python_script(f\"image_dir\")\n",
    "print(f\"Images are stored on the server at: {result_image_dir_server}\")"
   ]
  },
  {
   "cell_type": "code",
   "execution_count": 19,
   "id": "ee7640f7",
   "metadata": {
    "execution": {
     "iopub.execute_input": "2024-09-25T13:52:44.433516Z",
     "iopub.status.busy": "2024-09-25T13:52:44.433516Z",
     "iopub.status.idle": "2024-09-25T13:52:44.440002Z",
     "shell.execute_reply": "2024-09-25T13:52:44.440002Z"
    },
    "lines_to_next_cell": 1
   },
   "outputs": [],
   "source": [
    "def get_image_path(image_name):\n",
    "    return os.path.join(result_image_dir_server, image_name)"
   ]
  },
  {
   "cell_type": "code",
   "execution_count": 20,
   "id": "a755bf53",
   "metadata": {
    "execution": {
     "iopub.execute_input": "2024-09-25T13:52:44.440002Z",
     "iopub.status.busy": "2024-09-25T13:52:44.440002Z",
     "iopub.status.idle": "2024-09-25T13:52:44.447443Z",
     "shell.execute_reply": "2024-09-25T13:52:44.447443Z"
    },
    "lines_to_next_cell": 1
   },
   "outputs": [],
   "source": [
    "def display_image(path):\n",
    "    print(f\"Printing {path} using matplotlib\")\n",
    "    image1 = mpimg.imread(path)\n",
    "    plt.figure(figsize=(15, 15))\n",
    "    plt.axis(\"off\")\n",
    "    plt.imshow(image1)\n",
    "    plt.show()"
   ]
  },
  {
   "cell_type": "code",
   "execution_count": 21,
   "id": "dd2a5c80",
   "metadata": {
    "execution": {
     "iopub.execute_input": "2024-09-25T13:52:44.447443Z",
     "iopub.status.busy": "2024-09-25T13:52:44.447443Z",
     "iopub.status.idle": "2024-09-25T13:52:44.475360Z",
     "shell.execute_reply": "2024-09-25T13:52:44.475360Z"
    }
   },
   "outputs": [
    {
     "ename": "NameError",
     "evalue": "name 'result_image_dir_server' is not defined",
     "output_type": "error",
     "traceback": [
      "\u001b[1;31m---------------------------------------------------------------------------\u001b[0m",
      "\u001b[1;31mNameError\u001b[0m                                 Traceback (most recent call last)",
      "Cell \u001b[1;32mIn[21], line 2\u001b[0m\n\u001b[0;32m      1\u001b[0m image_name \u001b[38;5;241m=\u001b[39m \u001b[38;5;124m\"\u001b[39m\u001b[38;5;124mstress.png\u001b[39m\u001b[38;5;124m\"\u001b[39m\n\u001b[1;32m----> 2\u001b[0m image_path_server \u001b[38;5;241m=\u001b[39m \u001b[43mget_image_path\u001b[49m\u001b[43m(\u001b[49m\u001b[43mimage_name\u001b[49m\u001b[43m)\u001b[49m\n",
      "Cell \u001b[1;32mIn[19], line 2\u001b[0m, in \u001b[0;36mget_image_path\u001b[1;34m(image_name)\u001b[0m\n\u001b[0;32m      1\u001b[0m \u001b[38;5;28;01mdef\u001b[39;00m \u001b[38;5;21mget_image_path\u001b[39m(image_name):\n\u001b[1;32m----> 2\u001b[0m     \u001b[38;5;28;01mreturn\u001b[39;00m os\u001b[38;5;241m.\u001b[39mpath\u001b[38;5;241m.\u001b[39mjoin(\u001b[43mresult_image_dir_server\u001b[49m, image_name)\n",
      "\u001b[1;31mNameError\u001b[0m: name 'result_image_dir_server' is not defined"
     ]
    }
   ],
   "source": [
    "image_name = \"stress.png\"\n",
    "image_path_server = get_image_path(image_name)"
   ]
  },
  {
   "cell_type": "code",
   "execution_count": 22,
   "id": "9f3b1155",
   "metadata": {
    "execution": {
     "iopub.execute_input": "2024-09-25T13:52:44.475360Z",
     "iopub.status.busy": "2024-09-25T13:52:44.475360Z",
     "iopub.status.idle": "2024-09-25T13:52:44.498168Z",
     "shell.execute_reply": "2024-09-25T13:52:44.498168Z"
    }
   },
   "outputs": [
    {
     "ename": "NameError",
     "evalue": "name 'image_path_server' is not defined",
     "output_type": "error",
     "traceback": [
      "\u001b[1;31m---------------------------------------------------------------------------\u001b[0m",
      "\u001b[1;31mNameError\u001b[0m                                 Traceback (most recent call last)",
      "Cell \u001b[1;32mIn[22], line 1\u001b[0m\n\u001b[1;32m----> 1\u001b[0m \u001b[38;5;28;01mif\u001b[39;00m \u001b[43mimage_path_server\u001b[49m \u001b[38;5;241m!=\u001b[39m \u001b[38;5;124m\"\u001b[39m\u001b[38;5;124m\"\u001b[39m:\n\u001b[0;32m      2\u001b[0m     current_working_directory \u001b[38;5;241m=\u001b[39m os\u001b[38;5;241m.\u001b[39mgetcwd()\n\u001b[0;32m      4\u001b[0m     local_file_path_list \u001b[38;5;241m=\u001b[39m mechanical\u001b[38;5;241m.\u001b[39mdownload(\n\u001b[0;32m      5\u001b[0m         image_path_server, target_dir\u001b[38;5;241m=\u001b[39mcurrent_working_directory\n\u001b[0;32m      6\u001b[0m     )\n",
      "\u001b[1;31mNameError\u001b[0m: name 'image_path_server' is not defined"
     ]
    }
   ],
   "source": [
    "if image_path_server != \"\":\n",
    "    current_working_directory = os.getcwd()\n",
    "\n",
    "    local_file_path_list = mechanical.download(\n",
    "        image_path_server, target_dir=current_working_directory\n",
    "    )\n",
    "    image_local_path = local_file_path_list[0]\n",
    "    print(f\"Local image path : {image_local_path}\")\n",
    "    \n",
    "    display_image(image_local_path)"
   ]
  },
  {
   "cell_type": "markdown",
   "id": "e6f49563",
   "metadata": {},
   "source": [
    "Download all the files from the server to the current working directory. \n",
    "Verify the target and source paths and copy all files from the server to the client."
   ]
  },
  {
   "cell_type": "code",
   "execution_count": 23,
   "id": "d00646f8",
   "metadata": {
    "execution": {
     "iopub.execute_input": "2024-09-25T13:52:44.498168Z",
     "iopub.status.busy": "2024-09-25T13:52:44.498168Z",
     "iopub.status.idle": "2024-09-25T13:52:44.504794Z",
     "shell.execute_reply": "2024-09-25T13:52:44.504794Z"
    }
   },
   "outputs": [],
   "source": [
    "import shutil\n",
    "import glob"
   ]
  },
  {
   "cell_type": "code",
   "execution_count": 24,
   "id": "16033a98",
   "metadata": {
    "execution": {
     "iopub.execute_input": "2024-09-25T13:52:44.504794Z",
     "iopub.status.busy": "2024-09-25T13:52:44.504794Z",
     "iopub.status.idle": "2024-09-25T13:52:44.513108Z",
     "shell.execute_reply": "2024-09-25T13:52:44.513108Z"
    }
   },
   "outputs": [
    {
     "name": "stdout",
     "output_type": "stream",
     "text": [
      "Files to be copied from server path at: C:\\Users\\ansys\\actions-runner\\_work\\pyworkbench-examples\\pyworkbench-examples\\pyworkbench-examples\\doc\\source\\examples\\cooled-turbine-blade\n"
     ]
    }
   ],
   "source": [
    "current_working_directory = os.getcwd()\n",
    "target_dir2 = current_working_directory\n",
    "print(f\"Files to be copied from server path at: {target_dir2}\")"
   ]
  },
  {
   "cell_type": "code",
   "execution_count": 25,
   "id": "1905b65a",
   "metadata": {
    "execution": {
     "iopub.execute_input": "2024-09-25T13:52:44.513108Z",
     "iopub.status.busy": "2024-09-25T13:52:44.513108Z",
     "iopub.status.idle": "2024-09-25T13:52:44.536862Z",
     "shell.execute_reply": "2024-09-25T13:52:44.536862Z"
    }
   },
   "outputs": [
    {
     "ename": "NameError",
     "evalue": "name 'result_solve_dir_server' is not defined",
     "output_type": "error",
     "traceback": [
      "\u001b[1;31m---------------------------------------------------------------------------\u001b[0m",
      "\u001b[1;31mNameError\u001b[0m                                 Traceback (most recent call last)",
      "Cell \u001b[1;32mIn[25], line 1\u001b[0m\n\u001b[1;32m----> 1\u001b[0m \u001b[38;5;28mprint\u001b[39m(\u001b[38;5;124mf\u001b[39m\u001b[38;5;124m\"\u001b[39m\u001b[38;5;124mAll the solver file is stored on the server at: \u001b[39m\u001b[38;5;132;01m{\u001b[39;00m\u001b[43mresult_solve_dir_server\u001b[49m\u001b[38;5;132;01m}\u001b[39;00m\u001b[38;5;124m\"\u001b[39m)\n",
      "\u001b[1;31mNameError\u001b[0m: name 'result_solve_dir_server' is not defined"
     ]
    }
   ],
   "source": [
    "print(f\"All the solver file is stored on the server at: {result_solve_dir_server}\")"
   ]
  },
  {
   "cell_type": "code",
   "execution_count": 26,
   "id": "e8dd15fc",
   "metadata": {
    "execution": {
     "iopub.execute_input": "2024-09-25T13:52:44.536862Z",
     "iopub.status.busy": "2024-09-25T13:52:44.536862Z",
     "iopub.status.idle": "2024-09-25T13:52:44.558414Z",
     "shell.execute_reply": "2024-09-25T13:52:44.558414Z"
    }
   },
   "outputs": [
    {
     "ename": "NameError",
     "evalue": "name 'result_solve_dir_server' is not defined",
     "output_type": "error",
     "traceback": [
      "\u001b[1;31m---------------------------------------------------------------------------\u001b[0m",
      "\u001b[1;31mNameError\u001b[0m                                 Traceback (most recent call last)",
      "Cell \u001b[1;32mIn[26], line 1\u001b[0m\n\u001b[1;32m----> 1\u001b[0m source_dir \u001b[38;5;241m=\u001b[39m \u001b[43mresult_solve_dir_server\u001b[49m\n\u001b[0;32m      2\u001b[0m destination_dir \u001b[38;5;241m=\u001b[39m target_dir2\n",
      "\u001b[1;31mNameError\u001b[0m: name 'result_solve_dir_server' is not defined"
     ]
    }
   ],
   "source": [
    "source_dir = result_solve_dir_server\n",
    "destination_dir = target_dir2"
   ]
  },
  {
   "cell_type": "code",
   "execution_count": 27,
   "id": "cca249a2",
   "metadata": {
    "execution": {
     "iopub.execute_input": "2024-09-25T13:52:44.558414Z",
     "iopub.status.busy": "2024-09-25T13:52:44.558414Z",
     "iopub.status.idle": "2024-09-25T13:52:44.580338Z",
     "shell.execute_reply": "2024-09-25T13:52:44.580338Z"
    }
   },
   "outputs": [
    {
     "ename": "NameError",
     "evalue": "name 'source_dir' is not defined",
     "output_type": "error",
     "traceback": [
      "\u001b[1;31m---------------------------------------------------------------------------\u001b[0m",
      "\u001b[1;31mNameError\u001b[0m                                 Traceback (most recent call last)",
      "Cell \u001b[1;32mIn[27], line 1\u001b[0m\n\u001b[1;32m----> 1\u001b[0m \u001b[38;5;28;01mfor\u001b[39;00m file \u001b[38;5;129;01min\u001b[39;00m glob\u001b[38;5;241m.\u001b[39mglob(\u001b[43msource_dir\u001b[49m \u001b[38;5;241m+\u001b[39m \u001b[38;5;124m'\u001b[39m\u001b[38;5;124m/*\u001b[39m\u001b[38;5;124m'\u001b[39m):\n\u001b[0;32m      2\u001b[0m     shutil\u001b[38;5;241m.\u001b[39mcopy(file, destination_dir)\n",
      "\u001b[1;31mNameError\u001b[0m: name 'source_dir' is not defined"
     ]
    }
   ],
   "source": [
    "for file in glob.glob(source_dir + '/*'):\n",
    "    shutil.copy(file, destination_dir)"
   ]
  },
  {
   "cell_type": "markdown",
   "id": "594f2585",
   "metadata": {},
   "source": [
    "Finally, the `exit` method is called on both the PyMechanical and Workbench clients to gracefully shut down the services, ensuring that all resources are properly released."
   ]
  },
  {
   "cell_type": "code",
   "execution_count": 28,
   "id": "6e8380df",
   "metadata": {
    "execution": {
     "iopub.execute_input": "2024-09-25T13:52:44.580338Z",
     "iopub.status.busy": "2024-09-25T13:52:44.580338Z",
     "iopub.status.idle": "2024-09-25T13:52:44.606170Z",
     "shell.execute_reply": "2024-09-25T13:52:44.606170Z"
    }
   },
   "outputs": [
    {
     "ename": "NameError",
     "evalue": "name 'mechanical' is not defined",
     "output_type": "error",
     "traceback": [
      "\u001b[1;31m---------------------------------------------------------------------------\u001b[0m",
      "\u001b[1;31mNameError\u001b[0m                                 Traceback (most recent call last)",
      "Cell \u001b[1;32mIn[28], line 1\u001b[0m\n\u001b[1;32m----> 1\u001b[0m \u001b[43mmechanical\u001b[49m\u001b[38;5;241m.\u001b[39mexit()\n\u001b[0;32m      2\u001b[0m wb\u001b[38;5;241m.\u001b[39mexit()\n",
      "\u001b[1;31mNameError\u001b[0m: name 'mechanical' is not defined"
     ]
    }
   ],
   "source": [
    "mechanical.exit()\n",
    "wb.exit()"
   ]
  }
 ],
 "metadata": {
  "jupytext": {
   "cell_metadata_filter": "-all",
   "main_language": "python",
   "notebook_metadata_filter": "-all",
   "text_representation": {
    "extension": ".py",
    "format_name": "light"
   }
  },
  "language_info": {
   "codemirror_mode": {
    "name": "ipython",
    "version": 3
   },
   "file_extension": ".py",
   "mimetype": "text/x-python",
   "name": "python",
   "nbconvert_exporter": "python",
   "pygments_lexer": "ipython3",
   "version": "3.11.9"
  }
 },
 "nbformat": 4,
 "nbformat_minor": 5
}
